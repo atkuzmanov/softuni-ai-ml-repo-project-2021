{
 "cells": [
  {
   "cell_type": "code",
   "execution_count": 1,
   "id": "90e73a99",
   "metadata": {},
   "outputs": [],
   "source": [
    "%matplotlib inline"
   ]
  },
  {
   "cell_type": "code",
   "execution_count": 2,
   "id": "68f616c2",
   "metadata": {},
   "outputs": [],
   "source": [
    "### Imports\n",
    "import sympy\n",
    "import math\n",
    "import cmath\n",
    "import numpy as np\n",
    "import numpy.polynomial.polynomial as p\n",
    "import matplotlib.pyplot as plt\n",
    "from turtle import *\n",
    "import re\n",
    "from sympy.ntheory import discrete_log\n",
    "from matplotlib.transforms import Affine2D\n",
    "import skimage.io\n",
    "import time"
   ]
  },
  {
   "cell_type": "markdown",
   "id": "3bca4f77",
   "metadata": {},
   "source": [
    "# Cars, Features and MSRP\n",
    "---\n",
    "---\n",
    "---"
   ]
  },
  {
   "cell_type": "markdown",
   "id": "f487163d",
   "metadata": {},
   "source": [
    "<img src=\"./images/Mercedes-Benz W123 blueprints 1.jpg\" width=\"1080\"/>\n",
    "\n",
    "<div style=\"text-align: center\">Image created from the images, referenced below.</div>\n",
    "\n",
    "[[Reference]](#Pinterest---300TD-wheel-base?---1)\n",
    "\n",
    "[[Reference]](#Pinterest---300TD-wheel-base?---2)"
   ]
  },
  {
   "cell_type": "markdown",
   "id": "6c4487d1",
   "metadata": {},
   "source": [
    "---"
   ]
  },
  {
   "cell_type": "markdown",
   "id": "e3c41a61",
   "metadata": {},
   "source": [
    "## Introduction\n",
    "\n",
    "***Author:*** Atanas Kuzmanov\n",
    "\n",
    "***Date:*** 2021-October-12\n",
    "\n",
    "*This is an article developed as a scientific notebook for an exam project assignment for a Machine Learning course from an Artificial Intelligence module.*\n",
    "\n",
    "*One of the aims of this article is to also understand a bit of Machine Learning, more specifically to understand ML algorithms and how to improve them, so we can create models, train them, test them and extract predictions and information we might be interested in.*"
   ]
  },
  {
   "cell_type": "markdown",
   "id": "5a4328f2",
   "metadata": {},
   "source": [
    "---"
   ]
  },
  {
   "cell_type": "markdown",
   "id": "0cb30890",
   "metadata": {},
   "source": [
    "## Abstract"
   ]
  },
  {
   "cell_type": "markdown",
   "id": "5883ec78",
   "metadata": {},
   "source": [
    "*This article is an exploration and extension inspired by the following articles:*\n",
    "\n"
   ]
  },
  {
   "cell_type": "markdown",
   "id": "26902533",
   "metadata": {},
   "source": [
    "---"
   ]
  },
  {
   "cell_type": "markdown",
   "id": "7412b409",
   "metadata": {},
   "source": [
    "## Notes"
   ]
  },
  {
   "cell_type": "markdown",
   "id": "922e81a2",
   "metadata": {},
   "source": [
    "### References\n",
    "\n",
    "_Any and all references, citations, resources or other materials used to understand and explain, provide examples, and build this article have been referenced in order to give credit where credit is due and avoid plagiarism._\n",
    "_If a citation is the bigger part of a section, and has been edited, added to, modified, etc. the reference to that section would be at the end of it, separated with a horizontal line, like this example:_\n",
    "\n",
    "> ---\n",
    "> [[Example Reference]](#ExampleReference)\n",
    "\n",
    "_If a citation has been inserted and is relatively short, the relevant reference will be at the end of the sentence or paragraph, for example:_\n",
    "\n",
    "> Example. [[Example Reference]](#ExampleReference)\n",
    "\n",
    "_In case a reference is missed due to human error, all references can be found in the [References](#References) section._\n",
    "\n",
    "### Narrative\n",
    "\n",
    "_I have tried to provide a nice flow, ease of read and a friendly and humorous tone of the article, and at the same time clear and understandable communication. In order to aid this I have provided a narrative to this article. In order to distinguish it I have used italics for it throughout the article. Please consider any text in italics, such as the one you are currently reading, as narrative. It can also be both in bold and italics._\n",
    "\n",
    "> _Example narrative._\n",
    "\n",
    "### Code\n",
    "\n",
    "_Currently most of the code in the article has been refactored into separate functions and most of the other code in the article is left fragmented throughout. There is a very good reason for this, which is that one of the aims of this article is to also understand a bit of Machine Learning. This is why the fragments of code throughout this article are used to help us and illustrate and demonstrate different parts of ML as a whole._\n",
    "\n",
    "_Some of the code quality has been improved by making some functions idempotent with special checks, so that they have the same effect, no matter how many times they are ran._\n",
    "\n",
    "_Most of the commented out code in this article is left on purpose to serve as information, as part of the intent for this article is for it to be a knowledgebase._\n",
    "\n",
    "### Table of Contents (TOC)\n",
    "\n",
    "_Please refer to the [Table of Contents](#Table-of-Contents) section in [Appendix A](#Appendix-A) for instructions on how you can use get a Table of Contents for this article in Jupyter Notebook._\n",
    "\n",
    "### Running this Jupyter Notebook\n",
    "\n",
    "_This Jupyter Notebook is quite feature packed and it might take a bit longer to load, depending on the machine on which you are running it on. Please allow sufficient time for all of it to run all the way, until the last LaTeX formula, Markdown, Python, graphs, plots, images, etc. have loaded and executed. This also valid if you use `Kernel -> Restart & Run All`._\n",
    "\n",
    "### Testing\n",
    "\n",
    "#### Project tests\n",
    "\n",
    "- _Any mathematics in the project for which I have had doubts or have not understood I have tested using Wolfram Alpha._\n",
    "\n",
    "- _I have repeatedly ran \"Kernel -> Restart & Run All\" to confirm all is working and have fixed bugs when things have been broken._\n",
    "\n",
    "#### Code tests\n",
    "\n",
    "- _There are tests in the project. Since code tests are outside of the focus of this project most of the tests are visual print outs of the data and visual confirmations._\n",
    "\n",
    "- _Most of the tests in this project are visual and are marked with this \"### Test\" comment above it._\n",
    "\n",
    "- _There are also tests which are more functional and for example print a message if an assertion error is not thrown._\n",
    "\n",
    "_I consider this amount of test coverage adequate for the purpose of this article._ _Some might disagree and consider it insufficient, and to them I say:_\n",
    "\n",
    "<img src=\"./images/3a5.jpg\" width=\"320\"/>\n",
    "\n",
    "[[Reference]](#Austin-Powers---Live-dangerously-meme-1)\n"
   ]
  },
  {
   "cell_type": "markdown",
   "id": "00a04e5e",
   "metadata": {},
   "source": [
    "---"
   ]
  },
  {
   "cell_type": "markdown",
   "id": "aa7e296d",
   "metadata": {},
   "source": [
    "### Hypothesis<a id=\"Hypothesis\"></a>\n",
    "\n",
    "#### Null hypothesis $(H_{0})$<a id=\"NullHypothesis\"></a>\n",
    "\n",
    "*The Null hypothesis $(H_{0})$ tells us that the status quo is real, that nothing interesting happens.*\n",
    "\n",
    "*This is the hypothesis we are going to try and disprove, by demonstrating that an Alternative hypothesis $(H_{1})$ is true with experiments.*\n",
    "\n",
    "#### Alternative hypothesis $(H_{1})$<a id=\"AlternativeHypothesis\"></a>\n",
    "\n",
    "*The Alternative hypothesis $(H_{1})$ is what we are trying to demonstrate.*\n",
    "\n",
    "_**For the purpose of this article/notebook we will state the following topic, with it's Null and Alternative hypothesis.**_\n",
    "\n",
    "#### Topic:  We can use Machine Learning to predict MSRP (manufacturer’s suggested retail price) of cars.\n",
    "\n",
    "##### Null hypothesis 1 $(H_{0})$<a id=\"NullHypothesis1\"></a>\n",
    "\n",
    "- Null hypothesis 1 $(H_{0})$:\n",
    "\n",
    "    **We cannot use Machine Learning to predict MSRP (manufacturer’s suggested retail price) of cars.**\n",
    "\n",
    "##### Alternative hypothesis 1 $(H_{1})$<a id=\"AlternativeHypothesis1\"></a>\n",
    "\n",
    "- Alternative hypothesis 2 $(H_{1})$:\n",
    "\n",
    "    **We can use Machine Learning to predict MSRP (manufacturer’s suggested retail price) of cars.**"
   ]
  },
  {
   "cell_type": "markdown",
   "id": "868d64d6",
   "metadata": {},
   "source": [
    "---"
   ]
  },
  {
   "cell_type": "markdown",
   "id": "80adb6a6",
   "metadata": {},
   "source": [
    "## Research"
   ]
  },
  {
   "cell_type": "markdown",
   "id": "c4deb8b7",
   "metadata": {},
   "source": []
  },
  {
   "cell_type": "markdown",
   "id": "6ea2957c",
   "metadata": {},
   "source": [
    "---"
   ]
  },
  {
   "cell_type": "markdown",
   "id": "f63b14b0",
   "metadata": {},
   "source": [
    "## Data"
   ]
  },
  {
   "cell_type": "markdown",
   "id": "5c1f4e80",
   "metadata": {},
   "source": [
    "_The data:_\n",
    "\n",
    "_Here is a data set from [[kaggle.com]](#kaggle.com)_\n",
    "\n",
    "> Car Features and MSRP\n",
    "> Includes features such as make, model, year, and engine type to predict price\n",
    "\n",
    "[[Reference]](#kaggle---Car-Features-and-MSRP)"
   ]
  },
  {
   "cell_type": "code",
   "execution_count": null,
   "id": "dfa4ce60",
   "metadata": {},
   "outputs": [],
   "source": []
  },
  {
   "cell_type": "code",
   "execution_count": null,
   "id": "505c61ee",
   "metadata": {},
   "outputs": [],
   "source": []
  },
  {
   "cell_type": "markdown",
   "id": "3c87a422",
   "metadata": {},
   "source": [
    "---"
   ]
  },
  {
   "cell_type": "markdown",
   "id": "1fcbd8e5",
   "metadata": {},
   "source": []
  },
  {
   "cell_type": "markdown",
   "id": "091c5647",
   "metadata": {},
   "source": []
  },
  {
   "cell_type": "markdown",
   "id": "e627bb35",
   "metadata": {},
   "source": [
    "---"
   ]
  },
  {
   "cell_type": "code",
   "execution_count": null,
   "id": "916517b6",
   "metadata": {},
   "outputs": [],
   "source": []
  },
  {
   "cell_type": "code",
   "execution_count": null,
   "id": "9f0ac436",
   "metadata": {},
   "outputs": [],
   "source": []
  },
  {
   "cell_type": "code",
   "execution_count": null,
   "id": "5500599c",
   "metadata": {},
   "outputs": [],
   "source": []
  },
  {
   "cell_type": "code",
   "execution_count": null,
   "id": "f804ea73",
   "metadata": {},
   "outputs": [],
   "source": []
  },
  {
   "cell_type": "markdown",
   "id": "a3dcd82f",
   "metadata": {},
   "source": []
  },
  {
   "cell_type": "markdown",
   "id": "f6aca6a7",
   "metadata": {},
   "source": [
    "---"
   ]
  },
  {
   "cell_type": "markdown",
   "id": "636d8836",
   "metadata": {},
   "source": [
    "## Appendix A<a id=\"AppendixA\"></a>"
   ]
  },
  {
   "cell_type": "markdown",
   "id": "3ae6d449",
   "metadata": {},
   "source": [
    "### Glossary"
   ]
  },
  {
   "cell_type": "markdown",
   "id": "d43ba755",
   "metadata": {},
   "source": [
    "- MSRP - manufacturer’s suggested retail price"
   ]
  },
  {
   "cell_type": "markdown",
   "id": "b1d77746",
   "metadata": {},
   "source": [
    "---"
   ]
  },
  {
   "cell_type": "markdown",
   "id": "d28ed50a",
   "metadata": {},
   "source": [
    "## References <a id=\"ReferencesSection\"></a>"
   ]
  },
  {
   "cell_type": "markdown",
   "id": "e737d042",
   "metadata": {},
   "source": [
    "### kaggle.com\n",
    "<https://www.kaggle.com/CooperUnion/cardataset>\n",
    "\n",
    "### kaggle - Car Features and MSRP\n",
    "<https://www.kaggle.com/CooperUnion/cardataset>\n",
    "\n",
    "### kaggle - Car Features and MSRP code\n",
    "<https://www.kaggle.com/CooperUnion/cardataset/code>\n",
    "\n",
    "---\n",
    "\n",
    "### Car Features and Price Prediction - VAISHNAVI.KHILARI\n",
    "<https://www.kaggle.com/vaishnavikhilari/car-features-and-price-prediction>\n",
    "\n",
    "### BeginnersGuidetoEDA+Prediction - DEVSON\n",
    "<https://www.kaggle.com/devson/beginnersguidetoeda-prediction>\n",
    "\n",
    "### linear reggresion - SAICHARAN REDDY\n",
    "<https://www.kaggle.com/sai2119/linear-reggresion>\n",
    "\n",
    "### Simple and quick EDA - BRYANB\n",
    "<https://www.kaggle.com/bryanb/simple-and-quick-eda>\n",
    "\n",
    "### XGBoost explainability with SHAP - BRYANB\n",
    "<https://www.kaggle.com/bryanb/xgboost-explainability-with-shap>\n",
    "\n",
    "### UsedCarPricePrediction - ANIRBANK\n",
    "<https://www.kaggle.com/anirbank/usedcarpriceprediction>\n",
    "\n",
    "### Car Price Prediction - JEFFREY SHIH \n",
    "<https://www.kaggle.com/jshih7/car-price-prediction>\n",
    "\n",
    "### Car Retail Price Prediction - GABRIEL ATKIN\n",
    "<https://www.kaggle.com/gcdatkin/car-retail-price-prediction>\n",
    "\n",
    "### MSRP Prediction - PHAN NGUYEN\n",
    "<https://www.kaggle.com/heolinhdam/msrp-prediction>\n",
    "\n",
    "### Car Price Prediction - OMAR22\n",
    "<https://www.kaggle.com/omar22/car-price-prediction>\n",
    "\n",
    "### Car Price Pridiction - NIKHIL SHRESTHA\n",
    "<https://www.kaggle.com/snikhil17/car-price-pridiction>\n",
    "\n",
    "### EDA on Car Price Pridiction - NIKHIL SHRESTHA\n",
    "<https://www.kaggle.com/snikhil17/eda-on-car-price-pridiction>\n",
    "\n",
    "---\n",
    "\n",
    "### Dynamic Pricing Explained: Machine Learning in Revenue Management and Pricing Optimization\n",
    "<https://www.altexsoft.com/blog/datascience/dynamic-pricing-explained-use-in-revenue-management-and-pricing-optimization/>\n",
    "\n",
    "### Argonne’s machine learning model estimates technology contributions towards MSRP\n",
    "<https://www.anl.gov/es/article/argonnes-machine-learning-model-estimates-technology-contributions-towards-msrp>\n",
    "\n",
    "### How Machine Learning is reshaping Price Optimization\n",
    "<https://tryolabs.com/blog/price-optimization-machine-learning/>\n",
    "\n",
    "---\n",
    "\n",
    "### \n",
    "<>\n",
    "\n",
    "### \n",
    "<>\n",
    "\n",
    "### \n",
    "<>\n",
    "\n",
    "### \n",
    "<>\n",
    "\n",
    "### \n",
    "<>\n",
    "\n",
    "### \n",
    "<>\n",
    "\n",
    "### \n",
    "<>\n",
    "\n",
    "### \n",
    "<>\n",
    "\n",
    "### \n",
    "<>\n",
    "\n",
    "### \n",
    "<>\n",
    "\n",
    "### \n",
    "<>\n",
    "\n",
    "### \n",
    "<>\n",
    "\n",
    "### \n",
    "<>\n",
    "\n",
    "### \n",
    "<>\n",
    "\n",
    "### \n",
    "<>\n"
   ]
  },
  {
   "cell_type": "markdown",
   "id": "a440e8d3",
   "metadata": {},
   "source": [
    "---"
   ]
  },
  {
   "cell_type": "markdown",
   "id": "d2037be6",
   "metadata": {},
   "source": [
    "### Pinterest - 300TD wheel base? - 1\n",
    "<https://www.pinterest.com/pin/321022279665496029/>\n",
    "\n",
    "### Pinterest - 300TD wheel base? - 2\n",
    "<https://i.pinimg.com/originals/1a/f8/8c/1af88cc04b0735e2151db4f2a4a94d4d.jpg>\n",
    "\n",
    "### Austin Powers - Live dangerously meme 1\n",
    "<https://i.kym-cdn.com/photos/images/newsfeed/000/511/991/3a5.jpg>\n",
    "\n",
    "### \n",
    "<>\n",
    "\n",
    "### \n",
    "<>\n",
    "\n",
    "### \n",
    "<>"
   ]
  },
  {
   "cell_type": "markdown",
   "id": "e658f428",
   "metadata": {},
   "source": [
    "---"
   ]
  }
 ],
 "metadata": {
  "kernelspec": {
   "display_name": "Python 3",
   "language": "python",
   "name": "python3"
  },
  "language_info": {
   "codemirror_mode": {
    "name": "ipython",
    "version": 3
   },
   "file_extension": ".py",
   "mimetype": "text/x-python",
   "name": "python",
   "nbconvert_exporter": "python",
   "pygments_lexer": "ipython3",
   "version": "3.8.8"
  },
  "toc": {
   "base_numbering": 1,
   "nav_menu": {},
   "number_sections": true,
   "sideBar": true,
   "skip_h1_title": false,
   "title_cell": "Table of Contents",
   "title_sidebar": "Contents",
   "toc_cell": false,
   "toc_position": {},
   "toc_section_display": true,
   "toc_window_display": false
  }
 },
 "nbformat": 4,
 "nbformat_minor": 5
}
