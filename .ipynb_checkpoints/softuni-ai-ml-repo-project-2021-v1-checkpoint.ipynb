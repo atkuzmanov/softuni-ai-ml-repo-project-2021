{
 "cells": [
  {
   "cell_type": "code",
   "execution_count": 1,
   "id": "90e73a99",
   "metadata": {},
   "outputs": [],
   "source": [
    "%matplotlib inline"
   ]
  },
  {
   "cell_type": "code",
   "execution_count": 5,
   "id": "68f616c2",
   "metadata": {},
   "outputs": [],
   "source": [
    "### Imports:\n",
    "import sympy\n",
    "import math\n",
    "import cmath\n",
    "import numpy as np\n",
    "import numpy.polynomial.polynomial as p\n",
    "import matplotlib.pyplot as plt\n",
    "from turtle import *\n",
    "import re\n",
    "from sympy.ntheory import discrete_log\n",
    "from matplotlib.transforms import Affine2D\n",
    "import skimage.io\n",
    "import time"
   ]
  },
  {
   "cell_type": "code",
   "execution_count": 4,
   "id": "59660d7d",
   "metadata": {},
   "outputs": [],
   "source": [
    "### Other imports:"
   ]
  },
  {
   "cell_type": "code",
   "execution_count": 6,
   "id": "e75b6736",
   "metadata": {},
   "outputs": [
    {
     "ename": "ModuleNotFoundError",
     "evalue": "No module named 'plotly'",
     "output_type": "error",
     "traceback": [
      "\u001b[0;31m---------------------------------------------------------------------------\u001b[0m",
      "\u001b[0;31mModuleNotFoundError\u001b[0m                       Traceback (most recent call last)",
      "\u001b[0;32m<ipython-input-6-b6bbad1b24d1>\u001b[0m in \u001b[0;36m<module>\u001b[0;34m\u001b[0m\n\u001b[1;32m      3\u001b[0m \u001b[0;32mimport\u001b[0m \u001b[0mseaborn\u001b[0m \u001b[0;32mas\u001b[0m \u001b[0msns\u001b[0m\u001b[0;34m\u001b[0m\u001b[0;34m\u001b[0m\u001b[0m\n\u001b[1;32m      4\u001b[0m \u001b[0;32mimport\u001b[0m \u001b[0mmatplotlib\u001b[0m\u001b[0;34m.\u001b[0m\u001b[0mpyplot\u001b[0m \u001b[0;32mas\u001b[0m \u001b[0mplt\u001b[0m\u001b[0;34m\u001b[0m\u001b[0;34m\u001b[0m\u001b[0m\n\u001b[0;32m----> 5\u001b[0;31m \u001b[0;32mimport\u001b[0m \u001b[0mplotly\u001b[0m\u001b[0;34m.\u001b[0m\u001b[0mgraph_objects\u001b[0m \u001b[0;32mas\u001b[0m \u001b[0mgo\u001b[0m\u001b[0;34m\u001b[0m\u001b[0;34m\u001b[0m\u001b[0m\n\u001b[0m\u001b[1;32m      6\u001b[0m \u001b[0;32mimport\u001b[0m \u001b[0mplotly\u001b[0m\u001b[0;34m.\u001b[0m\u001b[0mexpress\u001b[0m \u001b[0;32mas\u001b[0m \u001b[0mpx\u001b[0m\u001b[0;34m\u001b[0m\u001b[0;34m\u001b[0m\u001b[0m\n",
      "\u001b[0;31mModuleNotFoundError\u001b[0m: No module named 'plotly'"
     ]
    }
   ],
   "source": [
    "import pandas as pd\n",
    "import numpy as np\n",
    "import seaborn as sns\n",
    "import matplotlib.pyplot as plt\n",
    "import plotly.graph_objects as go\n",
    "import plotly.express as px"
   ]
  },
  {
   "cell_type": "markdown",
   "id": "5403ea23",
   "metadata": {},
   "source": [
    "# Cars, Features and MSRP\n",
    "---\n",
    "---\n",
    "---"
   ]
  },
  {
   "cell_type": "markdown",
   "id": "5ebcb636",
   "metadata": {},
   "source": [
    "<img src=\"./images/Mercedes-Benz W123 blueprints 1.jpg\" width=\"1080\"/>\n",
    "\n",
    "<div style=\"text-align: center\">Image created from the images, referenced below.</div>\n",
    "\n",
    "[[Reference]](#Pinterest---300TD-wheel-base?---1)\n",
    "\n",
    "[[Reference]](#Pinterest---300TD-wheel-base?---2)"
   ]
  },
  {
   "cell_type": "markdown",
   "id": "bc6924d0",
   "metadata": {},
   "source": [
    "---"
   ]
  },
  {
   "cell_type": "markdown",
   "id": "0fc0f455",
   "metadata": {},
   "source": [
    "## Introduction\n",
    "\n",
    "***Author:*** Atanas Kuzmanov\n",
    "\n",
    "***Date:*** 2021-October-12\n",
    "\n",
    "*This is an article developed as a scientific notebook for an exam project assignment for a Machine Learning course from an Artificial Intelligence module.*\n",
    "\n",
    "*One of the aims of this article is to also understand a bit of Machine Learning, more specifically to understand ML algorithms and how to improve them, so we can create models, train them, test them and extract predictions and information we might be interested in.*"
   ]
  },
  {
   "cell_type": "markdown",
   "id": "8e05d026",
   "metadata": {},
   "source": [
    "---"
   ]
  },
  {
   "cell_type": "markdown",
   "id": "90eebfb5",
   "metadata": {},
   "source": [
    "## Abstract"
   ]
  },
  {
   "cell_type": "markdown",
   "id": "b14402b0",
   "metadata": {},
   "source": [
    "*This article is an exploration and extension inspired by the following articles:*\n",
    "\n"
   ]
  },
  {
   "cell_type": "markdown",
   "id": "eb51f680",
   "metadata": {},
   "source": [
    "---"
   ]
  },
  {
   "cell_type": "markdown",
   "id": "29ce884c",
   "metadata": {},
   "source": [
    "## Notes"
   ]
  },
  {
   "cell_type": "markdown",
   "id": "ee437269",
   "metadata": {},
   "source": [
    "### References\n",
    "\n",
    "_Any and all references, citations, resources or other materials used to understand and explain, provide examples, and build this article have been referenced in order to give credit where credit is due and avoid plagiarism._\n",
    "_If a citation is the bigger part of a section, and has been edited, added to, modified, etc. the reference to that section would be at the end of it, separated with a horizontal line, like this example:_\n",
    "\n",
    "> ---\n",
    "> [[Example Reference]](#ExampleReference)\n",
    "\n",
    "_If a citation has been inserted and is relatively short, the relevant reference will be at the end of the sentence or paragraph, for example:_\n",
    "\n",
    "> Example. [[Example Reference]](#ExampleReference)\n",
    "\n",
    "_In case a reference is missed due to human error, all references can be found in the [References](#References) section._\n",
    "\n",
    "### Narrative\n",
    "\n",
    "_I have tried to provide a nice flow, ease of read and a friendly and humorous tone of the article, and at the same time clear and understandable communication. In order to aid this I have provided a narrative to this article. In order to distinguish it I have used italics for it throughout the article. Please consider any text in italics, such as the one you are currently reading, as narrative. It can also be both in bold and italics._\n",
    "\n",
    "> _Example narrative._\n",
    "\n",
    "### Code\n",
    "\n",
    "_Currently most of the code in the article has been refactored into separate functions and most of the other code in the article is left fragmented throughout. There is a very good reason for this, which is that one of the aims of this article is to also understand a bit of Machine Learning. This is why the fragments of code throughout this article are used to help us and illustrate and demonstrate different parts of ML as a whole._\n",
    "\n",
    "_Some of the code quality has been improved by making some functions idempotent with special checks, so that they have the same effect, no matter how many times they are ran._\n",
    "\n",
    "_Most of the commented out code in this article is left on purpose to serve as information, as part of the intent for this article is for it to be a knowledgebase._\n",
    "\n",
    "### Table of Contents (TOC)\n",
    "\n",
    "_Please refer to the [Table of Contents](#Table-of-Contents) section in [Appendix A](#Appendix-A) for instructions on how you can use get a Table of Contents for this article in Jupyter Notebook._\n",
    "\n",
    "### Running this Jupyter Notebook\n",
    "\n",
    "_This Jupyter Notebook is quite feature packed and it might take a bit longer to load, depending on the machine on which you are running it on. Please allow sufficient time for all of it to run all the way, until the last LaTeX formula, Markdown, Python, graphs, plots, images, etc. have loaded and executed. This also valid if you use `Kernel -> Restart & Run All`._\n",
    "\n",
    "### Testing\n",
    "\n",
    "#### Project tests\n",
    "\n",
    "- _Any mathematics in the project for which I have had doubts or have not understood I have tested using Wolfram Alpha._\n",
    "\n",
    "- _I have repeatedly ran \"Kernel -> Restart & Run All\" to confirm all is working and have fixed bugs when things have been broken._\n",
    "\n",
    "#### Code tests\n",
    "\n",
    "- _There are tests in the project. Since code tests are outside of the focus of this project most of the tests are visual print outs of the data and visual confirmations._\n",
    "\n",
    "- _Most of the tests in this project are visual and are marked with this \"### Test\" comment above it._\n",
    "\n",
    "- _There are also tests which are more functional and for example print a message if an assertion error is not thrown._\n",
    "\n",
    "_I consider this amount of test coverage adequate for the purpose of this article._ _Some might disagree and consider it insufficient, and to them I say:_\n",
    "\n",
    "<img src=\"./images/3a5.jpg\" width=\"320\"/>\n",
    "\n",
    "[[Reference]](#Austin-Powers---Live-dangerously-meme-1)\n"
   ]
  },
  {
   "cell_type": "markdown",
   "id": "db9db6f4",
   "metadata": {},
   "source": [
    "---"
   ]
  },
  {
   "cell_type": "markdown",
   "id": "45c683f5",
   "metadata": {},
   "source": [
    "### Hypothesis<a id=\"Hypothesis\"></a>\n",
    "\n",
    "#### Null hypothesis $(H_{0})$<a id=\"NullHypothesis\"></a>\n",
    "\n",
    "*The Null hypothesis $(H_{0})$ tells us that the status quo is real, that nothing interesting happens.*\n",
    "\n",
    "*This is the hypothesis we are going to try and disprove, by demonstrating that an Alternative hypothesis $(H_{1})$ is true with experiments.*\n",
    "\n",
    "#### Alternative hypothesis $(H_{1})$<a id=\"AlternativeHypothesis\"></a>\n",
    "\n",
    "*The Alternative hypothesis $(H_{1})$ is what we are trying to demonstrate.*\n",
    "\n",
    "_**For the purpose of this article/notebook we will state the following topic, with it's Null and Alternative hypothesis.**_\n",
    "\n",
    "#### Topic:  We can use Machine Learning to predict MSRP (manufacturer’s suggested retail price) of cars.\n",
    "\n",
    "##### Null hypothesis 1 $(H_{0})$<a id=\"NullHypothesis1\"></a>\n",
    "\n",
    "- Null hypothesis 1 $(H_{0})$:\n",
    "\n",
    "    **We cannot use Machine Learning to predict MSRP (manufacturer’s suggested retail price) of cars.**\n",
    "\n",
    "##### Alternative hypothesis 1 $(H_{1})$<a id=\"AlternativeHypothesis1\"></a>\n",
    "\n",
    "- Alternative hypothesis 2 $(H_{1})$:\n",
    "\n",
    "    **We can use Machine Learning to predict MSRP (manufacturer’s suggested retail price) of cars.**"
   ]
  },
  {
   "cell_type": "markdown",
   "id": "f5e8c705",
   "metadata": {},
   "source": [
    "---"
   ]
  },
  {
   "cell_type": "markdown",
   "id": "acbd89b5",
   "metadata": {},
   "source": [
    "## Research"
   ]
  },
  {
   "cell_type": "markdown",
   "id": "bbf34e9a",
   "metadata": {},
   "source": []
  },
  {
   "cell_type": "markdown",
   "id": "e1ed9052",
   "metadata": {},
   "source": [
    "---"
   ]
  },
  {
   "cell_type": "markdown",
   "id": "34c4b6f1",
   "metadata": {},
   "source": [
    "## Data"
   ]
  },
  {
   "cell_type": "markdown",
   "id": "125de646",
   "metadata": {},
   "source": [
    "_The data:_\n",
    "\n",
    "_Here is a data set from [[kaggle.com]](#kaggle.com)_\n",
    "\n",
    "> Car Features and MSRP\n",
    "> Includes features such as make, model, year, and engine type to predict price\n",
    "\n",
    "[[Reference]](#kaggle---Car-Features-and-MSRP)"
   ]
  },
  {
   "cell_type": "markdown",
   "id": "33bdf20c",
   "metadata": {},
   "source": [
    "### Exploratory Data Analysis (EDA)"
   ]
  },
  {
   "cell_type": "markdown",
   "id": "1d81002f",
   "metadata": {},
   "source": [
    "_Reading the data:_"
   ]
  },
  {
   "cell_type": "code",
   "execution_count": 7,
   "id": "dfa4ce60",
   "metadata": {},
   "outputs": [],
   "source": [
    "### Reading the data.\n",
    "df = pd.read_csv(\n",
    "    filepath_or_buffer='./data/car-features-and-msrp-data.csv',\n",
    "    sep=',',\n",
    "    engine='python')"
   ]
  },
  {
   "cell_type": "code",
   "execution_count": 8,
   "id": "505c61ee",
   "metadata": {},
   "outputs": [
    {
     "data": {
      "text/html": [
       "<div>\n",
       "<style scoped>\n",
       "    .dataframe tbody tr th:only-of-type {\n",
       "        vertical-align: middle;\n",
       "    }\n",
       "\n",
       "    .dataframe tbody tr th {\n",
       "        vertical-align: top;\n",
       "    }\n",
       "\n",
       "    .dataframe thead th {\n",
       "        text-align: right;\n",
       "    }\n",
       "</style>\n",
       "<table border=\"1\" class=\"dataframe\">\n",
       "  <thead>\n",
       "    <tr style=\"text-align: right;\">\n",
       "      <th></th>\n",
       "      <th>Make</th>\n",
       "      <th>Model</th>\n",
       "      <th>Year</th>\n",
       "      <th>Engine Fuel Type</th>\n",
       "      <th>Engine HP</th>\n",
       "      <th>Engine Cylinders</th>\n",
       "      <th>Transmission Type</th>\n",
       "      <th>Driven_Wheels</th>\n",
       "      <th>Number of Doors</th>\n",
       "      <th>Market Category</th>\n",
       "      <th>Vehicle Size</th>\n",
       "      <th>Vehicle Style</th>\n",
       "      <th>highway MPG</th>\n",
       "      <th>city mpg</th>\n",
       "      <th>Popularity</th>\n",
       "      <th>MSRP</th>\n",
       "    </tr>\n",
       "  </thead>\n",
       "  <tbody>\n",
       "    <tr>\n",
       "      <th>0</th>\n",
       "      <td>BMW</td>\n",
       "      <td>1 Series M</td>\n",
       "      <td>2011</td>\n",
       "      <td>premium unleaded (required)</td>\n",
       "      <td>335.0</td>\n",
       "      <td>6.0</td>\n",
       "      <td>MANUAL</td>\n",
       "      <td>rear wheel drive</td>\n",
       "      <td>2.0</td>\n",
       "      <td>Factory Tuner,Luxury,High-Performance</td>\n",
       "      <td>Compact</td>\n",
       "      <td>Coupe</td>\n",
       "      <td>26</td>\n",
       "      <td>19</td>\n",
       "      <td>3916</td>\n",
       "      <td>46135</td>\n",
       "    </tr>\n",
       "    <tr>\n",
       "      <th>1</th>\n",
       "      <td>BMW</td>\n",
       "      <td>1 Series</td>\n",
       "      <td>2011</td>\n",
       "      <td>premium unleaded (required)</td>\n",
       "      <td>300.0</td>\n",
       "      <td>6.0</td>\n",
       "      <td>MANUAL</td>\n",
       "      <td>rear wheel drive</td>\n",
       "      <td>2.0</td>\n",
       "      <td>Luxury,Performance</td>\n",
       "      <td>Compact</td>\n",
       "      <td>Convertible</td>\n",
       "      <td>28</td>\n",
       "      <td>19</td>\n",
       "      <td>3916</td>\n",
       "      <td>40650</td>\n",
       "    </tr>\n",
       "    <tr>\n",
       "      <th>2</th>\n",
       "      <td>BMW</td>\n",
       "      <td>1 Series</td>\n",
       "      <td>2011</td>\n",
       "      <td>premium unleaded (required)</td>\n",
       "      <td>300.0</td>\n",
       "      <td>6.0</td>\n",
       "      <td>MANUAL</td>\n",
       "      <td>rear wheel drive</td>\n",
       "      <td>2.0</td>\n",
       "      <td>Luxury,High-Performance</td>\n",
       "      <td>Compact</td>\n",
       "      <td>Coupe</td>\n",
       "      <td>28</td>\n",
       "      <td>20</td>\n",
       "      <td>3916</td>\n",
       "      <td>36350</td>\n",
       "    </tr>\n",
       "    <tr>\n",
       "      <th>3</th>\n",
       "      <td>BMW</td>\n",
       "      <td>1 Series</td>\n",
       "      <td>2011</td>\n",
       "      <td>premium unleaded (required)</td>\n",
       "      <td>230.0</td>\n",
       "      <td>6.0</td>\n",
       "      <td>MANUAL</td>\n",
       "      <td>rear wheel drive</td>\n",
       "      <td>2.0</td>\n",
       "      <td>Luxury,Performance</td>\n",
       "      <td>Compact</td>\n",
       "      <td>Coupe</td>\n",
       "      <td>28</td>\n",
       "      <td>18</td>\n",
       "      <td>3916</td>\n",
       "      <td>29450</td>\n",
       "    </tr>\n",
       "    <tr>\n",
       "      <th>4</th>\n",
       "      <td>BMW</td>\n",
       "      <td>1 Series</td>\n",
       "      <td>2011</td>\n",
       "      <td>premium unleaded (required)</td>\n",
       "      <td>230.0</td>\n",
       "      <td>6.0</td>\n",
       "      <td>MANUAL</td>\n",
       "      <td>rear wheel drive</td>\n",
       "      <td>2.0</td>\n",
       "      <td>Luxury</td>\n",
       "      <td>Compact</td>\n",
       "      <td>Convertible</td>\n",
       "      <td>28</td>\n",
       "      <td>18</td>\n",
       "      <td>3916</td>\n",
       "      <td>34500</td>\n",
       "    </tr>\n",
       "  </tbody>\n",
       "</table>\n",
       "</div>"
      ],
      "text/plain": [
       "  Make       Model  Year             Engine Fuel Type  Engine HP  \\\n",
       "0  BMW  1 Series M  2011  premium unleaded (required)      335.0   \n",
       "1  BMW    1 Series  2011  premium unleaded (required)      300.0   \n",
       "2  BMW    1 Series  2011  premium unleaded (required)      300.0   \n",
       "3  BMW    1 Series  2011  premium unleaded (required)      230.0   \n",
       "4  BMW    1 Series  2011  premium unleaded (required)      230.0   \n",
       "\n",
       "   Engine Cylinders Transmission Type     Driven_Wheels  Number of Doors  \\\n",
       "0               6.0            MANUAL  rear wheel drive              2.0   \n",
       "1               6.0            MANUAL  rear wheel drive              2.0   \n",
       "2               6.0            MANUAL  rear wheel drive              2.0   \n",
       "3               6.0            MANUAL  rear wheel drive              2.0   \n",
       "4               6.0            MANUAL  rear wheel drive              2.0   \n",
       "\n",
       "                         Market Category Vehicle Size Vehicle Style  \\\n",
       "0  Factory Tuner,Luxury,High-Performance      Compact         Coupe   \n",
       "1                     Luxury,Performance      Compact   Convertible   \n",
       "2                Luxury,High-Performance      Compact         Coupe   \n",
       "3                     Luxury,Performance      Compact         Coupe   \n",
       "4                                 Luxury      Compact   Convertible   \n",
       "\n",
       "   highway MPG  city mpg  Popularity   MSRP  \n",
       "0           26        19        3916  46135  \n",
       "1           28        19        3916  40650  \n",
       "2           28        20        3916  36350  \n",
       "3           28        18        3916  29450  \n",
       "4           28        18        3916  34500  "
      ]
     },
     "execution_count": 8,
     "metadata": {},
     "output_type": "execute_result"
    }
   ],
   "source": [
    "df.head()"
   ]
  },
  {
   "cell_type": "markdown",
   "id": "0680c28c",
   "metadata": {},
   "source": [
    "_Getting familiar with the data:_"
   ]
  },
  {
   "cell_type": "code",
   "execution_count": 10,
   "id": "aab80fd2",
   "metadata": {},
   "outputs": [
    {
     "data": {
      "text/plain": [
       "(11914, 16)"
      ]
     },
     "execution_count": 10,
     "metadata": {},
     "output_type": "execute_result"
    }
   ],
   "source": [
    "df.shape"
   ]
  },
  {
   "cell_type": "code",
   "execution_count": 11,
   "id": "9429c2ec",
   "metadata": {},
   "outputs": [
    {
     "data": {
      "text/plain": [
       "Index(['Make', 'Model', 'Year', 'Engine Fuel Type', 'Engine HP',\n",
       "       'Engine Cylinders', 'Transmission Type', 'Driven_Wheels',\n",
       "       'Number of Doors', 'Market Category', 'Vehicle Size', 'Vehicle Style',\n",
       "       'highway MPG', 'city mpg', 'Popularity', 'MSRP'],\n",
       "      dtype='object')"
      ]
     },
     "execution_count": 11,
     "metadata": {},
     "output_type": "execute_result"
    }
   ],
   "source": [
    "df.columns"
   ]
  },
  {
   "cell_type": "code",
   "execution_count": 12,
   "id": "b76d7fe4",
   "metadata": {},
   "outputs": [
    {
     "data": {
      "text/plain": [
       "Make                  object\n",
       "Model                 object\n",
       "Year                   int64\n",
       "Engine Fuel Type      object\n",
       "Engine HP            float64\n",
       "Engine Cylinders     float64\n",
       "Transmission Type     object\n",
       "Driven_Wheels         object\n",
       "Number of Doors      float64\n",
       "Market Category       object\n",
       "Vehicle Size          object\n",
       "Vehicle Style         object\n",
       "highway MPG            int64\n",
       "city mpg               int64\n",
       "Popularity             int64\n",
       "MSRP                   int64\n",
       "dtype: object"
      ]
     },
     "execution_count": 12,
     "metadata": {},
     "output_type": "execute_result"
    }
   ],
   "source": [
    "df.dtypes"
   ]
  },
  {
   "cell_type": "code",
   "execution_count": null,
   "id": "cfd9ad97",
   "metadata": {},
   "outputs": [],
   "source": []
  },
  {
   "cell_type": "code",
   "execution_count": null,
   "id": "0882a98a",
   "metadata": {},
   "outputs": [],
   "source": []
  },
  {
   "cell_type": "code",
   "execution_count": null,
   "id": "47285394",
   "metadata": {},
   "outputs": [],
   "source": []
  },
  {
   "cell_type": "code",
   "execution_count": null,
   "id": "c6d405e3",
   "metadata": {},
   "outputs": [],
   "source": []
  },
  {
   "cell_type": "code",
   "execution_count": null,
   "id": "58b2ec65",
   "metadata": {},
   "outputs": [],
   "source": []
  },
  {
   "cell_type": "code",
   "execution_count": null,
   "id": "7c4070de",
   "metadata": {},
   "outputs": [],
   "source": []
  },
  {
   "cell_type": "code",
   "execution_count": null,
   "id": "dc7da672",
   "metadata": {},
   "outputs": [],
   "source": []
  },
  {
   "cell_type": "markdown",
   "id": "e6bbc0c4",
   "metadata": {},
   "source": [
    "---"
   ]
  },
  {
   "cell_type": "markdown",
   "id": "103de929",
   "metadata": {},
   "source": []
  },
  {
   "cell_type": "markdown",
   "id": "1f2a67c5",
   "metadata": {},
   "source": []
  },
  {
   "cell_type": "markdown",
   "id": "ba9bf60f",
   "metadata": {},
   "source": []
  },
  {
   "cell_type": "markdown",
   "id": "2035436a",
   "metadata": {},
   "source": []
  },
  {
   "cell_type": "markdown",
   "id": "c51eb08b",
   "metadata": {},
   "source": []
  },
  {
   "cell_type": "markdown",
   "id": "f502e287",
   "metadata": {},
   "source": []
  },
  {
   "cell_type": "markdown",
   "id": "99211966",
   "metadata": {},
   "source": []
  },
  {
   "cell_type": "markdown",
   "id": "f6131451",
   "metadata": {},
   "source": []
  },
  {
   "cell_type": "markdown",
   "id": "b79aae0d",
   "metadata": {},
   "source": []
  },
  {
   "cell_type": "markdown",
   "id": "ce03410e",
   "metadata": {},
   "source": []
  },
  {
   "cell_type": "markdown",
   "id": "cf3a7255",
   "metadata": {},
   "source": []
  },
  {
   "cell_type": "markdown",
   "id": "7f355380",
   "metadata": {},
   "source": []
  },
  {
   "cell_type": "markdown",
   "id": "08f802f8",
   "metadata": {},
   "source": [
    "---"
   ]
  },
  {
   "cell_type": "code",
   "execution_count": null,
   "id": "6b890723",
   "metadata": {},
   "outputs": [],
   "source": []
  },
  {
   "cell_type": "code",
   "execution_count": null,
   "id": "78524702",
   "metadata": {},
   "outputs": [],
   "source": []
  },
  {
   "cell_type": "code",
   "execution_count": null,
   "id": "ea69e4cc",
   "metadata": {},
   "outputs": [],
   "source": []
  },
  {
   "cell_type": "code",
   "execution_count": null,
   "id": "d517d0ec",
   "metadata": {},
   "outputs": [],
   "source": []
  },
  {
   "cell_type": "markdown",
   "id": "988d9f6c",
   "metadata": {},
   "source": []
  },
  {
   "cell_type": "markdown",
   "id": "988ede50",
   "metadata": {},
   "source": [
    "---"
   ]
  },
  {
   "cell_type": "markdown",
   "id": "54be7b5e",
   "metadata": {},
   "source": [
    "## Appendix A<a id=\"AppendixA\"></a>"
   ]
  },
  {
   "cell_type": "markdown",
   "id": "8d92f918",
   "metadata": {},
   "source": [
    "### Glossary"
   ]
  },
  {
   "cell_type": "markdown",
   "id": "16e7cbd2",
   "metadata": {},
   "source": [
    "- MSRP - manufacturer’s suggested retail price\n",
    "- EDA - exploratory data analysis"
   ]
  },
  {
   "cell_type": "markdown",
   "id": "1b37cf9b",
   "metadata": {},
   "source": [
    "---"
   ]
  },
  {
   "cell_type": "markdown",
   "id": "acb9cf4c",
   "metadata": {},
   "source": [
    "## References <a id=\"ReferencesSection\"></a>"
   ]
  },
  {
   "cell_type": "markdown",
   "id": "32e0aaed",
   "metadata": {},
   "source": [
    "### kaggle.com\n",
    "<https://www.kaggle.com/CooperUnion/cardataset>\n",
    "\n",
    "### kaggle - Car Features and MSRP\n",
    "<https://www.kaggle.com/CooperUnion/cardataset>\n",
    "\n",
    "### kaggle - Car Features and MSRP code\n",
    "<https://www.kaggle.com/CooperUnion/cardataset/code>\n",
    "\n",
    "---\n",
    "\n",
    "### Car Features and Price Prediction - VAISHNAVI.KHILARI\n",
    "<https://www.kaggle.com/vaishnavikhilari/car-features-and-price-prediction>\n",
    "\n",
    "### BeginnersGuidetoEDA+Prediction - DEVSON\n",
    "<https://www.kaggle.com/devson/beginnersguidetoeda-prediction>\n",
    "\n",
    "### linear reggresion - SAICHARAN REDDY\n",
    "<https://www.kaggle.com/sai2119/linear-reggresion>\n",
    "\n",
    "### Simple and quick EDA - BRYANB\n",
    "<https://www.kaggle.com/bryanb/simple-and-quick-eda>\n",
    "\n",
    "### XGBoost explainability with SHAP - BRYANB\n",
    "<https://www.kaggle.com/bryanb/xgboost-explainability-with-shap>\n",
    "\n",
    "### UsedCarPricePrediction - ANIRBANK\n",
    "<https://www.kaggle.com/anirbank/usedcarpriceprediction>\n",
    "\n",
    "### Car Price Prediction - JEFFREY SHIH \n",
    "<https://www.kaggle.com/jshih7/car-price-prediction>\n",
    "\n",
    "### Car Retail Price Prediction - GABRIEL ATKIN\n",
    "<https://www.kaggle.com/gcdatkin/car-retail-price-prediction>\n",
    "\n",
    "### MSRP Prediction - PHAN NGUYEN\n",
    "<https://www.kaggle.com/heolinhdam/msrp-prediction>\n",
    "\n",
    "### Car Price Prediction - OMAR22\n",
    "<https://www.kaggle.com/omar22/car-price-prediction>\n",
    "\n",
    "### Car Price Pridiction - NIKHIL SHRESTHA\n",
    "<https://www.kaggle.com/snikhil17/car-price-pridiction>\n",
    "\n",
    "### EDA on Car Price Pridiction - NIKHIL SHRESTHA\n",
    "<https://www.kaggle.com/snikhil17/eda-on-car-price-pridiction>\n",
    "\n",
    "---\n",
    "\n",
    "### Dynamic Pricing Explained: Machine Learning in Revenue Management and Pricing Optimization\n",
    "<https://www.altexsoft.com/blog/datascience/dynamic-pricing-explained-use-in-revenue-management-and-pricing-optimization/>\n",
    "\n",
    "### Argonne’s machine learning model estimates technology contributions towards MSRP\n",
    "<https://www.anl.gov/es/article/argonnes-machine-learning-model-estimates-technology-contributions-towards-msrp>\n",
    "\n",
    "### How Machine Learning is reshaping Price Optimization\n",
    "<https://tryolabs.com/blog/price-optimization-machine-learning/>\n",
    "\n",
    "---\n",
    "\n",
    "### \n",
    "<>\n",
    "\n",
    "### \n",
    "<>\n",
    "\n",
    "### \n",
    "<>\n",
    "\n",
    "### \n",
    "<>\n",
    "\n",
    "### \n",
    "<>\n",
    "\n",
    "### \n",
    "<>\n",
    "\n",
    "### \n",
    "<>\n",
    "\n",
    "### \n",
    "<>\n",
    "\n",
    "### \n",
    "<>\n",
    "\n",
    "### \n",
    "<>\n",
    "\n",
    "### \n",
    "<>\n",
    "\n",
    "### \n",
    "<>\n",
    "\n",
    "### \n",
    "<>\n",
    "\n",
    "### \n",
    "<>\n",
    "\n",
    "### \n",
    "<>\n"
   ]
  },
  {
   "cell_type": "markdown",
   "id": "23306ea1",
   "metadata": {},
   "source": [
    "---"
   ]
  },
  {
   "cell_type": "markdown",
   "id": "691056bc",
   "metadata": {},
   "source": [
    "### Pinterest - 300TD wheel base? - 1\n",
    "<https://www.pinterest.com/pin/321022279665496029/>\n",
    "\n",
    "### Pinterest - 300TD wheel base? - 2\n",
    "<https://i.pinimg.com/originals/1a/f8/8c/1af88cc04b0735e2151db4f2a4a94d4d.jpg>\n",
    "\n",
    "### Austin Powers - Live dangerously meme 1\n",
    "<https://i.kym-cdn.com/photos/images/newsfeed/000/511/991/3a5.jpg>\n",
    "\n",
    "### \n",
    "<>\n",
    "\n",
    "### \n",
    "<>\n",
    "\n",
    "### \n",
    "<>"
   ]
  },
  {
   "cell_type": "markdown",
   "id": "c8df6f31",
   "metadata": {},
   "source": [
    "---"
   ]
  }
 ],
 "metadata": {
  "kernelspec": {
   "display_name": "Python 3",
   "language": "python",
   "name": "python3"
  },
  "language_info": {
   "codemirror_mode": {
    "name": "ipython",
    "version": 3
   },
   "file_extension": ".py",
   "mimetype": "text/x-python",
   "name": "python",
   "nbconvert_exporter": "python",
   "pygments_lexer": "ipython3",
   "version": "3.8.8"
  },
  "toc": {
   "base_numbering": 1,
   "nav_menu": {},
   "number_sections": true,
   "sideBar": true,
   "skip_h1_title": false,
   "title_cell": "Table of Contents",
   "title_sidebar": "Contents",
   "toc_cell": false,
   "toc_position": {},
   "toc_section_display": true,
   "toc_window_display": false
  }
 },
 "nbformat": 4,
 "nbformat_minor": 5
}
