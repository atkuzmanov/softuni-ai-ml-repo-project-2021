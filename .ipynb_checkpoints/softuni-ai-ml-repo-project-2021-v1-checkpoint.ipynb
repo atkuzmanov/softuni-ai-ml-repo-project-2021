{
 "cells": [
  {
   "cell_type": "code",
   "execution_count": 1,
   "id": "90e73a99",
   "metadata": {},
   "outputs": [],
   "source": [
    "%matplotlib inline"
   ]
  },
  {
   "cell_type": "code",
   "execution_count": 2,
   "id": "68f616c2",
   "metadata": {},
   "outputs": [],
   "source": [
    "### Imports:\n",
    "import sympy\n",
    "import math\n",
    "import cmath\n",
    "import numpy as np\n",
    "import numpy.polynomial.polynomial as p\n",
    "import matplotlib.pyplot as plt\n",
    "from turtle import *\n",
    "import re\n",
    "from sympy.ntheory import discrete_log\n",
    "from matplotlib.transforms import Affine2D\n",
    "import skimage.io\n",
    "import time"
   ]
  },
  {
   "cell_type": "code",
   "execution_count": 3,
   "id": "356015d0",
   "metadata": {},
   "outputs": [],
   "source": [
    "### Other imports:"
   ]
  },
  {
   "cell_type": "code",
   "execution_count": 4,
   "id": "dc4c7d45",
   "metadata": {},
   "outputs": [],
   "source": [
    "import pandas as pd\n",
    "import numpy as np\n",
    "import seaborn as sns\n",
    "import matplotlib.pyplot as plt\n",
    "# import plotly.graph_objects as go\n",
    "# import plotly.express as px"
   ]
  },
  {
   "cell_type": "markdown",
   "id": "3e3a7d20",
   "metadata": {},
   "source": [
    "# Cars, Features and MSRP\n",
    "---\n",
    "---\n",
    "---"
   ]
  },
  {
   "cell_type": "markdown",
   "id": "a024ea97",
   "metadata": {},
   "source": [
    "<img src=\"./images/Mercedes-Benz W123 blueprints 1.jpg\" width=\"1080\"/>\n",
    "\n",
    "<div style=\"text-align: center\">Image created from the images, referenced below.</div>\n",
    "\n",
    "[[Reference]](#Pinterest---300TD-wheel-base?---1)\n",
    "\n",
    "[[Reference]](#Pinterest---300TD-wheel-base?---2)"
   ]
  },
  {
   "cell_type": "markdown",
   "id": "f519a0b9",
   "metadata": {},
   "source": [
    "---"
   ]
  },
  {
   "cell_type": "markdown",
   "id": "1d998d85",
   "metadata": {},
   "source": [
    "## Introduction\n",
    "\n",
    "***Author:*** Atanas Kuzmanov\n",
    "\n",
    "***Date:*** 2021-October-12\n",
    "\n",
    "*This is an article developed as a scientific notebook for an exam project assignment for a Machine Learning course from an Artificial Intelligence module.*\n",
    "\n",
    "*One of the aims of this article is to also understand a bit of Machine Learning, more specifically to understand ML algorithms and how to improve them, so we can create models, train them, test them and extract predictions and information we might be interested in.*"
   ]
  },
  {
   "cell_type": "markdown",
   "id": "1a47b953",
   "metadata": {},
   "source": [
    "---"
   ]
  },
  {
   "cell_type": "markdown",
   "id": "a85f9c67",
   "metadata": {},
   "source": [
    "## Abstract"
   ]
  },
  {
   "cell_type": "markdown",
   "id": "0516807a",
   "metadata": {},
   "source": [
    "*This article is an exploration and extension inspired by the following articles:*\n",
    "\n"
   ]
  },
  {
   "cell_type": "markdown",
   "id": "e612af93",
   "metadata": {},
   "source": [
    "[[Reference: Car Features and Price Prediction - VAISHNAVI.KHILARI]](#Car-Features-and-Price-Prediction---VAISHNAVI.KHILARI)\n",
    "\n",
    "[[Reference: BeginnersGuidetoEDA+Prediction - DEVSON]](#BeginnersGuidetoEDA+Prediction---DEVSON)\n",
    "\n",
    "[[Reference: linear reggresion - SAICHARAN REDDY]](#linear-reggresion---SAICHARAN-REDDY)\n",
    "\n",
    "[[Reference: Simple and quick EDA - BRYANB]](#Simple-and-quick-EDA---BRYANB)\n",
    "\n",
    "[[Reference: XGBoost explainability with SHAP - BRYANB]](#XGBoost-explainability-with-SHAP---BRYANB)\n",
    "\n",
    "[[Reference: UsedCarPricePrediction - ANIRBANK]](#UsedCarPricePrediction---ANIRBANK)\n",
    "\n",
    "[[Reference: Car Price Prediction - JEFFREY SHIH]](#Car-Price-Prediction---JEFFREY-SHIH)\n",
    "\n",
    "[[Reference: Car Retail Price Prediction - GABRIEL ATKIN]](#Car-Retail-Price-Prediction---GABRIEL-ATKIN)\n",
    "\n",
    "[[Reference: MSRP Prediction - PHAN NGUYEN]](#MSRP-Prediction---PHAN-NGUYEN)\n",
    "\n",
    "[[Reference: Car Price Prediction - OMAR22]](#Car-Price-Prediction---OMAR22)\n",
    "\n",
    "[[Reference: Car Price Pridiction - NIKHIL SHRESTHA]](#Car-Price-Pridiction---NIKHIL-SHRESTHA)\n",
    "\n",
    "[[Reference: EDA on Car Price Pridiction - NIKHIL SHRESTHA]](#EDA-on-Car-Price-Pridiction---NIKHIL-SHRESTHA)"
   ]
  },
  {
   "cell_type": "markdown",
   "id": "b23a9b34",
   "metadata": {},
   "source": [
    "_I will be using bits and pieces from the above articles which I will either use directly or more likely just use for inspiration and transform them one way or another. Because of this they are referenced here and will not be referenced individually below as that would be unnecessary repetition, especially according to the `DRY (\"do not repeat yourself\") principle` [[Reference]](#Don't-repeat-yourself)._"
   ]
  },
  {
   "cell_type": "markdown",
   "id": "b6161f69",
   "metadata": {},
   "source": [
    "---"
   ]
  },
  {
   "cell_type": "markdown",
   "id": "84e96e4b",
   "metadata": {},
   "source": [
    "## Notes"
   ]
  },
  {
   "cell_type": "markdown",
   "id": "b6e5921d",
   "metadata": {},
   "source": [
    "### References\n",
    "\n",
    "_Any and all references, citations, resources or other materials used to understand and explain, provide examples, and build this article have been referenced in order to give credit where credit is due and avoid plagiarism._\n",
    "_If a citation is the bigger part of a section, and has been edited, added to, modified, etc. the reference to that section would be at the end of it, separated with a horizontal line, like this example:_\n",
    "\n",
    "> ---\n",
    "> [[Example Reference]](#ExampleReference)\n",
    "\n",
    "_If a citation has been inserted and is relatively short, the relevant reference will be at the end of the sentence or paragraph, for example:_\n",
    "\n",
    "> Example. [[Example Reference]](#ExampleReference)\n",
    "\n",
    "_In case a reference is missed due to human error, all references can be found in the [References](#References) section._\n",
    "\n",
    "### Narrative\n",
    "\n",
    "_I have tried to provide a nice flow, ease of read and a friendly and humorous tone of the article, and at the same time clear and understandable communication. In order to aid this I have provided a narrative to this article. In order to distinguish it I have used italics for it throughout the article. Please consider any text in italics, such as the one you are currently reading, as narrative. It can also be both in bold and italics._\n",
    "\n",
    "> _Example narrative._\n",
    "\n",
    "### Code\n",
    "\n",
    "_Currently most of the code in the article has been refactored into separate functions and most of the other code in the article is left fragmented throughout. There is a very good reason for this, which is that one of the aims of this article is to also understand a bit of Machine Learning. This is why the fragments of code throughout this article are used to help us and illustrate and demonstrate different parts of ML as a whole._\n",
    "\n",
    "_Some of the code quality has been improved by making some functions idempotent with special checks, so that they have the same effect, no matter how many times they are ran._\n",
    "\n",
    "_Most of the commented out code in this article is left on purpose to serve as information, as part of the intent for this article is for it to be a knowledgebase._\n",
    "\n",
    "### Table of Contents (TOC)\n",
    "\n",
    "_Please refer to the [Table of Contents](#Table-of-Contents) section in [Appendix A](#Appendix-A) for instructions on how you can use get a Table of Contents for this article in Jupyter Notebook._\n",
    "\n",
    "### Running this Jupyter Notebook\n",
    "\n",
    "_This Jupyter Notebook is quite feature packed and it might take a bit longer to load, depending on the machine on which you are running it on. Please allow sufficient time for all of it to run all the way, until the last LaTeX formula, Markdown, Python, graphs, plots, images, etc. have loaded and executed. This also valid if you use `Kernel -> Restart & Run All`._\n",
    "\n",
    "### Testing\n",
    "\n",
    "#### Project tests\n",
    "\n",
    "- _Any mathematics in the project for which I have had doubts or have not understood I have tested using Wolfram Alpha._\n",
    "\n",
    "- _I have repeatedly ran \"Kernel -> Restart & Run All\" to confirm all is working and have fixed bugs when things have been broken._\n",
    "\n",
    "#### Code tests\n",
    "\n",
    "- _There are tests in the project. Since code tests are outside of the focus of this project most of the tests are visual print outs of the data and visual confirmations._\n",
    "\n",
    "- _Most of the tests in this project are visual and are marked with this \"### Test\" comment above it._\n",
    "\n",
    "- _There are also tests which are more functional and for example print a message if an assertion error is not thrown._\n",
    "\n",
    "_I consider this amount of test coverage adequate for the purpose of this article._ _Some might disagree and consider it insufficient, and to them I say:_\n",
    "\n",
    "<img src=\"./images/3a5.jpg\" width=\"320\"/>\n",
    "\n",
    "[[Reference]](#Austin-Powers---Live-dangerously-meme-1)\n"
   ]
  },
  {
   "cell_type": "markdown",
   "id": "7e6d396d",
   "metadata": {},
   "source": [
    "---"
   ]
  },
  {
   "cell_type": "markdown",
   "id": "b453d396",
   "metadata": {},
   "source": [
    "### Hypothesis<a id=\"Hypothesis\"></a>\n",
    "\n",
    "#### Null hypothesis $(H_{0})$<a id=\"NullHypothesis\"></a>\n",
    "\n",
    "*The Null hypothesis $(H_{0})$ tells us that the status quo is real, that nothing interesting happens.*\n",
    "\n",
    "*This is the hypothesis we are going to try and disprove, by demonstrating that an Alternative hypothesis $(H_{1})$ is true with experiments.*\n",
    "\n",
    "#### Alternative hypothesis $(H_{1})$<a id=\"AlternativeHypothesis\"></a>\n",
    "\n",
    "*The Alternative hypothesis $(H_{1})$ is what we are trying to demonstrate.*\n",
    "\n",
    "_**For the purpose of this article/notebook we will state the following topic, with it's Null and Alternative hypothesis.**_\n",
    "\n",
    "#### Topic:  We can use Machine Learning to predict MSRP (manufacturer’s suggested retail price) of cars.\n",
    "\n",
    "##### Null hypothesis 1 $(H_{0})$<a id=\"NullHypothesis1\"></a>\n",
    "\n",
    "- Null hypothesis 1 $(H_{0})$:\n",
    "\n",
    "    **We cannot use Machine Learning to predict MSRP (manufacturer’s suggested retail price) of cars.**\n",
    "\n",
    "##### Alternative hypothesis 1 $(H_{1})$<a id=\"AlternativeHypothesis1\"></a>\n",
    "\n",
    "- Alternative hypothesis 2 $(H_{1})$:\n",
    "\n",
    "    **We can use Machine Learning to predict MSRP (manufacturer’s suggested retail price) of cars.**"
   ]
  },
  {
   "cell_type": "markdown",
   "id": "a2cd263d",
   "metadata": {},
   "source": [
    "---"
   ]
  },
  {
   "cell_type": "markdown",
   "id": "e22b9847",
   "metadata": {},
   "source": [
    "## Research"
   ]
  },
  {
   "cell_type": "markdown",
   "id": "b1ebc18a",
   "metadata": {},
   "source": []
  },
  {
   "cell_type": "markdown",
   "id": "b558085b",
   "metadata": {},
   "source": [
    "---"
   ]
  },
  {
   "cell_type": "markdown",
   "id": "68af2514",
   "metadata": {},
   "source": [
    "## Data"
   ]
  },
  {
   "cell_type": "markdown",
   "id": "c87e113f",
   "metadata": {},
   "source": [
    "_The data:_\n",
    "\n",
    "_Here is a data set from [[kaggle.com]](#kaggle.com)_\n",
    "\n",
    "> Car Features and MSRP\n",
    "> Includes features such as make, model, year, and engine type to predict price\n",
    "\n",
    "[[Reference]](#kaggle---Car-Features-and-MSRP)"
   ]
  },
  {
   "cell_type": "markdown",
   "id": "1acdbb05",
   "metadata": {},
   "source": [
    "### Exploratory Data Analysis (EDA)"
   ]
  },
  {
   "cell_type": "markdown",
   "id": "0058d90d",
   "metadata": {},
   "source": [
    "> Exploratory Data Analysis refers to the critical process of performing initial investigations on data so as to discover patterns,to spot anomalies,to test hypothesis and to check assumptions with the help of summary statistics and graphical representations.\n",
    ">\n",
    "> Data visualization is the graphical representation of data in order to interactively and efficiently convey insights to clients, customers, and stakeholders in general.\n",
    "\n",
    "[[Reference]](#Car-Features-and-Price-Prediction---VAISHNAVI.KHILARI)"
   ]
  },
  {
   "cell_type": "markdown",
   "id": "3df13e0e",
   "metadata": {},
   "source": [
    "#### _Reading the data:_"
   ]
  },
  {
   "cell_type": "code",
   "execution_count": 5,
   "id": "dfa4ce60",
   "metadata": {},
   "outputs": [],
   "source": [
    "### Reading the data.\n",
    "df = pd.read_csv(filepath_or_buffer='./data/car-features-and-msrp-data.csv',\n",
    "    sep=',',\n",
    "    engine='python')"
   ]
  },
  {
   "cell_type": "code",
   "execution_count": 6,
   "id": "505c61ee",
   "metadata": {},
   "outputs": [
    {
     "data": {
      "text/html": [
       "<div>\n",
       "<style scoped>\n",
       "    .dataframe tbody tr th:only-of-type {\n",
       "        vertical-align: middle;\n",
       "    }\n",
       "\n",
       "    .dataframe tbody tr th {\n",
       "        vertical-align: top;\n",
       "    }\n",
       "\n",
       "    .dataframe thead th {\n",
       "        text-align: right;\n",
       "    }\n",
       "</style>\n",
       "<table border=\"1\" class=\"dataframe\">\n",
       "  <thead>\n",
       "    <tr style=\"text-align: right;\">\n",
       "      <th></th>\n",
       "      <th>Make</th>\n",
       "      <th>Model</th>\n",
       "      <th>Year</th>\n",
       "      <th>Engine Fuel Type</th>\n",
       "      <th>Engine HP</th>\n",
       "      <th>Engine Cylinders</th>\n",
       "      <th>Transmission Type</th>\n",
       "      <th>Driven_Wheels</th>\n",
       "      <th>Number of Doors</th>\n",
       "      <th>Market Category</th>\n",
       "      <th>Vehicle Size</th>\n",
       "      <th>Vehicle Style</th>\n",
       "      <th>highway MPG</th>\n",
       "      <th>city mpg</th>\n",
       "      <th>Popularity</th>\n",
       "      <th>MSRP</th>\n",
       "    </tr>\n",
       "  </thead>\n",
       "  <tbody>\n",
       "    <tr>\n",
       "      <th>0</th>\n",
       "      <td>BMW</td>\n",
       "      <td>1 Series M</td>\n",
       "      <td>2011</td>\n",
       "      <td>premium unleaded (required)</td>\n",
       "      <td>335.0</td>\n",
       "      <td>6.0</td>\n",
       "      <td>MANUAL</td>\n",
       "      <td>rear wheel drive</td>\n",
       "      <td>2.0</td>\n",
       "      <td>Factory Tuner,Luxury,High-Performance</td>\n",
       "      <td>Compact</td>\n",
       "      <td>Coupe</td>\n",
       "      <td>26</td>\n",
       "      <td>19</td>\n",
       "      <td>3916</td>\n",
       "      <td>46135</td>\n",
       "    </tr>\n",
       "    <tr>\n",
       "      <th>1</th>\n",
       "      <td>BMW</td>\n",
       "      <td>1 Series</td>\n",
       "      <td>2011</td>\n",
       "      <td>premium unleaded (required)</td>\n",
       "      <td>300.0</td>\n",
       "      <td>6.0</td>\n",
       "      <td>MANUAL</td>\n",
       "      <td>rear wheel drive</td>\n",
       "      <td>2.0</td>\n",
       "      <td>Luxury,Performance</td>\n",
       "      <td>Compact</td>\n",
       "      <td>Convertible</td>\n",
       "      <td>28</td>\n",
       "      <td>19</td>\n",
       "      <td>3916</td>\n",
       "      <td>40650</td>\n",
       "    </tr>\n",
       "    <tr>\n",
       "      <th>2</th>\n",
       "      <td>BMW</td>\n",
       "      <td>1 Series</td>\n",
       "      <td>2011</td>\n",
       "      <td>premium unleaded (required)</td>\n",
       "      <td>300.0</td>\n",
       "      <td>6.0</td>\n",
       "      <td>MANUAL</td>\n",
       "      <td>rear wheel drive</td>\n",
       "      <td>2.0</td>\n",
       "      <td>Luxury,High-Performance</td>\n",
       "      <td>Compact</td>\n",
       "      <td>Coupe</td>\n",
       "      <td>28</td>\n",
       "      <td>20</td>\n",
       "      <td>3916</td>\n",
       "      <td>36350</td>\n",
       "    </tr>\n",
       "    <tr>\n",
       "      <th>3</th>\n",
       "      <td>BMW</td>\n",
       "      <td>1 Series</td>\n",
       "      <td>2011</td>\n",
       "      <td>premium unleaded (required)</td>\n",
       "      <td>230.0</td>\n",
       "      <td>6.0</td>\n",
       "      <td>MANUAL</td>\n",
       "      <td>rear wheel drive</td>\n",
       "      <td>2.0</td>\n",
       "      <td>Luxury,Performance</td>\n",
       "      <td>Compact</td>\n",
       "      <td>Coupe</td>\n",
       "      <td>28</td>\n",
       "      <td>18</td>\n",
       "      <td>3916</td>\n",
       "      <td>29450</td>\n",
       "    </tr>\n",
       "    <tr>\n",
       "      <th>4</th>\n",
       "      <td>BMW</td>\n",
       "      <td>1 Series</td>\n",
       "      <td>2011</td>\n",
       "      <td>premium unleaded (required)</td>\n",
       "      <td>230.0</td>\n",
       "      <td>6.0</td>\n",
       "      <td>MANUAL</td>\n",
       "      <td>rear wheel drive</td>\n",
       "      <td>2.0</td>\n",
       "      <td>Luxury</td>\n",
       "      <td>Compact</td>\n",
       "      <td>Convertible</td>\n",
       "      <td>28</td>\n",
       "      <td>18</td>\n",
       "      <td>3916</td>\n",
       "      <td>34500</td>\n",
       "    </tr>\n",
       "  </tbody>\n",
       "</table>\n",
       "</div>"
      ],
      "text/plain": [
       "  Make       Model  Year             Engine Fuel Type  Engine HP  \\\n",
       "0  BMW  1 Series M  2011  premium unleaded (required)      335.0   \n",
       "1  BMW    1 Series  2011  premium unleaded (required)      300.0   \n",
       "2  BMW    1 Series  2011  premium unleaded (required)      300.0   \n",
       "3  BMW    1 Series  2011  premium unleaded (required)      230.0   \n",
       "4  BMW    1 Series  2011  premium unleaded (required)      230.0   \n",
       "\n",
       "   Engine Cylinders Transmission Type     Driven_Wheels  Number of Doors  \\\n",
       "0               6.0            MANUAL  rear wheel drive              2.0   \n",
       "1               6.0            MANUAL  rear wheel drive              2.0   \n",
       "2               6.0            MANUAL  rear wheel drive              2.0   \n",
       "3               6.0            MANUAL  rear wheel drive              2.0   \n",
       "4               6.0            MANUAL  rear wheel drive              2.0   \n",
       "\n",
       "                         Market Category Vehicle Size Vehicle Style  \\\n",
       "0  Factory Tuner,Luxury,High-Performance      Compact         Coupe   \n",
       "1                     Luxury,Performance      Compact   Convertible   \n",
       "2                Luxury,High-Performance      Compact         Coupe   \n",
       "3                     Luxury,Performance      Compact         Coupe   \n",
       "4                                 Luxury      Compact   Convertible   \n",
       "\n",
       "   highway MPG  city mpg  Popularity   MSRP  \n",
       "0           26        19        3916  46135  \n",
       "1           28        19        3916  40650  \n",
       "2           28        20        3916  36350  \n",
       "3           28        18        3916  29450  \n",
       "4           28        18        3916  34500  "
      ]
     },
     "execution_count": 6,
     "metadata": {},
     "output_type": "execute_result"
    }
   ],
   "source": [
    "df.head()"
   ]
  },
  {
   "cell_type": "markdown",
   "id": "c4290cc5",
   "metadata": {},
   "source": [
    "#### _Getting familiar with the data:_"
   ]
  },
  {
   "cell_type": "code",
   "execution_count": 7,
   "id": "ff9630ec",
   "metadata": {},
   "outputs": [
    {
     "data": {
      "text/plain": [
       "(11914, 16)"
      ]
     },
     "execution_count": 7,
     "metadata": {},
     "output_type": "execute_result"
    }
   ],
   "source": [
    "df.shape"
   ]
  },
  {
   "cell_type": "code",
   "execution_count": 8,
   "id": "431590c5",
   "metadata": {},
   "outputs": [
    {
     "data": {
      "text/plain": [
       "Index(['Make', 'Model', 'Year', 'Engine Fuel Type', 'Engine HP',\n",
       "       'Engine Cylinders', 'Transmission Type', 'Driven_Wheels',\n",
       "       'Number of Doors', 'Market Category', 'Vehicle Size', 'Vehicle Style',\n",
       "       'highway MPG', 'city mpg', 'Popularity', 'MSRP'],\n",
       "      dtype='object')"
      ]
     },
     "execution_count": 8,
     "metadata": {},
     "output_type": "execute_result"
    }
   ],
   "source": [
    "df.columns"
   ]
  },
  {
   "cell_type": "code",
   "execution_count": 9,
   "id": "23d774bf",
   "metadata": {},
   "outputs": [
    {
     "data": {
      "text/plain": [
       "Make                  object\n",
       "Model                 object\n",
       "Year                   int64\n",
       "Engine Fuel Type      object\n",
       "Engine HP            float64\n",
       "Engine Cylinders     float64\n",
       "Transmission Type     object\n",
       "Driven_Wheels         object\n",
       "Number of Doors      float64\n",
       "Market Category       object\n",
       "Vehicle Size          object\n",
       "Vehicle Style         object\n",
       "highway MPG            int64\n",
       "city mpg               int64\n",
       "Popularity             int64\n",
       "MSRP                   int64\n",
       "dtype: object"
      ]
     },
     "execution_count": 9,
     "metadata": {},
     "output_type": "execute_result"
    }
   ],
   "source": [
    "df.dtypes"
   ]
  },
  {
   "cell_type": "code",
   "execution_count": 10,
   "id": "50ced6f6",
   "metadata": {},
   "outputs": [
    {
     "name": "stdout",
     "output_type": "stream",
     "text": [
      "<class 'pandas.core.frame.DataFrame'>\n",
      "RangeIndex: 11914 entries, 0 to 11913\n",
      "Data columns (total 16 columns):\n",
      " #   Column             Non-Null Count  Dtype  \n",
      "---  ------             --------------  -----  \n",
      " 0   Make               11914 non-null  object \n",
      " 1   Model              11914 non-null  object \n",
      " 2   Year               11914 non-null  int64  \n",
      " 3   Engine Fuel Type   11911 non-null  object \n",
      " 4   Engine HP          11845 non-null  float64\n",
      " 5   Engine Cylinders   11884 non-null  float64\n",
      " 6   Transmission Type  11914 non-null  object \n",
      " 7   Driven_Wheels      11914 non-null  object \n",
      " 8   Number of Doors    11908 non-null  float64\n",
      " 9   Market Category    8172 non-null   object \n",
      " 10  Vehicle Size       11914 non-null  object \n",
      " 11  Vehicle Style      11914 non-null  object \n",
      " 12  highway MPG        11914 non-null  int64  \n",
      " 13  city mpg           11914 non-null  int64  \n",
      " 14  Popularity         11914 non-null  int64  \n",
      " 15  MSRP               11914 non-null  int64  \n",
      "dtypes: float64(3), int64(5), object(8)\n",
      "memory usage: 1.5+ MB\n"
     ]
    }
   ],
   "source": [
    "df.info()"
   ]
  },
  {
   "cell_type": "code",
   "execution_count": 11,
   "id": "9e8af709",
   "metadata": {},
   "outputs": [
    {
     "data": {
      "text/html": [
       "<div>\n",
       "<style scoped>\n",
       "    .dataframe tbody tr th:only-of-type {\n",
       "        vertical-align: middle;\n",
       "    }\n",
       "\n",
       "    .dataframe tbody tr th {\n",
       "        vertical-align: top;\n",
       "    }\n",
       "\n",
       "    .dataframe thead th {\n",
       "        text-align: right;\n",
       "    }\n",
       "</style>\n",
       "<table border=\"1\" class=\"dataframe\">\n",
       "  <thead>\n",
       "    <tr style=\"text-align: right;\">\n",
       "      <th></th>\n",
       "      <th>Year</th>\n",
       "      <th>Engine HP</th>\n",
       "      <th>Engine Cylinders</th>\n",
       "      <th>Number of Doors</th>\n",
       "      <th>highway MPG</th>\n",
       "      <th>city mpg</th>\n",
       "      <th>Popularity</th>\n",
       "      <th>MSRP</th>\n",
       "    </tr>\n",
       "  </thead>\n",
       "  <tbody>\n",
       "    <tr>\n",
       "      <th>count</th>\n",
       "      <td>11914.000000</td>\n",
       "      <td>11845.00000</td>\n",
       "      <td>11884.000000</td>\n",
       "      <td>11908.000000</td>\n",
       "      <td>11914.000000</td>\n",
       "      <td>11914.000000</td>\n",
       "      <td>11914.000000</td>\n",
       "      <td>1.191400e+04</td>\n",
       "    </tr>\n",
       "    <tr>\n",
       "      <th>mean</th>\n",
       "      <td>2010.384338</td>\n",
       "      <td>249.38607</td>\n",
       "      <td>5.628829</td>\n",
       "      <td>3.436093</td>\n",
       "      <td>26.637485</td>\n",
       "      <td>19.733255</td>\n",
       "      <td>1554.911197</td>\n",
       "      <td>4.059474e+04</td>\n",
       "    </tr>\n",
       "    <tr>\n",
       "      <th>std</th>\n",
       "      <td>7.579740</td>\n",
       "      <td>109.19187</td>\n",
       "      <td>1.780559</td>\n",
       "      <td>0.881315</td>\n",
       "      <td>8.863001</td>\n",
       "      <td>8.987798</td>\n",
       "      <td>1441.855347</td>\n",
       "      <td>6.010910e+04</td>\n",
       "    </tr>\n",
       "    <tr>\n",
       "      <th>min</th>\n",
       "      <td>1990.000000</td>\n",
       "      <td>55.00000</td>\n",
       "      <td>0.000000</td>\n",
       "      <td>2.000000</td>\n",
       "      <td>12.000000</td>\n",
       "      <td>7.000000</td>\n",
       "      <td>2.000000</td>\n",
       "      <td>2.000000e+03</td>\n",
       "    </tr>\n",
       "    <tr>\n",
       "      <th>25%</th>\n",
       "      <td>2007.000000</td>\n",
       "      <td>170.00000</td>\n",
       "      <td>4.000000</td>\n",
       "      <td>2.000000</td>\n",
       "      <td>22.000000</td>\n",
       "      <td>16.000000</td>\n",
       "      <td>549.000000</td>\n",
       "      <td>2.100000e+04</td>\n",
       "    </tr>\n",
       "    <tr>\n",
       "      <th>50%</th>\n",
       "      <td>2015.000000</td>\n",
       "      <td>227.00000</td>\n",
       "      <td>6.000000</td>\n",
       "      <td>4.000000</td>\n",
       "      <td>26.000000</td>\n",
       "      <td>18.000000</td>\n",
       "      <td>1385.000000</td>\n",
       "      <td>2.999500e+04</td>\n",
       "    </tr>\n",
       "    <tr>\n",
       "      <th>75%</th>\n",
       "      <td>2016.000000</td>\n",
       "      <td>300.00000</td>\n",
       "      <td>6.000000</td>\n",
       "      <td>4.000000</td>\n",
       "      <td>30.000000</td>\n",
       "      <td>22.000000</td>\n",
       "      <td>2009.000000</td>\n",
       "      <td>4.223125e+04</td>\n",
       "    </tr>\n",
       "    <tr>\n",
       "      <th>max</th>\n",
       "      <td>2017.000000</td>\n",
       "      <td>1001.00000</td>\n",
       "      <td>16.000000</td>\n",
       "      <td>4.000000</td>\n",
       "      <td>354.000000</td>\n",
       "      <td>137.000000</td>\n",
       "      <td>5657.000000</td>\n",
       "      <td>2.065902e+06</td>\n",
       "    </tr>\n",
       "  </tbody>\n",
       "</table>\n",
       "</div>"
      ],
      "text/plain": [
       "               Year    Engine HP  Engine Cylinders  Number of Doors  \\\n",
       "count  11914.000000  11845.00000      11884.000000     11908.000000   \n",
       "mean    2010.384338    249.38607          5.628829         3.436093   \n",
       "std        7.579740    109.19187          1.780559         0.881315   \n",
       "min     1990.000000     55.00000          0.000000         2.000000   \n",
       "25%     2007.000000    170.00000          4.000000         2.000000   \n",
       "50%     2015.000000    227.00000          6.000000         4.000000   \n",
       "75%     2016.000000    300.00000          6.000000         4.000000   \n",
       "max     2017.000000   1001.00000         16.000000         4.000000   \n",
       "\n",
       "        highway MPG      city mpg    Popularity          MSRP  \n",
       "count  11914.000000  11914.000000  11914.000000  1.191400e+04  \n",
       "mean      26.637485     19.733255   1554.911197  4.059474e+04  \n",
       "std        8.863001      8.987798   1441.855347  6.010910e+04  \n",
       "min       12.000000      7.000000      2.000000  2.000000e+03  \n",
       "25%       22.000000     16.000000    549.000000  2.100000e+04  \n",
       "50%       26.000000     18.000000   1385.000000  2.999500e+04  \n",
       "75%       30.000000     22.000000   2009.000000  4.223125e+04  \n",
       "max      354.000000    137.000000   5657.000000  2.065902e+06  "
      ]
     },
     "execution_count": 11,
     "metadata": {},
     "output_type": "execute_result"
    }
   ],
   "source": [
    "df.describe()"
   ]
  },
  {
   "cell_type": "markdown",
   "id": "82c2eb05",
   "metadata": {},
   "source": [
    "#### _Cleaning the data_"
   ]
  },
  {
   "cell_type": "code",
   "execution_count": 12,
   "id": "f9d371c9",
   "metadata": {},
   "outputs": [],
   "source": [
    "### Making a copy, so we can safely manipulate it.\n",
    "data = df.copy()"
   ]
  },
  {
   "cell_type": "code",
   "execution_count": 13,
   "id": "0b7505b6",
   "metadata": {},
   "outputs": [],
   "source": [
    "# Dropping rows which have zero as a value for MSRP column as it is our dependent/target variable.\n",
    "data.drop(df[df['MSRP'] == 0].index,inplace=True)"
   ]
  },
  {
   "cell_type": "code",
   "execution_count": 14,
   "id": "32a354b0",
   "metadata": {},
   "outputs": [
    {
     "data": {
      "text/plain": [
       "(11914, 16)"
      ]
     },
     "execution_count": 14,
     "metadata": {},
     "output_type": "execute_result"
    }
   ],
   "source": [
    "data.shape"
   ]
  },
  {
   "cell_type": "code",
   "execution_count": 15,
   "id": "b133dcca",
   "metadata": {},
   "outputs": [],
   "source": [
    "# Dropping 'market category' column as MSRP is independent of it and hence not useful in predicting price of car. \n",
    "data.drop(['Market Category'], axis=1, inplace=True)"
   ]
  },
  {
   "cell_type": "code",
   "execution_count": 16,
   "id": "7346186a",
   "metadata": {},
   "outputs": [
    {
     "data": {
      "text/plain": [
       "(11914, 15)"
      ]
     },
     "execution_count": 16,
     "metadata": {},
     "output_type": "execute_result"
    }
   ],
   "source": [
    "data.shape"
   ]
  },
  {
   "cell_type": "code",
   "execution_count": null,
   "id": "e68b9c8f",
   "metadata": {},
   "outputs": [],
   "source": []
  },
  {
   "cell_type": "code",
   "execution_count": 17,
   "id": "43ab5f14",
   "metadata": {},
   "outputs": [
    {
     "data": {
      "text/html": [
       "<div>\n",
       "<style scoped>\n",
       "    .dataframe tbody tr th:only-of-type {\n",
       "        vertical-align: middle;\n",
       "    }\n",
       "\n",
       "    .dataframe tbody tr th {\n",
       "        vertical-align: top;\n",
       "    }\n",
       "\n",
       "    .dataframe thead th {\n",
       "        text-align: right;\n",
       "    }\n",
       "</style>\n",
       "<table border=\"1\" class=\"dataframe\">\n",
       "  <thead>\n",
       "    <tr style=\"text-align: right;\">\n",
       "      <th></th>\n",
       "      <th>make</th>\n",
       "      <th>model</th>\n",
       "      <th>year</th>\n",
       "      <th>engine_fuel_type</th>\n",
       "      <th>engine_hp</th>\n",
       "      <th>engine_cylinders</th>\n",
       "      <th>transmission_type</th>\n",
       "      <th>driven_wheels</th>\n",
       "      <th>number_of_doors</th>\n",
       "      <th>vehicle_size</th>\n",
       "      <th>vehicle_style</th>\n",
       "      <th>highway_mpg</th>\n",
       "      <th>city_mpg</th>\n",
       "      <th>popularity</th>\n",
       "      <th>msrp</th>\n",
       "    </tr>\n",
       "  </thead>\n",
       "  <tbody>\n",
       "    <tr>\n",
       "      <th>0</th>\n",
       "      <td>BMW</td>\n",
       "      <td>1 Series M</td>\n",
       "      <td>2011</td>\n",
       "      <td>premium unleaded (required)</td>\n",
       "      <td>335.0</td>\n",
       "      <td>6.0</td>\n",
       "      <td>MANUAL</td>\n",
       "      <td>rear wheel drive</td>\n",
       "      <td>2.0</td>\n",
       "      <td>Compact</td>\n",
       "      <td>Coupe</td>\n",
       "      <td>26</td>\n",
       "      <td>19</td>\n",
       "      <td>3916</td>\n",
       "      <td>46135</td>\n",
       "    </tr>\n",
       "    <tr>\n",
       "      <th>1</th>\n",
       "      <td>BMW</td>\n",
       "      <td>1 Series</td>\n",
       "      <td>2011</td>\n",
       "      <td>premium unleaded (required)</td>\n",
       "      <td>300.0</td>\n",
       "      <td>6.0</td>\n",
       "      <td>MANUAL</td>\n",
       "      <td>rear wheel drive</td>\n",
       "      <td>2.0</td>\n",
       "      <td>Compact</td>\n",
       "      <td>Convertible</td>\n",
       "      <td>28</td>\n",
       "      <td>19</td>\n",
       "      <td>3916</td>\n",
       "      <td>40650</td>\n",
       "    </tr>\n",
       "    <tr>\n",
       "      <th>2</th>\n",
       "      <td>BMW</td>\n",
       "      <td>1 Series</td>\n",
       "      <td>2011</td>\n",
       "      <td>premium unleaded (required)</td>\n",
       "      <td>300.0</td>\n",
       "      <td>6.0</td>\n",
       "      <td>MANUAL</td>\n",
       "      <td>rear wheel drive</td>\n",
       "      <td>2.0</td>\n",
       "      <td>Compact</td>\n",
       "      <td>Coupe</td>\n",
       "      <td>28</td>\n",
       "      <td>20</td>\n",
       "      <td>3916</td>\n",
       "      <td>36350</td>\n",
       "    </tr>\n",
       "    <tr>\n",
       "      <th>3</th>\n",
       "      <td>BMW</td>\n",
       "      <td>1 Series</td>\n",
       "      <td>2011</td>\n",
       "      <td>premium unleaded (required)</td>\n",
       "      <td>230.0</td>\n",
       "      <td>6.0</td>\n",
       "      <td>MANUAL</td>\n",
       "      <td>rear wheel drive</td>\n",
       "      <td>2.0</td>\n",
       "      <td>Compact</td>\n",
       "      <td>Coupe</td>\n",
       "      <td>28</td>\n",
       "      <td>18</td>\n",
       "      <td>3916</td>\n",
       "      <td>29450</td>\n",
       "    </tr>\n",
       "    <tr>\n",
       "      <th>4</th>\n",
       "      <td>BMW</td>\n",
       "      <td>1 Series</td>\n",
       "      <td>2011</td>\n",
       "      <td>premium unleaded (required)</td>\n",
       "      <td>230.0</td>\n",
       "      <td>6.0</td>\n",
       "      <td>MANUAL</td>\n",
       "      <td>rear wheel drive</td>\n",
       "      <td>2.0</td>\n",
       "      <td>Compact</td>\n",
       "      <td>Convertible</td>\n",
       "      <td>28</td>\n",
       "      <td>18</td>\n",
       "      <td>3916</td>\n",
       "      <td>34500</td>\n",
       "    </tr>\n",
       "  </tbody>\n",
       "</table>\n",
       "</div>"
      ],
      "text/plain": [
       "  make       model  year             engine_fuel_type  engine_hp  \\\n",
       "0  BMW  1 Series M  2011  premium unleaded (required)      335.0   \n",
       "1  BMW    1 Series  2011  premium unleaded (required)      300.0   \n",
       "2  BMW    1 Series  2011  premium unleaded (required)      300.0   \n",
       "3  BMW    1 Series  2011  premium unleaded (required)      230.0   \n",
       "4  BMW    1 Series  2011  premium unleaded (required)      230.0   \n",
       "\n",
       "   engine_cylinders transmission_type     driven_wheels  number_of_doors  \\\n",
       "0               6.0            MANUAL  rear wheel drive              2.0   \n",
       "1               6.0            MANUAL  rear wheel drive              2.0   \n",
       "2               6.0            MANUAL  rear wheel drive              2.0   \n",
       "3               6.0            MANUAL  rear wheel drive              2.0   \n",
       "4               6.0            MANUAL  rear wheel drive              2.0   \n",
       "\n",
       "  vehicle_size vehicle_style  highway_mpg  city_mpg  popularity   msrp  \n",
       "0      Compact         Coupe           26        19        3916  46135  \n",
       "1      Compact   Convertible           28        19        3916  40650  \n",
       "2      Compact         Coupe           28        20        3916  36350  \n",
       "3      Compact         Coupe           28        18        3916  29450  \n",
       "4      Compact   Convertible           28        18        3916  34500  "
      ]
     },
     "execution_count": 17,
     "metadata": {},
     "output_type": "execute_result"
    }
   ],
   "source": [
    "# Renaming the column names:\n",
    "data.columns = data.columns.str.lower().str.replace(\" \", \"_\")\n",
    "data.head()"
   ]
  },
  {
   "cell_type": "code",
   "execution_count": 18,
   "id": "ff281f24",
   "metadata": {},
   "outputs": [
    {
     "data": {
      "text/plain": [
       "720"
      ]
     },
     "execution_count": 18,
     "metadata": {},
     "output_type": "execute_result"
    }
   ],
   "source": [
    "# Check for any duplicates in the data.\n",
    "data.duplicated().sum()"
   ]
  },
  {
   "cell_type": "code",
   "execution_count": 19,
   "id": "f81c57a8",
   "metadata": {},
   "outputs": [],
   "source": [
    "# Removing the duplicates in the data.\n",
    "data.drop_duplicates(keep=False,inplace=True)"
   ]
  },
  {
   "cell_type": "code",
   "execution_count": 20,
   "id": "b300f727",
   "metadata": {},
   "outputs": [
    {
     "data": {
      "text/plain": [
       "(10573, 15)"
      ]
     },
     "execution_count": 20,
     "metadata": {},
     "output_type": "execute_result"
    }
   ],
   "source": [
    "data.shape"
   ]
  },
  {
   "cell_type": "code",
   "execution_count": 21,
   "id": "cfa35fed",
   "metadata": {},
   "outputs": [
    {
     "data": {
      "text/plain": [
       "make                  0\n",
       "model                 0\n",
       "year                  0\n",
       "engine_fuel_type      3\n",
       "engine_hp            69\n",
       "engine_cylinders     30\n",
       "transmission_type     0\n",
       "driven_wheels         0\n",
       "number_of_doors       6\n",
       "vehicle_size          0\n",
       "vehicle_style         0\n",
       "highway_mpg           0\n",
       "city_mpg              0\n",
       "popularity            0\n",
       "msrp                  0\n",
       "dtype: int64"
      ]
     },
     "execution_count": 21,
     "metadata": {},
     "output_type": "execute_result"
    }
   ],
   "source": [
    "# Check for any null values in the data.\n",
    "data.isnull().sum()"
   ]
  },
  {
   "cell_type": "markdown",
   "id": "9beaebd4",
   "metadata": {},
   "source": [
    "_We see there are missing values such as Engine Hp, Engine Cylinders, Number of Doors and Engine Fuel Type._"
   ]
  },
  {
   "cell_type": "markdown",
   "id": "e22a9e76",
   "metadata": {},
   "source": [
    "_Looks alike someone forgot to mention their Engine HP._"
   ]
  },
  {
   "cell_type": "code",
   "execution_count": 22,
   "id": "34232d57",
   "metadata": {},
   "outputs": [],
   "source": [
    "null_data = data[data.isnull().any(axis = 1)]"
   ]
  },
  {
   "cell_type": "code",
   "execution_count": 23,
   "id": "e1fdb5a9",
   "metadata": {},
   "outputs": [
    {
     "data": {
      "text/html": [
       "<div>\n",
       "<style scoped>\n",
       "    .dataframe tbody tr th:only-of-type {\n",
       "        vertical-align: middle;\n",
       "    }\n",
       "\n",
       "    .dataframe tbody tr th {\n",
       "        vertical-align: top;\n",
       "    }\n",
       "\n",
       "    .dataframe thead th {\n",
       "        text-align: right;\n",
       "    }\n",
       "</style>\n",
       "<table border=\"1\" class=\"dataframe\">\n",
       "  <thead>\n",
       "    <tr style=\"text-align: right;\">\n",
       "      <th></th>\n",
       "      <th>make</th>\n",
       "      <th>model</th>\n",
       "      <th>year</th>\n",
       "      <th>engine_fuel_type</th>\n",
       "      <th>engine_hp</th>\n",
       "      <th>engine_cylinders</th>\n",
       "      <th>transmission_type</th>\n",
       "      <th>driven_wheels</th>\n",
       "      <th>number_of_doors</th>\n",
       "      <th>vehicle_size</th>\n",
       "      <th>vehicle_style</th>\n",
       "      <th>highway_mpg</th>\n",
       "      <th>city_mpg</th>\n",
       "      <th>popularity</th>\n",
       "      <th>msrp</th>\n",
       "    </tr>\n",
       "  </thead>\n",
       "  <tbody>\n",
       "    <tr>\n",
       "      <th>539</th>\n",
       "      <td>FIAT</td>\n",
       "      <td>500e</td>\n",
       "      <td>2015</td>\n",
       "      <td>electric</td>\n",
       "      <td>NaN</td>\n",
       "      <td>0.0</td>\n",
       "      <td>DIRECT_DRIVE</td>\n",
       "      <td>front wheel drive</td>\n",
       "      <td>2.0</td>\n",
       "      <td>Compact</td>\n",
       "      <td>2dr Hatchback</td>\n",
       "      <td>108</td>\n",
       "      <td>122</td>\n",
       "      <td>819</td>\n",
       "      <td>31800</td>\n",
       "    </tr>\n",
       "    <tr>\n",
       "      <th>540</th>\n",
       "      <td>FIAT</td>\n",
       "      <td>500e</td>\n",
       "      <td>2016</td>\n",
       "      <td>electric</td>\n",
       "      <td>NaN</td>\n",
       "      <td>0.0</td>\n",
       "      <td>DIRECT_DRIVE</td>\n",
       "      <td>front wheel drive</td>\n",
       "      <td>2.0</td>\n",
       "      <td>Compact</td>\n",
       "      <td>2dr Hatchback</td>\n",
       "      <td>103</td>\n",
       "      <td>121</td>\n",
       "      <td>819</td>\n",
       "      <td>31800</td>\n",
       "    </tr>\n",
       "    <tr>\n",
       "      <th>541</th>\n",
       "      <td>FIAT</td>\n",
       "      <td>500e</td>\n",
       "      <td>2017</td>\n",
       "      <td>electric</td>\n",
       "      <td>NaN</td>\n",
       "      <td>0.0</td>\n",
       "      <td>DIRECT_DRIVE</td>\n",
       "      <td>front wheel drive</td>\n",
       "      <td>2.0</td>\n",
       "      <td>Compact</td>\n",
       "      <td>2dr Hatchback</td>\n",
       "      <td>103</td>\n",
       "      <td>121</td>\n",
       "      <td>819</td>\n",
       "      <td>31800</td>\n",
       "    </tr>\n",
       "    <tr>\n",
       "      <th>1983</th>\n",
       "      <td>Chevrolet</td>\n",
       "      <td>Bolt EV</td>\n",
       "      <td>2017</td>\n",
       "      <td>electric</td>\n",
       "      <td>200.0</td>\n",
       "      <td>NaN</td>\n",
       "      <td>DIRECT_DRIVE</td>\n",
       "      <td>front wheel drive</td>\n",
       "      <td>4.0</td>\n",
       "      <td>Compact</td>\n",
       "      <td>4dr Hatchback</td>\n",
       "      <td>110</td>\n",
       "      <td>128</td>\n",
       "      <td>1385</td>\n",
       "      <td>40905</td>\n",
       "    </tr>\n",
       "    <tr>\n",
       "      <th>1984</th>\n",
       "      <td>Chevrolet</td>\n",
       "      <td>Bolt EV</td>\n",
       "      <td>2017</td>\n",
       "      <td>electric</td>\n",
       "      <td>200.0</td>\n",
       "      <td>NaN</td>\n",
       "      <td>DIRECT_DRIVE</td>\n",
       "      <td>front wheel drive</td>\n",
       "      <td>4.0</td>\n",
       "      <td>Compact</td>\n",
       "      <td>4dr Hatchback</td>\n",
       "      <td>110</td>\n",
       "      <td>128</td>\n",
       "      <td>1385</td>\n",
       "      <td>36620</td>\n",
       "    </tr>\n",
       "    <tr>\n",
       "      <th>...</th>\n",
       "      <td>...</td>\n",
       "      <td>...</td>\n",
       "      <td>...</td>\n",
       "      <td>...</td>\n",
       "      <td>...</td>\n",
       "      <td>...</td>\n",
       "      <td>...</td>\n",
       "      <td>...</td>\n",
       "      <td>...</td>\n",
       "      <td>...</td>\n",
       "      <td>...</td>\n",
       "      <td>...</td>\n",
       "      <td>...</td>\n",
       "      <td>...</td>\n",
       "      <td>...</td>\n",
       "    </tr>\n",
       "    <tr>\n",
       "      <th>9853</th>\n",
       "      <td>Kia</td>\n",
       "      <td>Soul EV</td>\n",
       "      <td>2016</td>\n",
       "      <td>electric</td>\n",
       "      <td>NaN</td>\n",
       "      <td>0.0</td>\n",
       "      <td>DIRECT_DRIVE</td>\n",
       "      <td>front wheel drive</td>\n",
       "      <td>4.0</td>\n",
       "      <td>Compact</td>\n",
       "      <td>Wagon</td>\n",
       "      <td>92</td>\n",
       "      <td>120</td>\n",
       "      <td>1720</td>\n",
       "      <td>31950</td>\n",
       "    </tr>\n",
       "    <tr>\n",
       "      <th>9854</th>\n",
       "      <td>Kia</td>\n",
       "      <td>Soul EV</td>\n",
       "      <td>2016</td>\n",
       "      <td>electric</td>\n",
       "      <td>NaN</td>\n",
       "      <td>0.0</td>\n",
       "      <td>DIRECT_DRIVE</td>\n",
       "      <td>front wheel drive</td>\n",
       "      <td>4.0</td>\n",
       "      <td>Compact</td>\n",
       "      <td>Wagon</td>\n",
       "      <td>92</td>\n",
       "      <td>120</td>\n",
       "      <td>1720</td>\n",
       "      <td>35950</td>\n",
       "    </tr>\n",
       "    <tr>\n",
       "      <th>11321</th>\n",
       "      <td>Suzuki</td>\n",
       "      <td>Verona</td>\n",
       "      <td>2004</td>\n",
       "      <td>NaN</td>\n",
       "      <td>155.0</td>\n",
       "      <td>6.0</td>\n",
       "      <td>AUTOMATIC</td>\n",
       "      <td>front wheel drive</td>\n",
       "      <td>4.0</td>\n",
       "      <td>Midsize</td>\n",
       "      <td>Sedan</td>\n",
       "      <td>25</td>\n",
       "      <td>17</td>\n",
       "      <td>481</td>\n",
       "      <td>17199</td>\n",
       "    </tr>\n",
       "    <tr>\n",
       "      <th>11322</th>\n",
       "      <td>Suzuki</td>\n",
       "      <td>Verona</td>\n",
       "      <td>2004</td>\n",
       "      <td>NaN</td>\n",
       "      <td>155.0</td>\n",
       "      <td>6.0</td>\n",
       "      <td>AUTOMATIC</td>\n",
       "      <td>front wheel drive</td>\n",
       "      <td>4.0</td>\n",
       "      <td>Midsize</td>\n",
       "      <td>Sedan</td>\n",
       "      <td>25</td>\n",
       "      <td>17</td>\n",
       "      <td>481</td>\n",
       "      <td>20199</td>\n",
       "    </tr>\n",
       "    <tr>\n",
       "      <th>11323</th>\n",
       "      <td>Suzuki</td>\n",
       "      <td>Verona</td>\n",
       "      <td>2004</td>\n",
       "      <td>NaN</td>\n",
       "      <td>155.0</td>\n",
       "      <td>6.0</td>\n",
       "      <td>AUTOMATIC</td>\n",
       "      <td>front wheel drive</td>\n",
       "      <td>4.0</td>\n",
       "      <td>Midsize</td>\n",
       "      <td>Sedan</td>\n",
       "      <td>25</td>\n",
       "      <td>17</td>\n",
       "      <td>481</td>\n",
       "      <td>18499</td>\n",
       "    </tr>\n",
       "  </tbody>\n",
       "</table>\n",
       "<p>102 rows × 15 columns</p>\n",
       "</div>"
      ],
      "text/plain": [
       "            make    model  year engine_fuel_type  engine_hp  engine_cylinders  \\\n",
       "539         FIAT     500e  2015         electric        NaN               0.0   \n",
       "540         FIAT     500e  2016         electric        NaN               0.0   \n",
       "541         FIAT     500e  2017         electric        NaN               0.0   \n",
       "1983   Chevrolet  Bolt EV  2017         electric      200.0               NaN   \n",
       "1984   Chevrolet  Bolt EV  2017         electric      200.0               NaN   \n",
       "...          ...      ...   ...              ...        ...               ...   \n",
       "9853         Kia  Soul EV  2016         electric        NaN               0.0   \n",
       "9854         Kia  Soul EV  2016         electric        NaN               0.0   \n",
       "11321     Suzuki   Verona  2004              NaN      155.0               6.0   \n",
       "11322     Suzuki   Verona  2004              NaN      155.0               6.0   \n",
       "11323     Suzuki   Verona  2004              NaN      155.0               6.0   \n",
       "\n",
       "      transmission_type      driven_wheels  number_of_doors vehicle_size  \\\n",
       "539        DIRECT_DRIVE  front wheel drive              2.0      Compact   \n",
       "540        DIRECT_DRIVE  front wheel drive              2.0      Compact   \n",
       "541        DIRECT_DRIVE  front wheel drive              2.0      Compact   \n",
       "1983       DIRECT_DRIVE  front wheel drive              4.0      Compact   \n",
       "1984       DIRECT_DRIVE  front wheel drive              4.0      Compact   \n",
       "...                 ...                ...              ...          ...   \n",
       "9853       DIRECT_DRIVE  front wheel drive              4.0      Compact   \n",
       "9854       DIRECT_DRIVE  front wheel drive              4.0      Compact   \n",
       "11321         AUTOMATIC  front wheel drive              4.0      Midsize   \n",
       "11322         AUTOMATIC  front wheel drive              4.0      Midsize   \n",
       "11323         AUTOMATIC  front wheel drive              4.0      Midsize   \n",
       "\n",
       "       vehicle_style  highway_mpg  city_mpg  popularity   msrp  \n",
       "539    2dr Hatchback          108       122         819  31800  \n",
       "540    2dr Hatchback          103       121         819  31800  \n",
       "541    2dr Hatchback          103       121         819  31800  \n",
       "1983   4dr Hatchback          110       128        1385  40905  \n",
       "1984   4dr Hatchback          110       128        1385  36620  \n",
       "...              ...          ...       ...         ...    ...  \n",
       "9853           Wagon           92       120        1720  31950  \n",
       "9854           Wagon           92       120        1720  35950  \n",
       "11321          Sedan           25        17         481  17199  \n",
       "11322          Sedan           25        17         481  20199  \n",
       "11323          Sedan           25        17         481  18499  \n",
       "\n",
       "[102 rows x 15 columns]"
      ]
     },
     "execution_count": 23,
     "metadata": {},
     "output_type": "execute_result"
    }
   ],
   "source": [
    "null_data"
   ]
  },
  {
   "cell_type": "markdown",
   "id": "56061c42",
   "metadata": {},
   "source": [
    "_We see that Engine HP with `NaN` values is actually an Electric Vehicle . So, technically Electric vehicle doesn't have Engine. So we will replace the `NaN` value with 0._"
   ]
  },
  {
   "cell_type": "code",
   "execution_count": 24,
   "id": "47558e00",
   "metadata": {},
   "outputs": [],
   "source": [
    "data['engine_hp'] = data['engine_hp'].fillna(0)"
   ]
  },
  {
   "cell_type": "code",
   "execution_count": 25,
   "id": "b4bb1ec4",
   "metadata": {},
   "outputs": [
    {
     "data": {
      "text/plain": [
       "make                  0\n",
       "model                 0\n",
       "year                  0\n",
       "engine_fuel_type      3\n",
       "engine_hp             0\n",
       "engine_cylinders     30\n",
       "transmission_type     0\n",
       "driven_wheels         0\n",
       "number_of_doors       6\n",
       "vehicle_size          0\n",
       "vehicle_style         0\n",
       "highway_mpg           0\n",
       "city_mpg              0\n",
       "popularity            0\n",
       "msrp                  0\n",
       "dtype: int64"
      ]
     },
     "execution_count": 25,
     "metadata": {},
     "output_type": "execute_result"
    }
   ],
   "source": [
    "data.isnull().sum()"
   ]
  },
  {
   "cell_type": "code",
   "execution_count": 26,
   "id": "2876b390",
   "metadata": {},
   "outputs": [
    {
     "data": {
      "text/html": [
       "<div>\n",
       "<style scoped>\n",
       "    .dataframe tbody tr th:only-of-type {\n",
       "        vertical-align: middle;\n",
       "    }\n",
       "\n",
       "    .dataframe tbody tr th {\n",
       "        vertical-align: top;\n",
       "    }\n",
       "\n",
       "    .dataframe thead th {\n",
       "        text-align: right;\n",
       "    }\n",
       "</style>\n",
       "<table border=\"1\" class=\"dataframe\">\n",
       "  <thead>\n",
       "    <tr style=\"text-align: right;\">\n",
       "      <th></th>\n",
       "      <th>make</th>\n",
       "      <th>model</th>\n",
       "      <th>year</th>\n",
       "      <th>engine_fuel_type</th>\n",
       "      <th>engine_hp</th>\n",
       "      <th>engine_cylinders</th>\n",
       "      <th>transmission_type</th>\n",
       "      <th>driven_wheels</th>\n",
       "      <th>number_of_doors</th>\n",
       "      <th>vehicle_size</th>\n",
       "      <th>vehicle_style</th>\n",
       "      <th>highway_mpg</th>\n",
       "      <th>city_mpg</th>\n",
       "      <th>popularity</th>\n",
       "      <th>msrp</th>\n",
       "    </tr>\n",
       "  </thead>\n",
       "  <tbody>\n",
       "    <tr>\n",
       "      <th>1983</th>\n",
       "      <td>Chevrolet</td>\n",
       "      <td>Bolt EV</td>\n",
       "      <td>2017</td>\n",
       "      <td>electric</td>\n",
       "      <td>200.0</td>\n",
       "      <td>NaN</td>\n",
       "      <td>DIRECT_DRIVE</td>\n",
       "      <td>front wheel drive</td>\n",
       "      <td>4.0</td>\n",
       "      <td>Compact</td>\n",
       "      <td>4dr Hatchback</td>\n",
       "      <td>110</td>\n",
       "      <td>128</td>\n",
       "      <td>1385</td>\n",
       "      <td>40905</td>\n",
       "    </tr>\n",
       "    <tr>\n",
       "      <th>1984</th>\n",
       "      <td>Chevrolet</td>\n",
       "      <td>Bolt EV</td>\n",
       "      <td>2017</td>\n",
       "      <td>electric</td>\n",
       "      <td>200.0</td>\n",
       "      <td>NaN</td>\n",
       "      <td>DIRECT_DRIVE</td>\n",
       "      <td>front wheel drive</td>\n",
       "      <td>4.0</td>\n",
       "      <td>Compact</td>\n",
       "      <td>4dr Hatchback</td>\n",
       "      <td>110</td>\n",
       "      <td>128</td>\n",
       "      <td>1385</td>\n",
       "      <td>36620</td>\n",
       "    </tr>\n",
       "    <tr>\n",
       "      <th>3716</th>\n",
       "      <td>Volkswagen</td>\n",
       "      <td>e-Golf</td>\n",
       "      <td>2015</td>\n",
       "      <td>electric</td>\n",
       "      <td>115.0</td>\n",
       "      <td>NaN</td>\n",
       "      <td>DIRECT_DRIVE</td>\n",
       "      <td>front wheel drive</td>\n",
       "      <td>4.0</td>\n",
       "      <td>Compact</td>\n",
       "      <td>4dr Hatchback</td>\n",
       "      <td>105</td>\n",
       "      <td>126</td>\n",
       "      <td>873</td>\n",
       "      <td>33450</td>\n",
       "    </tr>\n",
       "    <tr>\n",
       "      <th>3717</th>\n",
       "      <td>Volkswagen</td>\n",
       "      <td>e-Golf</td>\n",
       "      <td>2015</td>\n",
       "      <td>electric</td>\n",
       "      <td>115.0</td>\n",
       "      <td>NaN</td>\n",
       "      <td>DIRECT_DRIVE</td>\n",
       "      <td>front wheel drive</td>\n",
       "      <td>4.0</td>\n",
       "      <td>Compact</td>\n",
       "      <td>4dr Hatchback</td>\n",
       "      <td>105</td>\n",
       "      <td>126</td>\n",
       "      <td>873</td>\n",
       "      <td>35445</td>\n",
       "    </tr>\n",
       "    <tr>\n",
       "      <th>3718</th>\n",
       "      <td>Volkswagen</td>\n",
       "      <td>e-Golf</td>\n",
       "      <td>2016</td>\n",
       "      <td>electric</td>\n",
       "      <td>115.0</td>\n",
       "      <td>NaN</td>\n",
       "      <td>DIRECT_DRIVE</td>\n",
       "      <td>front wheel drive</td>\n",
       "      <td>4.0</td>\n",
       "      <td>Compact</td>\n",
       "      <td>4dr Hatchback</td>\n",
       "      <td>105</td>\n",
       "      <td>126</td>\n",
       "      <td>873</td>\n",
       "      <td>28995</td>\n",
       "    </tr>\n",
       "    <tr>\n",
       "      <th>3719</th>\n",
       "      <td>Volkswagen</td>\n",
       "      <td>e-Golf</td>\n",
       "      <td>2016</td>\n",
       "      <td>electric</td>\n",
       "      <td>115.0</td>\n",
       "      <td>NaN</td>\n",
       "      <td>DIRECT_DRIVE</td>\n",
       "      <td>front wheel drive</td>\n",
       "      <td>4.0</td>\n",
       "      <td>Compact</td>\n",
       "      <td>4dr Hatchback</td>\n",
       "      <td>105</td>\n",
       "      <td>126</td>\n",
       "      <td>873</td>\n",
       "      <td>35595</td>\n",
       "    </tr>\n",
       "    <tr>\n",
       "      <th>4666</th>\n",
       "      <td>Ferrari</td>\n",
       "      <td>FF</td>\n",
       "      <td>2013</td>\n",
       "      <td>premium unleaded (required)</td>\n",
       "      <td>651.0</td>\n",
       "      <td>12.0</td>\n",
       "      <td>AUTOMATED_MANUAL</td>\n",
       "      <td>all wheel drive</td>\n",
       "      <td>NaN</td>\n",
       "      <td>Large</td>\n",
       "      <td>Coupe</td>\n",
       "      <td>16</td>\n",
       "      <td>11</td>\n",
       "      <td>2774</td>\n",
       "      <td>295000</td>\n",
       "    </tr>\n",
       "    <tr>\n",
       "      <th>5778</th>\n",
       "      <td>Mitsubishi</td>\n",
       "      <td>i-MiEV</td>\n",
       "      <td>2014</td>\n",
       "      <td>electric</td>\n",
       "      <td>0.0</td>\n",
       "      <td>NaN</td>\n",
       "      <td>DIRECT_DRIVE</td>\n",
       "      <td>rear wheel drive</td>\n",
       "      <td>4.0</td>\n",
       "      <td>Compact</td>\n",
       "      <td>4dr Hatchback</td>\n",
       "      <td>99</td>\n",
       "      <td>126</td>\n",
       "      <td>436</td>\n",
       "      <td>22995</td>\n",
       "    </tr>\n",
       "    <tr>\n",
       "      <th>5779</th>\n",
       "      <td>Mitsubishi</td>\n",
       "      <td>i-MiEV</td>\n",
       "      <td>2016</td>\n",
       "      <td>electric</td>\n",
       "      <td>66.0</td>\n",
       "      <td>NaN</td>\n",
       "      <td>DIRECT_DRIVE</td>\n",
       "      <td>rear wheel drive</td>\n",
       "      <td>4.0</td>\n",
       "      <td>Compact</td>\n",
       "      <td>4dr Hatchback</td>\n",
       "      <td>99</td>\n",
       "      <td>126</td>\n",
       "      <td>436</td>\n",
       "      <td>22995</td>\n",
       "    </tr>\n",
       "    <tr>\n",
       "      <th>5780</th>\n",
       "      <td>Mitsubishi</td>\n",
       "      <td>i-MiEV</td>\n",
       "      <td>2017</td>\n",
       "      <td>electric</td>\n",
       "      <td>66.0</td>\n",
       "      <td>NaN</td>\n",
       "      <td>DIRECT_DRIVE</td>\n",
       "      <td>rear wheel drive</td>\n",
       "      <td>4.0</td>\n",
       "      <td>Compact</td>\n",
       "      <td>4dr Hatchback</td>\n",
       "      <td>102</td>\n",
       "      <td>121</td>\n",
       "      <td>436</td>\n",
       "      <td>22995</td>\n",
       "    </tr>\n",
       "    <tr>\n",
       "      <th>6930</th>\n",
       "      <td>Tesla</td>\n",
       "      <td>Model S</td>\n",
       "      <td>2016</td>\n",
       "      <td>electric</td>\n",
       "      <td>0.0</td>\n",
       "      <td>0.0</td>\n",
       "      <td>DIRECT_DRIVE</td>\n",
       "      <td>all wheel drive</td>\n",
       "      <td>NaN</td>\n",
       "      <td>Large</td>\n",
       "      <td>Sedan</td>\n",
       "      <td>105</td>\n",
       "      <td>102</td>\n",
       "      <td>1391</td>\n",
       "      <td>79500</td>\n",
       "    </tr>\n",
       "    <tr>\n",
       "      <th>6931</th>\n",
       "      <td>Tesla</td>\n",
       "      <td>Model S</td>\n",
       "      <td>2016</td>\n",
       "      <td>electric</td>\n",
       "      <td>0.0</td>\n",
       "      <td>0.0</td>\n",
       "      <td>DIRECT_DRIVE</td>\n",
       "      <td>all wheel drive</td>\n",
       "      <td>NaN</td>\n",
       "      <td>Large</td>\n",
       "      <td>Sedan</td>\n",
       "      <td>101</td>\n",
       "      <td>98</td>\n",
       "      <td>1391</td>\n",
       "      <td>66000</td>\n",
       "    </tr>\n",
       "    <tr>\n",
       "      <th>6932</th>\n",
       "      <td>Tesla</td>\n",
       "      <td>Model S</td>\n",
       "      <td>2016</td>\n",
       "      <td>electric</td>\n",
       "      <td>0.0</td>\n",
       "      <td>0.0</td>\n",
       "      <td>DIRECT_DRIVE</td>\n",
       "      <td>all wheel drive</td>\n",
       "      <td>NaN</td>\n",
       "      <td>Large</td>\n",
       "      <td>Sedan</td>\n",
       "      <td>105</td>\n",
       "      <td>92</td>\n",
       "      <td>1391</td>\n",
       "      <td>134500</td>\n",
       "    </tr>\n",
       "    <tr>\n",
       "      <th>6933</th>\n",
       "      <td>Tesla</td>\n",
       "      <td>Model S</td>\n",
       "      <td>2016</td>\n",
       "      <td>electric</td>\n",
       "      <td>0.0</td>\n",
       "      <td>0.0</td>\n",
       "      <td>DIRECT_DRIVE</td>\n",
       "      <td>rear wheel drive</td>\n",
       "      <td>NaN</td>\n",
       "      <td>Large</td>\n",
       "      <td>Sedan</td>\n",
       "      <td>100</td>\n",
       "      <td>97</td>\n",
       "      <td>1391</td>\n",
       "      <td>74500</td>\n",
       "    </tr>\n",
       "    <tr>\n",
       "      <th>6934</th>\n",
       "      <td>Tesla</td>\n",
       "      <td>Model S</td>\n",
       "      <td>2016</td>\n",
       "      <td>electric</td>\n",
       "      <td>0.0</td>\n",
       "      <td>0.0</td>\n",
       "      <td>DIRECT_DRIVE</td>\n",
       "      <td>all wheel drive</td>\n",
       "      <td>NaN</td>\n",
       "      <td>Large</td>\n",
       "      <td>Sedan</td>\n",
       "      <td>107</td>\n",
       "      <td>101</td>\n",
       "      <td>1391</td>\n",
       "      <td>71000</td>\n",
       "    </tr>\n",
       "    <tr>\n",
       "      <th>8373</th>\n",
       "      <td>Toyota</td>\n",
       "      <td>RAV4 EV</td>\n",
       "      <td>2012</td>\n",
       "      <td>electric</td>\n",
       "      <td>154.0</td>\n",
       "      <td>NaN</td>\n",
       "      <td>DIRECT_DRIVE</td>\n",
       "      <td>front wheel drive</td>\n",
       "      <td>4.0</td>\n",
       "      <td>Midsize</td>\n",
       "      <td>4dr SUV</td>\n",
       "      <td>74</td>\n",
       "      <td>78</td>\n",
       "      <td>2031</td>\n",
       "      <td>49800</td>\n",
       "    </tr>\n",
       "    <tr>\n",
       "      <th>8695</th>\n",
       "      <td>Mazda</td>\n",
       "      <td>RX-7</td>\n",
       "      <td>1993</td>\n",
       "      <td>regular unleaded</td>\n",
       "      <td>255.0</td>\n",
       "      <td>NaN</td>\n",
       "      <td>MANUAL</td>\n",
       "      <td>rear wheel drive</td>\n",
       "      <td>2.0</td>\n",
       "      <td>Compact</td>\n",
       "      <td>Coupe</td>\n",
       "      <td>23</td>\n",
       "      <td>15</td>\n",
       "      <td>586</td>\n",
       "      <td>7523</td>\n",
       "    </tr>\n",
       "    <tr>\n",
       "      <th>8696</th>\n",
       "      <td>Mazda</td>\n",
       "      <td>RX-7</td>\n",
       "      <td>1994</td>\n",
       "      <td>regular unleaded</td>\n",
       "      <td>255.0</td>\n",
       "      <td>NaN</td>\n",
       "      <td>MANUAL</td>\n",
       "      <td>rear wheel drive</td>\n",
       "      <td>2.0</td>\n",
       "      <td>Compact</td>\n",
       "      <td>Coupe</td>\n",
       "      <td>23</td>\n",
       "      <td>15</td>\n",
       "      <td>586</td>\n",
       "      <td>8147</td>\n",
       "    </tr>\n",
       "    <tr>\n",
       "      <th>8697</th>\n",
       "      <td>Mazda</td>\n",
       "      <td>RX-7</td>\n",
       "      <td>1995</td>\n",
       "      <td>regular unleaded</td>\n",
       "      <td>255.0</td>\n",
       "      <td>NaN</td>\n",
       "      <td>MANUAL</td>\n",
       "      <td>rear wheel drive</td>\n",
       "      <td>2.0</td>\n",
       "      <td>Compact</td>\n",
       "      <td>Coupe</td>\n",
       "      <td>23</td>\n",
       "      <td>15</td>\n",
       "      <td>586</td>\n",
       "      <td>8839</td>\n",
       "    </tr>\n",
       "    <tr>\n",
       "      <th>8698</th>\n",
       "      <td>Mazda</td>\n",
       "      <td>RX-8</td>\n",
       "      <td>2009</td>\n",
       "      <td>premium unleaded (required)</td>\n",
       "      <td>232.0</td>\n",
       "      <td>NaN</td>\n",
       "      <td>MANUAL</td>\n",
       "      <td>rear wheel drive</td>\n",
       "      <td>4.0</td>\n",
       "      <td>Compact</td>\n",
       "      <td>Coupe</td>\n",
       "      <td>22</td>\n",
       "      <td>16</td>\n",
       "      <td>586</td>\n",
       "      <td>31930</td>\n",
       "    </tr>\n",
       "    <tr>\n",
       "      <th>8699</th>\n",
       "      <td>Mazda</td>\n",
       "      <td>RX-8</td>\n",
       "      <td>2009</td>\n",
       "      <td>premium unleaded (required)</td>\n",
       "      <td>212.0</td>\n",
       "      <td>NaN</td>\n",
       "      <td>AUTOMATIC</td>\n",
       "      <td>rear wheel drive</td>\n",
       "      <td>4.0</td>\n",
       "      <td>Compact</td>\n",
       "      <td>Coupe</td>\n",
       "      <td>23</td>\n",
       "      <td>16</td>\n",
       "      <td>586</td>\n",
       "      <td>26435</td>\n",
       "    </tr>\n",
       "    <tr>\n",
       "      <th>8700</th>\n",
       "      <td>Mazda</td>\n",
       "      <td>RX-8</td>\n",
       "      <td>2009</td>\n",
       "      <td>premium unleaded (required)</td>\n",
       "      <td>232.0</td>\n",
       "      <td>NaN</td>\n",
       "      <td>MANUAL</td>\n",
       "      <td>rear wheel drive</td>\n",
       "      <td>4.0</td>\n",
       "      <td>Compact</td>\n",
       "      <td>Coupe</td>\n",
       "      <td>22</td>\n",
       "      <td>16</td>\n",
       "      <td>586</td>\n",
       "      <td>27860</td>\n",
       "    </tr>\n",
       "    <tr>\n",
       "      <th>8701</th>\n",
       "      <td>Mazda</td>\n",
       "      <td>RX-8</td>\n",
       "      <td>2009</td>\n",
       "      <td>premium unleaded (required)</td>\n",
       "      <td>232.0</td>\n",
       "      <td>NaN</td>\n",
       "      <td>MANUAL</td>\n",
       "      <td>rear wheel drive</td>\n",
       "      <td>4.0</td>\n",
       "      <td>Compact</td>\n",
       "      <td>Coupe</td>\n",
       "      <td>22</td>\n",
       "      <td>16</td>\n",
       "      <td>586</td>\n",
       "      <td>31000</td>\n",
       "    </tr>\n",
       "    <tr>\n",
       "      <th>8702</th>\n",
       "      <td>Mazda</td>\n",
       "      <td>RX-8</td>\n",
       "      <td>2009</td>\n",
       "      <td>premium unleaded (required)</td>\n",
       "      <td>232.0</td>\n",
       "      <td>NaN</td>\n",
       "      <td>MANUAL</td>\n",
       "      <td>rear wheel drive</td>\n",
       "      <td>4.0</td>\n",
       "      <td>Compact</td>\n",
       "      <td>Coupe</td>\n",
       "      <td>22</td>\n",
       "      <td>16</td>\n",
       "      <td>586</td>\n",
       "      <td>26435</td>\n",
       "    </tr>\n",
       "    <tr>\n",
       "      <th>8703</th>\n",
       "      <td>Mazda</td>\n",
       "      <td>RX-8</td>\n",
       "      <td>2009</td>\n",
       "      <td>premium unleaded (required)</td>\n",
       "      <td>212.0</td>\n",
       "      <td>NaN</td>\n",
       "      <td>AUTOMATIC</td>\n",
       "      <td>rear wheel drive</td>\n",
       "      <td>4.0</td>\n",
       "      <td>Compact</td>\n",
       "      <td>Coupe</td>\n",
       "      <td>23</td>\n",
       "      <td>16</td>\n",
       "      <td>586</td>\n",
       "      <td>31700</td>\n",
       "    </tr>\n",
       "    <tr>\n",
       "      <th>8704</th>\n",
       "      <td>Mazda</td>\n",
       "      <td>RX-8</td>\n",
       "      <td>2009</td>\n",
       "      <td>premium unleaded (required)</td>\n",
       "      <td>212.0</td>\n",
       "      <td>NaN</td>\n",
       "      <td>AUTOMATIC</td>\n",
       "      <td>rear wheel drive</td>\n",
       "      <td>4.0</td>\n",
       "      <td>Compact</td>\n",
       "      <td>Coupe</td>\n",
       "      <td>23</td>\n",
       "      <td>16</td>\n",
       "      <td>586</td>\n",
       "      <td>28560</td>\n",
       "    </tr>\n",
       "    <tr>\n",
       "      <th>8705</th>\n",
       "      <td>Mazda</td>\n",
       "      <td>RX-8</td>\n",
       "      <td>2010</td>\n",
       "      <td>premium unleaded (required)</td>\n",
       "      <td>232.0</td>\n",
       "      <td>NaN</td>\n",
       "      <td>MANUAL</td>\n",
       "      <td>rear wheel drive</td>\n",
       "      <td>4.0</td>\n",
       "      <td>Compact</td>\n",
       "      <td>Coupe</td>\n",
       "      <td>22</td>\n",
       "      <td>16</td>\n",
       "      <td>586</td>\n",
       "      <td>32140</td>\n",
       "    </tr>\n",
       "    <tr>\n",
       "      <th>8706</th>\n",
       "      <td>Mazda</td>\n",
       "      <td>RX-8</td>\n",
       "      <td>2010</td>\n",
       "      <td>premium unleaded (required)</td>\n",
       "      <td>212.0</td>\n",
       "      <td>NaN</td>\n",
       "      <td>AUTOMATIC</td>\n",
       "      <td>rear wheel drive</td>\n",
       "      <td>4.0</td>\n",
       "      <td>Compact</td>\n",
       "      <td>Coupe</td>\n",
       "      <td>23</td>\n",
       "      <td>16</td>\n",
       "      <td>586</td>\n",
       "      <td>26645</td>\n",
       "    </tr>\n",
       "    <tr>\n",
       "      <th>8707</th>\n",
       "      <td>Mazda</td>\n",
       "      <td>RX-8</td>\n",
       "      <td>2010</td>\n",
       "      <td>premium unleaded (required)</td>\n",
       "      <td>212.0</td>\n",
       "      <td>NaN</td>\n",
       "      <td>AUTOMATIC</td>\n",
       "      <td>rear wheel drive</td>\n",
       "      <td>4.0</td>\n",
       "      <td>Compact</td>\n",
       "      <td>Coupe</td>\n",
       "      <td>23</td>\n",
       "      <td>16</td>\n",
       "      <td>586</td>\n",
       "      <td>32810</td>\n",
       "    </tr>\n",
       "    <tr>\n",
       "      <th>8708</th>\n",
       "      <td>Mazda</td>\n",
       "      <td>RX-8</td>\n",
       "      <td>2010</td>\n",
       "      <td>premium unleaded (required)</td>\n",
       "      <td>232.0</td>\n",
       "      <td>NaN</td>\n",
       "      <td>MANUAL</td>\n",
       "      <td>rear wheel drive</td>\n",
       "      <td>4.0</td>\n",
       "      <td>Compact</td>\n",
       "      <td>Coupe</td>\n",
       "      <td>22</td>\n",
       "      <td>16</td>\n",
       "      <td>586</td>\n",
       "      <td>26645</td>\n",
       "    </tr>\n",
       "    <tr>\n",
       "      <th>8709</th>\n",
       "      <td>Mazda</td>\n",
       "      <td>RX-8</td>\n",
       "      <td>2010</td>\n",
       "      <td>premium unleaded (required)</td>\n",
       "      <td>232.0</td>\n",
       "      <td>NaN</td>\n",
       "      <td>MANUAL</td>\n",
       "      <td>rear wheel drive</td>\n",
       "      <td>4.0</td>\n",
       "      <td>Compact</td>\n",
       "      <td>Coupe</td>\n",
       "      <td>22</td>\n",
       "      <td>16</td>\n",
       "      <td>586</td>\n",
       "      <td>32110</td>\n",
       "    </tr>\n",
       "    <tr>\n",
       "      <th>8710</th>\n",
       "      <td>Mazda</td>\n",
       "      <td>RX-8</td>\n",
       "      <td>2011</td>\n",
       "      <td>premium unleaded (required)</td>\n",
       "      <td>212.0</td>\n",
       "      <td>NaN</td>\n",
       "      <td>AUTOMATIC</td>\n",
       "      <td>rear wheel drive</td>\n",
       "      <td>4.0</td>\n",
       "      <td>Compact</td>\n",
       "      <td>Coupe</td>\n",
       "      <td>23</td>\n",
       "      <td>16</td>\n",
       "      <td>586</td>\n",
       "      <td>32960</td>\n",
       "    </tr>\n",
       "    <tr>\n",
       "      <th>8711</th>\n",
       "      <td>Mazda</td>\n",
       "      <td>RX-8</td>\n",
       "      <td>2011</td>\n",
       "      <td>premium unleaded (required)</td>\n",
       "      <td>232.0</td>\n",
       "      <td>NaN</td>\n",
       "      <td>MANUAL</td>\n",
       "      <td>rear wheel drive</td>\n",
       "      <td>4.0</td>\n",
       "      <td>Compact</td>\n",
       "      <td>Coupe</td>\n",
       "      <td>22</td>\n",
       "      <td>16</td>\n",
       "      <td>586</td>\n",
       "      <td>32260</td>\n",
       "    </tr>\n",
       "    <tr>\n",
       "      <th>8712</th>\n",
       "      <td>Mazda</td>\n",
       "      <td>RX-8</td>\n",
       "      <td>2011</td>\n",
       "      <td>premium unleaded (required)</td>\n",
       "      <td>232.0</td>\n",
       "      <td>NaN</td>\n",
       "      <td>MANUAL</td>\n",
       "      <td>rear wheel drive</td>\n",
       "      <td>4.0</td>\n",
       "      <td>Compact</td>\n",
       "      <td>Coupe</td>\n",
       "      <td>22</td>\n",
       "      <td>16</td>\n",
       "      <td>586</td>\n",
       "      <td>32290</td>\n",
       "    </tr>\n",
       "    <tr>\n",
       "      <th>8713</th>\n",
       "      <td>Mazda</td>\n",
       "      <td>RX-8</td>\n",
       "      <td>2011</td>\n",
       "      <td>premium unleaded (required)</td>\n",
       "      <td>232.0</td>\n",
       "      <td>NaN</td>\n",
       "      <td>MANUAL</td>\n",
       "      <td>rear wheel drive</td>\n",
       "      <td>4.0</td>\n",
       "      <td>Compact</td>\n",
       "      <td>Coupe</td>\n",
       "      <td>22</td>\n",
       "      <td>16</td>\n",
       "      <td>586</td>\n",
       "      <td>26795</td>\n",
       "    </tr>\n",
       "    <tr>\n",
       "      <th>8714</th>\n",
       "      <td>Mazda</td>\n",
       "      <td>RX-8</td>\n",
       "      <td>2011</td>\n",
       "      <td>premium unleaded (required)</td>\n",
       "      <td>212.0</td>\n",
       "      <td>NaN</td>\n",
       "      <td>AUTOMATIC</td>\n",
       "      <td>rear wheel drive</td>\n",
       "      <td>4.0</td>\n",
       "      <td>Compact</td>\n",
       "      <td>Coupe</td>\n",
       "      <td>23</td>\n",
       "      <td>16</td>\n",
       "      <td>586</td>\n",
       "      <td>26795</td>\n",
       "    </tr>\n",
       "    <tr>\n",
       "      <th>11321</th>\n",
       "      <td>Suzuki</td>\n",
       "      <td>Verona</td>\n",
       "      <td>2004</td>\n",
       "      <td>NaN</td>\n",
       "      <td>155.0</td>\n",
       "      <td>6.0</td>\n",
       "      <td>AUTOMATIC</td>\n",
       "      <td>front wheel drive</td>\n",
       "      <td>4.0</td>\n",
       "      <td>Midsize</td>\n",
       "      <td>Sedan</td>\n",
       "      <td>25</td>\n",
       "      <td>17</td>\n",
       "      <td>481</td>\n",
       "      <td>17199</td>\n",
       "    </tr>\n",
       "    <tr>\n",
       "      <th>11322</th>\n",
       "      <td>Suzuki</td>\n",
       "      <td>Verona</td>\n",
       "      <td>2004</td>\n",
       "      <td>NaN</td>\n",
       "      <td>155.0</td>\n",
       "      <td>6.0</td>\n",
       "      <td>AUTOMATIC</td>\n",
       "      <td>front wheel drive</td>\n",
       "      <td>4.0</td>\n",
       "      <td>Midsize</td>\n",
       "      <td>Sedan</td>\n",
       "      <td>25</td>\n",
       "      <td>17</td>\n",
       "      <td>481</td>\n",
       "      <td>20199</td>\n",
       "    </tr>\n",
       "    <tr>\n",
       "      <th>11323</th>\n",
       "      <td>Suzuki</td>\n",
       "      <td>Verona</td>\n",
       "      <td>2004</td>\n",
       "      <td>NaN</td>\n",
       "      <td>155.0</td>\n",
       "      <td>6.0</td>\n",
       "      <td>AUTOMATIC</td>\n",
       "      <td>front wheel drive</td>\n",
       "      <td>4.0</td>\n",
       "      <td>Midsize</td>\n",
       "      <td>Sedan</td>\n",
       "      <td>25</td>\n",
       "      <td>17</td>\n",
       "      <td>481</td>\n",
       "      <td>18499</td>\n",
       "    </tr>\n",
       "  </tbody>\n",
       "</table>\n",
       "</div>"
      ],
      "text/plain": [
       "             make    model  year             engine_fuel_type  engine_hp  \\\n",
       "1983    Chevrolet  Bolt EV  2017                     electric      200.0   \n",
       "1984    Chevrolet  Bolt EV  2017                     electric      200.0   \n",
       "3716   Volkswagen   e-Golf  2015                     electric      115.0   \n",
       "3717   Volkswagen   e-Golf  2015                     electric      115.0   \n",
       "3718   Volkswagen   e-Golf  2016                     electric      115.0   \n",
       "3719   Volkswagen   e-Golf  2016                     electric      115.0   \n",
       "4666      Ferrari       FF  2013  premium unleaded (required)      651.0   \n",
       "5778   Mitsubishi   i-MiEV  2014                     electric        0.0   \n",
       "5779   Mitsubishi   i-MiEV  2016                     electric       66.0   \n",
       "5780   Mitsubishi   i-MiEV  2017                     electric       66.0   \n",
       "6930        Tesla  Model S  2016                     electric        0.0   \n",
       "6931        Tesla  Model S  2016                     electric        0.0   \n",
       "6932        Tesla  Model S  2016                     electric        0.0   \n",
       "6933        Tesla  Model S  2016                     electric        0.0   \n",
       "6934        Tesla  Model S  2016                     electric        0.0   \n",
       "8373       Toyota  RAV4 EV  2012                     electric      154.0   \n",
       "8695        Mazda     RX-7  1993             regular unleaded      255.0   \n",
       "8696        Mazda     RX-7  1994             regular unleaded      255.0   \n",
       "8697        Mazda     RX-7  1995             regular unleaded      255.0   \n",
       "8698        Mazda     RX-8  2009  premium unleaded (required)      232.0   \n",
       "8699        Mazda     RX-8  2009  premium unleaded (required)      212.0   \n",
       "8700        Mazda     RX-8  2009  premium unleaded (required)      232.0   \n",
       "8701        Mazda     RX-8  2009  premium unleaded (required)      232.0   \n",
       "8702        Mazda     RX-8  2009  premium unleaded (required)      232.0   \n",
       "8703        Mazda     RX-8  2009  premium unleaded (required)      212.0   \n",
       "8704        Mazda     RX-8  2009  premium unleaded (required)      212.0   \n",
       "8705        Mazda     RX-8  2010  premium unleaded (required)      232.0   \n",
       "8706        Mazda     RX-8  2010  premium unleaded (required)      212.0   \n",
       "8707        Mazda     RX-8  2010  premium unleaded (required)      212.0   \n",
       "8708        Mazda     RX-8  2010  premium unleaded (required)      232.0   \n",
       "8709        Mazda     RX-8  2010  premium unleaded (required)      232.0   \n",
       "8710        Mazda     RX-8  2011  premium unleaded (required)      212.0   \n",
       "8711        Mazda     RX-8  2011  premium unleaded (required)      232.0   \n",
       "8712        Mazda     RX-8  2011  premium unleaded (required)      232.0   \n",
       "8713        Mazda     RX-8  2011  premium unleaded (required)      232.0   \n",
       "8714        Mazda     RX-8  2011  premium unleaded (required)      212.0   \n",
       "11321      Suzuki   Verona  2004                          NaN      155.0   \n",
       "11322      Suzuki   Verona  2004                          NaN      155.0   \n",
       "11323      Suzuki   Verona  2004                          NaN      155.0   \n",
       "\n",
       "       engine_cylinders transmission_type      driven_wheels  number_of_doors  \\\n",
       "1983                NaN      DIRECT_DRIVE  front wheel drive              4.0   \n",
       "1984                NaN      DIRECT_DRIVE  front wheel drive              4.0   \n",
       "3716                NaN      DIRECT_DRIVE  front wheel drive              4.0   \n",
       "3717                NaN      DIRECT_DRIVE  front wheel drive              4.0   \n",
       "3718                NaN      DIRECT_DRIVE  front wheel drive              4.0   \n",
       "3719                NaN      DIRECT_DRIVE  front wheel drive              4.0   \n",
       "4666               12.0  AUTOMATED_MANUAL    all wheel drive              NaN   \n",
       "5778                NaN      DIRECT_DRIVE   rear wheel drive              4.0   \n",
       "5779                NaN      DIRECT_DRIVE   rear wheel drive              4.0   \n",
       "5780                NaN      DIRECT_DRIVE   rear wheel drive              4.0   \n",
       "6930                0.0      DIRECT_DRIVE    all wheel drive              NaN   \n",
       "6931                0.0      DIRECT_DRIVE    all wheel drive              NaN   \n",
       "6932                0.0      DIRECT_DRIVE    all wheel drive              NaN   \n",
       "6933                0.0      DIRECT_DRIVE   rear wheel drive              NaN   \n",
       "6934                0.0      DIRECT_DRIVE    all wheel drive              NaN   \n",
       "8373                NaN      DIRECT_DRIVE  front wheel drive              4.0   \n",
       "8695                NaN            MANUAL   rear wheel drive              2.0   \n",
       "8696                NaN            MANUAL   rear wheel drive              2.0   \n",
       "8697                NaN            MANUAL   rear wheel drive              2.0   \n",
       "8698                NaN            MANUAL   rear wheel drive              4.0   \n",
       "8699                NaN         AUTOMATIC   rear wheel drive              4.0   \n",
       "8700                NaN            MANUAL   rear wheel drive              4.0   \n",
       "8701                NaN            MANUAL   rear wheel drive              4.0   \n",
       "8702                NaN            MANUAL   rear wheel drive              4.0   \n",
       "8703                NaN         AUTOMATIC   rear wheel drive              4.0   \n",
       "8704                NaN         AUTOMATIC   rear wheel drive              4.0   \n",
       "8705                NaN            MANUAL   rear wheel drive              4.0   \n",
       "8706                NaN         AUTOMATIC   rear wheel drive              4.0   \n",
       "8707                NaN         AUTOMATIC   rear wheel drive              4.0   \n",
       "8708                NaN            MANUAL   rear wheel drive              4.0   \n",
       "8709                NaN            MANUAL   rear wheel drive              4.0   \n",
       "8710                NaN         AUTOMATIC   rear wheel drive              4.0   \n",
       "8711                NaN            MANUAL   rear wheel drive              4.0   \n",
       "8712                NaN            MANUAL   rear wheel drive              4.0   \n",
       "8713                NaN            MANUAL   rear wheel drive              4.0   \n",
       "8714                NaN         AUTOMATIC   rear wheel drive              4.0   \n",
       "11321               6.0         AUTOMATIC  front wheel drive              4.0   \n",
       "11322               6.0         AUTOMATIC  front wheel drive              4.0   \n",
       "11323               6.0         AUTOMATIC  front wheel drive              4.0   \n",
       "\n",
       "      vehicle_size  vehicle_style  highway_mpg  city_mpg  popularity    msrp  \n",
       "1983       Compact  4dr Hatchback          110       128        1385   40905  \n",
       "1984       Compact  4dr Hatchback          110       128        1385   36620  \n",
       "3716       Compact  4dr Hatchback          105       126         873   33450  \n",
       "3717       Compact  4dr Hatchback          105       126         873   35445  \n",
       "3718       Compact  4dr Hatchback          105       126         873   28995  \n",
       "3719       Compact  4dr Hatchback          105       126         873   35595  \n",
       "4666         Large          Coupe           16        11        2774  295000  \n",
       "5778       Compact  4dr Hatchback           99       126         436   22995  \n",
       "5779       Compact  4dr Hatchback           99       126         436   22995  \n",
       "5780       Compact  4dr Hatchback          102       121         436   22995  \n",
       "6930         Large          Sedan          105       102        1391   79500  \n",
       "6931         Large          Sedan          101        98        1391   66000  \n",
       "6932         Large          Sedan          105        92        1391  134500  \n",
       "6933         Large          Sedan          100        97        1391   74500  \n",
       "6934         Large          Sedan          107       101        1391   71000  \n",
       "8373       Midsize        4dr SUV           74        78        2031   49800  \n",
       "8695       Compact          Coupe           23        15         586    7523  \n",
       "8696       Compact          Coupe           23        15         586    8147  \n",
       "8697       Compact          Coupe           23        15         586    8839  \n",
       "8698       Compact          Coupe           22        16         586   31930  \n",
       "8699       Compact          Coupe           23        16         586   26435  \n",
       "8700       Compact          Coupe           22        16         586   27860  \n",
       "8701       Compact          Coupe           22        16         586   31000  \n",
       "8702       Compact          Coupe           22        16         586   26435  \n",
       "8703       Compact          Coupe           23        16         586   31700  \n",
       "8704       Compact          Coupe           23        16         586   28560  \n",
       "8705       Compact          Coupe           22        16         586   32140  \n",
       "8706       Compact          Coupe           23        16         586   26645  \n",
       "8707       Compact          Coupe           23        16         586   32810  \n",
       "8708       Compact          Coupe           22        16         586   26645  \n",
       "8709       Compact          Coupe           22        16         586   32110  \n",
       "8710       Compact          Coupe           23        16         586   32960  \n",
       "8711       Compact          Coupe           22        16         586   32260  \n",
       "8712       Compact          Coupe           22        16         586   32290  \n",
       "8713       Compact          Coupe           22        16         586   26795  \n",
       "8714       Compact          Coupe           23        16         586   26795  \n",
       "11321      Midsize          Sedan           25        17         481   17199  \n",
       "11322      Midsize          Sedan           25        17         481   20199  \n",
       "11323      Midsize          Sedan           25        17         481   18499  "
      ]
     },
     "execution_count": 26,
     "metadata": {},
     "output_type": "execute_result"
    }
   ],
   "source": [
    "null_data = data[data.isnull().any(axis = 1)]\n",
    "null_data"
   ]
  },
  {
   "cell_type": "markdown",
   "id": "301a9c02",
   "metadata": {},
   "source": [
    "_This is the same case with Electric Vehicles - they don't have any Engine Cylinders. So, again we will replace with $0$._"
   ]
  },
  {
   "cell_type": "code",
   "execution_count": 27,
   "id": "3eb3f2a9",
   "metadata": {},
   "outputs": [],
   "source": [
    "data['engine_cylinders'] = data['engine_cylinders'].fillna(0)"
   ]
  },
  {
   "cell_type": "code",
   "execution_count": 28,
   "id": "4dece5ce",
   "metadata": {},
   "outputs": [
    {
     "data": {
      "text/plain": [
       "make                 0\n",
       "model                0\n",
       "year                 0\n",
       "engine_fuel_type     3\n",
       "engine_hp            0\n",
       "engine_cylinders     0\n",
       "transmission_type    0\n",
       "driven_wheels        0\n",
       "number_of_doors      6\n",
       "vehicle_size         0\n",
       "vehicle_style        0\n",
       "highway_mpg          0\n",
       "city_mpg             0\n",
       "popularity           0\n",
       "msrp                 0\n",
       "dtype: int64"
      ]
     },
     "execution_count": 28,
     "metadata": {},
     "output_type": "execute_result"
    }
   ],
   "source": [
    "data.isnull().sum()"
   ]
  },
  {
   "cell_type": "code",
   "execution_count": 29,
   "id": "8cc09866",
   "metadata": {},
   "outputs": [
    {
     "data": {
      "text/html": [
       "<div>\n",
       "<style scoped>\n",
       "    .dataframe tbody tr th:only-of-type {\n",
       "        vertical-align: middle;\n",
       "    }\n",
       "\n",
       "    .dataframe tbody tr th {\n",
       "        vertical-align: top;\n",
       "    }\n",
       "\n",
       "    .dataframe thead th {\n",
       "        text-align: right;\n",
       "    }\n",
       "</style>\n",
       "<table border=\"1\" class=\"dataframe\">\n",
       "  <thead>\n",
       "    <tr style=\"text-align: right;\">\n",
       "      <th></th>\n",
       "      <th>make</th>\n",
       "      <th>model</th>\n",
       "      <th>year</th>\n",
       "      <th>engine_fuel_type</th>\n",
       "      <th>engine_hp</th>\n",
       "      <th>engine_cylinders</th>\n",
       "      <th>transmission_type</th>\n",
       "      <th>driven_wheels</th>\n",
       "      <th>number_of_doors</th>\n",
       "      <th>vehicle_size</th>\n",
       "      <th>vehicle_style</th>\n",
       "      <th>highway_mpg</th>\n",
       "      <th>city_mpg</th>\n",
       "      <th>popularity</th>\n",
       "      <th>msrp</th>\n",
       "    </tr>\n",
       "  </thead>\n",
       "  <tbody>\n",
       "    <tr>\n",
       "      <th>4666</th>\n",
       "      <td>Ferrari</td>\n",
       "      <td>FF</td>\n",
       "      <td>2013</td>\n",
       "      <td>premium unleaded (required)</td>\n",
       "      <td>651.0</td>\n",
       "      <td>12.0</td>\n",
       "      <td>AUTOMATED_MANUAL</td>\n",
       "      <td>all wheel drive</td>\n",
       "      <td>NaN</td>\n",
       "      <td>Large</td>\n",
       "      <td>Coupe</td>\n",
       "      <td>16</td>\n",
       "      <td>11</td>\n",
       "      <td>2774</td>\n",
       "      <td>295000</td>\n",
       "    </tr>\n",
       "    <tr>\n",
       "      <th>6930</th>\n",
       "      <td>Tesla</td>\n",
       "      <td>Model S</td>\n",
       "      <td>2016</td>\n",
       "      <td>electric</td>\n",
       "      <td>0.0</td>\n",
       "      <td>0.0</td>\n",
       "      <td>DIRECT_DRIVE</td>\n",
       "      <td>all wheel drive</td>\n",
       "      <td>NaN</td>\n",
       "      <td>Large</td>\n",
       "      <td>Sedan</td>\n",
       "      <td>105</td>\n",
       "      <td>102</td>\n",
       "      <td>1391</td>\n",
       "      <td>79500</td>\n",
       "    </tr>\n",
       "    <tr>\n",
       "      <th>6931</th>\n",
       "      <td>Tesla</td>\n",
       "      <td>Model S</td>\n",
       "      <td>2016</td>\n",
       "      <td>electric</td>\n",
       "      <td>0.0</td>\n",
       "      <td>0.0</td>\n",
       "      <td>DIRECT_DRIVE</td>\n",
       "      <td>all wheel drive</td>\n",
       "      <td>NaN</td>\n",
       "      <td>Large</td>\n",
       "      <td>Sedan</td>\n",
       "      <td>101</td>\n",
       "      <td>98</td>\n",
       "      <td>1391</td>\n",
       "      <td>66000</td>\n",
       "    </tr>\n",
       "    <tr>\n",
       "      <th>6932</th>\n",
       "      <td>Tesla</td>\n",
       "      <td>Model S</td>\n",
       "      <td>2016</td>\n",
       "      <td>electric</td>\n",
       "      <td>0.0</td>\n",
       "      <td>0.0</td>\n",
       "      <td>DIRECT_DRIVE</td>\n",
       "      <td>all wheel drive</td>\n",
       "      <td>NaN</td>\n",
       "      <td>Large</td>\n",
       "      <td>Sedan</td>\n",
       "      <td>105</td>\n",
       "      <td>92</td>\n",
       "      <td>1391</td>\n",
       "      <td>134500</td>\n",
       "    </tr>\n",
       "    <tr>\n",
       "      <th>6933</th>\n",
       "      <td>Tesla</td>\n",
       "      <td>Model S</td>\n",
       "      <td>2016</td>\n",
       "      <td>electric</td>\n",
       "      <td>0.0</td>\n",
       "      <td>0.0</td>\n",
       "      <td>DIRECT_DRIVE</td>\n",
       "      <td>rear wheel drive</td>\n",
       "      <td>NaN</td>\n",
       "      <td>Large</td>\n",
       "      <td>Sedan</td>\n",
       "      <td>100</td>\n",
       "      <td>97</td>\n",
       "      <td>1391</td>\n",
       "      <td>74500</td>\n",
       "    </tr>\n",
       "    <tr>\n",
       "      <th>6934</th>\n",
       "      <td>Tesla</td>\n",
       "      <td>Model S</td>\n",
       "      <td>2016</td>\n",
       "      <td>electric</td>\n",
       "      <td>0.0</td>\n",
       "      <td>0.0</td>\n",
       "      <td>DIRECT_DRIVE</td>\n",
       "      <td>all wheel drive</td>\n",
       "      <td>NaN</td>\n",
       "      <td>Large</td>\n",
       "      <td>Sedan</td>\n",
       "      <td>107</td>\n",
       "      <td>101</td>\n",
       "      <td>1391</td>\n",
       "      <td>71000</td>\n",
       "    </tr>\n",
       "    <tr>\n",
       "      <th>11321</th>\n",
       "      <td>Suzuki</td>\n",
       "      <td>Verona</td>\n",
       "      <td>2004</td>\n",
       "      <td>NaN</td>\n",
       "      <td>155.0</td>\n",
       "      <td>6.0</td>\n",
       "      <td>AUTOMATIC</td>\n",
       "      <td>front wheel drive</td>\n",
       "      <td>4.0</td>\n",
       "      <td>Midsize</td>\n",
       "      <td>Sedan</td>\n",
       "      <td>25</td>\n",
       "      <td>17</td>\n",
       "      <td>481</td>\n",
       "      <td>17199</td>\n",
       "    </tr>\n",
       "    <tr>\n",
       "      <th>11322</th>\n",
       "      <td>Suzuki</td>\n",
       "      <td>Verona</td>\n",
       "      <td>2004</td>\n",
       "      <td>NaN</td>\n",
       "      <td>155.0</td>\n",
       "      <td>6.0</td>\n",
       "      <td>AUTOMATIC</td>\n",
       "      <td>front wheel drive</td>\n",
       "      <td>4.0</td>\n",
       "      <td>Midsize</td>\n",
       "      <td>Sedan</td>\n",
       "      <td>25</td>\n",
       "      <td>17</td>\n",
       "      <td>481</td>\n",
       "      <td>20199</td>\n",
       "    </tr>\n",
       "    <tr>\n",
       "      <th>11323</th>\n",
       "      <td>Suzuki</td>\n",
       "      <td>Verona</td>\n",
       "      <td>2004</td>\n",
       "      <td>NaN</td>\n",
       "      <td>155.0</td>\n",
       "      <td>6.0</td>\n",
       "      <td>AUTOMATIC</td>\n",
       "      <td>front wheel drive</td>\n",
       "      <td>4.0</td>\n",
       "      <td>Midsize</td>\n",
       "      <td>Sedan</td>\n",
       "      <td>25</td>\n",
       "      <td>17</td>\n",
       "      <td>481</td>\n",
       "      <td>18499</td>\n",
       "    </tr>\n",
       "  </tbody>\n",
       "</table>\n",
       "</div>"
      ],
      "text/plain": [
       "          make    model  year             engine_fuel_type  engine_hp  \\\n",
       "4666   Ferrari       FF  2013  premium unleaded (required)      651.0   \n",
       "6930     Tesla  Model S  2016                     electric        0.0   \n",
       "6931     Tesla  Model S  2016                     electric        0.0   \n",
       "6932     Tesla  Model S  2016                     electric        0.0   \n",
       "6933     Tesla  Model S  2016                     electric        0.0   \n",
       "6934     Tesla  Model S  2016                     electric        0.0   \n",
       "11321   Suzuki   Verona  2004                          NaN      155.0   \n",
       "11322   Suzuki   Verona  2004                          NaN      155.0   \n",
       "11323   Suzuki   Verona  2004                          NaN      155.0   \n",
       "\n",
       "       engine_cylinders transmission_type      driven_wheels  number_of_doors  \\\n",
       "4666               12.0  AUTOMATED_MANUAL    all wheel drive              NaN   \n",
       "6930                0.0      DIRECT_DRIVE    all wheel drive              NaN   \n",
       "6931                0.0      DIRECT_DRIVE    all wheel drive              NaN   \n",
       "6932                0.0      DIRECT_DRIVE    all wheel drive              NaN   \n",
       "6933                0.0      DIRECT_DRIVE   rear wheel drive              NaN   \n",
       "6934                0.0      DIRECT_DRIVE    all wheel drive              NaN   \n",
       "11321               6.0         AUTOMATIC  front wheel drive              4.0   \n",
       "11322               6.0         AUTOMATIC  front wheel drive              4.0   \n",
       "11323               6.0         AUTOMATIC  front wheel drive              4.0   \n",
       "\n",
       "      vehicle_size vehicle_style  highway_mpg  city_mpg  popularity    msrp  \n",
       "4666         Large         Coupe           16        11        2774  295000  \n",
       "6930         Large         Sedan          105       102        1391   79500  \n",
       "6931         Large         Sedan          101        98        1391   66000  \n",
       "6932         Large         Sedan          105        92        1391  134500  \n",
       "6933         Large         Sedan          100        97        1391   74500  \n",
       "6934         Large         Sedan          107       101        1391   71000  \n",
       "11321      Midsize         Sedan           25        17         481   17199  \n",
       "11322      Midsize         Sedan           25        17         481   20199  \n",
       "11323      Midsize         Sedan           25        17         481   18499  "
      ]
     },
     "execution_count": 29,
     "metadata": {},
     "output_type": "execute_result"
    }
   ],
   "source": [
    "null_data = data[data.isnull().any(axis = 1)]\n",
    "null_data"
   ]
  },
  {
   "cell_type": "markdown",
   "id": "249a67e2",
   "metadata": {},
   "source": [
    "_We know we can manually fill in the missing data for this case, but it is not the best way to do it.\n",
    "We usually have to deal with a huge amount of missing data. So we will use mode for `number_of_doors` and fill in the popular `engine_fuel_type`._"
   ]
  },
  {
   "cell_type": "code",
   "execution_count": 30,
   "id": "491bab96",
   "metadata": {},
   "outputs": [
    {
     "data": {
      "text/plain": [
       "regular unleaded                                6225\n",
       "premium unleaded (required)                     1905\n",
       "premium unleaded (recommended)                  1267\n",
       "flex-fuel (unleaded/E85)                         875\n",
       "diesel                                           146\n",
       "electric                                          66\n",
       "flex-fuel (premium unleaded required/E85)         52\n",
       "flex-fuel (premium unleaded recommended/E85)      26\n",
       "flex-fuel (unleaded/natural gas)                   6\n",
       "natural gas                                        2\n",
       "Name: engine_fuel_type, dtype: int64"
      ]
     },
     "execution_count": 30,
     "metadata": {},
     "output_type": "execute_result"
    }
   ],
   "source": [
    "data['engine_fuel_type'].value_counts()"
   ]
  },
  {
   "cell_type": "code",
   "execution_count": 31,
   "id": "4b6df728",
   "metadata": {},
   "outputs": [],
   "source": [
    "data['engine_fuel_type'] = data['engine_fuel_type'].fillna('regular unleaded')"
   ]
  },
  {
   "cell_type": "code",
   "execution_count": 32,
   "id": "43f37150",
   "metadata": {},
   "outputs": [
    {
     "data": {
      "text/plain": [
       "regular unleaded                                6228\n",
       "premium unleaded (required)                     1905\n",
       "premium unleaded (recommended)                  1267\n",
       "flex-fuel (unleaded/E85)                         875\n",
       "diesel                                           146\n",
       "electric                                          66\n",
       "flex-fuel (premium unleaded required/E85)         52\n",
       "flex-fuel (premium unleaded recommended/E85)      26\n",
       "flex-fuel (unleaded/natural gas)                   6\n",
       "natural gas                                        2\n",
       "Name: engine_fuel_type, dtype: int64"
      ]
     },
     "execution_count": 32,
     "metadata": {},
     "output_type": "execute_result"
    }
   ],
   "source": [
    "data['engine_fuel_type'].value_counts()"
   ]
  },
  {
   "cell_type": "code",
   "execution_count": 33,
   "id": "24f64dc0",
   "metadata": {},
   "outputs": [
    {
     "data": {
      "text/plain": [
       "4.0    7590\n",
       "2.0    2654\n",
       "3.0     323\n",
       "Name: number_of_doors, dtype: int64"
      ]
     },
     "execution_count": 33,
     "metadata": {},
     "output_type": "execute_result"
    }
   ],
   "source": [
    "data['number_of_doors'].value_counts()"
   ]
  },
  {
   "cell_type": "code",
   "execution_count": 34,
   "id": "badaa55f",
   "metadata": {},
   "outputs": [],
   "source": [
    "data['number_of_doors'] = data['number_of_doors'].fillna(data['number_of_doors'].mode())"
   ]
  },
  {
   "cell_type": "code",
   "execution_count": 35,
   "id": "b4cee381",
   "metadata": {},
   "outputs": [
    {
     "data": {
      "text/plain": [
       "4.0    7590\n",
       "2.0    2654\n",
       "3.0     323\n",
       "Name: number_of_doors, dtype: int64"
      ]
     },
     "execution_count": 35,
     "metadata": {},
     "output_type": "execute_result"
    }
   ],
   "source": [
    "data['number_of_doors'].value_counts()"
   ]
  },
  {
   "cell_type": "code",
   "execution_count": 36,
   "id": "4588db0d",
   "metadata": {},
   "outputs": [
    {
     "data": {
      "text/plain": [
       "make                 0\n",
       "model                0\n",
       "year                 0\n",
       "engine_fuel_type     0\n",
       "engine_hp            0\n",
       "engine_cylinders     0\n",
       "transmission_type    0\n",
       "driven_wheels        0\n",
       "number_of_doors      6\n",
       "vehicle_size         0\n",
       "vehicle_style        0\n",
       "highway_mpg          0\n",
       "city_mpg             0\n",
       "popularity           0\n",
       "msrp                 0\n",
       "dtype: int64"
      ]
     },
     "execution_count": 36,
     "metadata": {},
     "output_type": "execute_result"
    }
   ],
   "source": [
    "data.isnull().sum()"
   ]
  },
  {
   "cell_type": "markdown",
   "id": "9fb62ee4",
   "metadata": {},
   "source": [
    "_Hmm, something is not right, we still have `NaN` values in the `number_of_doors`._\n",
    "\n",
    "_Let's see why and what we can do about it._"
   ]
  },
  {
   "cell_type": "code",
   "execution_count": 37,
   "id": "43881cb8",
   "metadata": {},
   "outputs": [
    {
     "data": {
      "text/html": [
       "<div>\n",
       "<style scoped>\n",
       "    .dataframe tbody tr th:only-of-type {\n",
       "        vertical-align: middle;\n",
       "    }\n",
       "\n",
       "    .dataframe tbody tr th {\n",
       "        vertical-align: top;\n",
       "    }\n",
       "\n",
       "    .dataframe thead th {\n",
       "        text-align: right;\n",
       "    }\n",
       "</style>\n",
       "<table border=\"1\" class=\"dataframe\">\n",
       "  <thead>\n",
       "    <tr style=\"text-align: right;\">\n",
       "      <th></th>\n",
       "      <th>make</th>\n",
       "      <th>model</th>\n",
       "      <th>year</th>\n",
       "      <th>engine_fuel_type</th>\n",
       "      <th>engine_hp</th>\n",
       "      <th>engine_cylinders</th>\n",
       "      <th>transmission_type</th>\n",
       "      <th>driven_wheels</th>\n",
       "      <th>number_of_doors</th>\n",
       "      <th>vehicle_size</th>\n",
       "      <th>vehicle_style</th>\n",
       "      <th>highway_mpg</th>\n",
       "      <th>city_mpg</th>\n",
       "      <th>popularity</th>\n",
       "      <th>msrp</th>\n",
       "    </tr>\n",
       "  </thead>\n",
       "  <tbody>\n",
       "    <tr>\n",
       "      <th>4666</th>\n",
       "      <td>Ferrari</td>\n",
       "      <td>FF</td>\n",
       "      <td>2013</td>\n",
       "      <td>premium unleaded (required)</td>\n",
       "      <td>651.0</td>\n",
       "      <td>12.0</td>\n",
       "      <td>AUTOMATED_MANUAL</td>\n",
       "      <td>all wheel drive</td>\n",
       "      <td>NaN</td>\n",
       "      <td>Large</td>\n",
       "      <td>Coupe</td>\n",
       "      <td>16</td>\n",
       "      <td>11</td>\n",
       "      <td>2774</td>\n",
       "      <td>295000</td>\n",
       "    </tr>\n",
       "    <tr>\n",
       "      <th>6930</th>\n",
       "      <td>Tesla</td>\n",
       "      <td>Model S</td>\n",
       "      <td>2016</td>\n",
       "      <td>electric</td>\n",
       "      <td>0.0</td>\n",
       "      <td>0.0</td>\n",
       "      <td>DIRECT_DRIVE</td>\n",
       "      <td>all wheel drive</td>\n",
       "      <td>NaN</td>\n",
       "      <td>Large</td>\n",
       "      <td>Sedan</td>\n",
       "      <td>105</td>\n",
       "      <td>102</td>\n",
       "      <td>1391</td>\n",
       "      <td>79500</td>\n",
       "    </tr>\n",
       "    <tr>\n",
       "      <th>6931</th>\n",
       "      <td>Tesla</td>\n",
       "      <td>Model S</td>\n",
       "      <td>2016</td>\n",
       "      <td>electric</td>\n",
       "      <td>0.0</td>\n",
       "      <td>0.0</td>\n",
       "      <td>DIRECT_DRIVE</td>\n",
       "      <td>all wheel drive</td>\n",
       "      <td>NaN</td>\n",
       "      <td>Large</td>\n",
       "      <td>Sedan</td>\n",
       "      <td>101</td>\n",
       "      <td>98</td>\n",
       "      <td>1391</td>\n",
       "      <td>66000</td>\n",
       "    </tr>\n",
       "    <tr>\n",
       "      <th>6932</th>\n",
       "      <td>Tesla</td>\n",
       "      <td>Model S</td>\n",
       "      <td>2016</td>\n",
       "      <td>electric</td>\n",
       "      <td>0.0</td>\n",
       "      <td>0.0</td>\n",
       "      <td>DIRECT_DRIVE</td>\n",
       "      <td>all wheel drive</td>\n",
       "      <td>NaN</td>\n",
       "      <td>Large</td>\n",
       "      <td>Sedan</td>\n",
       "      <td>105</td>\n",
       "      <td>92</td>\n",
       "      <td>1391</td>\n",
       "      <td>134500</td>\n",
       "    </tr>\n",
       "    <tr>\n",
       "      <th>6933</th>\n",
       "      <td>Tesla</td>\n",
       "      <td>Model S</td>\n",
       "      <td>2016</td>\n",
       "      <td>electric</td>\n",
       "      <td>0.0</td>\n",
       "      <td>0.0</td>\n",
       "      <td>DIRECT_DRIVE</td>\n",
       "      <td>rear wheel drive</td>\n",
       "      <td>NaN</td>\n",
       "      <td>Large</td>\n",
       "      <td>Sedan</td>\n",
       "      <td>100</td>\n",
       "      <td>97</td>\n",
       "      <td>1391</td>\n",
       "      <td>74500</td>\n",
       "    </tr>\n",
       "    <tr>\n",
       "      <th>6934</th>\n",
       "      <td>Tesla</td>\n",
       "      <td>Model S</td>\n",
       "      <td>2016</td>\n",
       "      <td>electric</td>\n",
       "      <td>0.0</td>\n",
       "      <td>0.0</td>\n",
       "      <td>DIRECT_DRIVE</td>\n",
       "      <td>all wheel drive</td>\n",
       "      <td>NaN</td>\n",
       "      <td>Large</td>\n",
       "      <td>Sedan</td>\n",
       "      <td>107</td>\n",
       "      <td>101</td>\n",
       "      <td>1391</td>\n",
       "      <td>71000</td>\n",
       "    </tr>\n",
       "  </tbody>\n",
       "</table>\n",
       "</div>"
      ],
      "text/plain": [
       "         make    model  year             engine_fuel_type  engine_hp  \\\n",
       "4666  Ferrari       FF  2013  premium unleaded (required)      651.0   \n",
       "6930    Tesla  Model S  2016                     electric        0.0   \n",
       "6931    Tesla  Model S  2016                     electric        0.0   \n",
       "6932    Tesla  Model S  2016                     electric        0.0   \n",
       "6933    Tesla  Model S  2016                     electric        0.0   \n",
       "6934    Tesla  Model S  2016                     electric        0.0   \n",
       "\n",
       "      engine_cylinders transmission_type     driven_wheels  number_of_doors  \\\n",
       "4666              12.0  AUTOMATED_MANUAL   all wheel drive              NaN   \n",
       "6930               0.0      DIRECT_DRIVE   all wheel drive              NaN   \n",
       "6931               0.0      DIRECT_DRIVE   all wheel drive              NaN   \n",
       "6932               0.0      DIRECT_DRIVE   all wheel drive              NaN   \n",
       "6933               0.0      DIRECT_DRIVE  rear wheel drive              NaN   \n",
       "6934               0.0      DIRECT_DRIVE   all wheel drive              NaN   \n",
       "\n",
       "     vehicle_size vehicle_style  highway_mpg  city_mpg  popularity    msrp  \n",
       "4666        Large         Coupe           16        11        2774  295000  \n",
       "6930        Large         Sedan          105       102        1391   79500  \n",
       "6931        Large         Sedan          101        98        1391   66000  \n",
       "6932        Large         Sedan          105        92        1391  134500  \n",
       "6933        Large         Sedan          100        97        1391   74500  \n",
       "6934        Large         Sedan          107       101        1391   71000  "
      ]
     },
     "execution_count": 37,
     "metadata": {},
     "output_type": "execute_result"
    }
   ],
   "source": [
    "# data['number_of_doors'].isnull()\n",
    "null_data = data[data.isnull().any(axis = 1)]\n",
    "null_data"
   ]
  },
  {
   "cell_type": "code",
   "execution_count": 38,
   "id": "2488e0d5",
   "metadata": {},
   "outputs": [
    {
     "data": {
      "text/plain": [
       "<bound method NDFrame.describe of 0        2.0\n",
       "1        2.0\n",
       "2        2.0\n",
       "3        2.0\n",
       "4        2.0\n",
       "        ... \n",
       "11909    4.0\n",
       "11910    4.0\n",
       "11911    4.0\n",
       "11912    4.0\n",
       "11913    4.0\n",
       "Name: number_of_doors, Length: 10573, dtype: float64>"
      ]
     },
     "execution_count": 38,
     "metadata": {},
     "output_type": "execute_result"
    }
   ],
   "source": [
    "data['number_of_doors'].describe"
   ]
  },
  {
   "cell_type": "markdown",
   "id": "8d90d690",
   "metadata": {},
   "source": [
    "_Let's try it with `inplace=True`._"
   ]
  },
  {
   "cell_type": "code",
   "execution_count": 39,
   "id": "7d608bd2",
   "metadata": {},
   "outputs": [],
   "source": [
    "# Let's try it with inplace=True\n",
    "data['number_of_doors'].fillna(data['number_of_doors'].mode(), inplace=True)"
   ]
  },
  {
   "cell_type": "code",
   "execution_count": 40,
   "id": "20250e65",
   "metadata": {},
   "outputs": [
    {
     "data": {
      "text/plain": [
       "make                 0\n",
       "model                0\n",
       "year                 0\n",
       "engine_fuel_type     0\n",
       "engine_hp            0\n",
       "engine_cylinders     0\n",
       "transmission_type    0\n",
       "driven_wheels        0\n",
       "number_of_doors      6\n",
       "vehicle_size         0\n",
       "vehicle_style        0\n",
       "highway_mpg          0\n",
       "city_mpg             0\n",
       "popularity           0\n",
       "msrp                 0\n",
       "dtype: int64"
      ]
     },
     "execution_count": 40,
     "metadata": {},
     "output_type": "execute_result"
    }
   ],
   "source": [
    "data.isnull().sum()"
   ]
  },
  {
   "cell_type": "markdown",
   "id": "54906c87",
   "metadata": {},
   "source": [
    "_That did not work. Let's investigate._"
   ]
  },
  {
   "cell_type": "markdown",
   "id": "96e08ee5",
   "metadata": {},
   "source": [
    "_According to [this](#Pandas-Fillna-Mode) `mode()` returns series, so that is probably our problem._"
   ]
  },
  {
   "cell_type": "code",
   "execution_count": 41,
   "id": "e1a06ae4",
   "metadata": {},
   "outputs": [
    {
     "data": {
      "text/plain": [
       "0    4.0\n",
       "dtype: float64"
      ]
     },
     "execution_count": 41,
     "metadata": {},
     "output_type": "execute_result"
    }
   ],
   "source": [
    "data['number_of_doors'].mode()"
   ]
  },
  {
   "cell_type": "code",
   "execution_count": 42,
   "id": "0daff6ce",
   "metadata": {},
   "outputs": [
    {
     "name": "stdout",
     "output_type": "stream",
     "text": [
      "0    4.0\n",
      "dtype: float64\n"
     ]
    }
   ],
   "source": [
    "print(data['number_of_doors'].mode())"
   ]
  },
  {
   "cell_type": "code",
   "execution_count": 43,
   "id": "9d31b133",
   "metadata": {},
   "outputs": [
    {
     "data": {
      "text/plain": [
       "4.0"
      ]
     },
     "execution_count": 43,
     "metadata": {},
     "output_type": "execute_result"
    }
   ],
   "source": [
    "data['number_of_doors'].mode()[0]"
   ]
  },
  {
   "cell_type": "code",
   "execution_count": 44,
   "id": "8ca8ef9c",
   "metadata": {},
   "outputs": [
    {
     "data": {
      "text/plain": [
       "4.0    7590\n",
       "2.0    2654\n",
       "3.0     323\n",
       "Name: number_of_doors, dtype: int64"
      ]
     },
     "execution_count": 44,
     "metadata": {},
     "output_type": "execute_result"
    }
   ],
   "source": [
    "data['number_of_doors'].value_counts()"
   ]
  },
  {
   "cell_type": "code",
   "execution_count": 45,
   "id": "676f2501",
   "metadata": {},
   "outputs": [],
   "source": [
    "data['number_of_doors'].fillna(data['number_of_doors'].mode()[0], inplace=True)"
   ]
  },
  {
   "cell_type": "code",
   "execution_count": 46,
   "id": "efd2eda4",
   "metadata": {},
   "outputs": [
    {
     "data": {
      "text/plain": [
       "4.0    7596\n",
       "2.0    2654\n",
       "3.0     323\n",
       "Name: number_of_doors, dtype: int64"
      ]
     },
     "execution_count": 46,
     "metadata": {},
     "output_type": "execute_result"
    }
   ],
   "source": [
    "data['number_of_doors'].value_counts()"
   ]
  },
  {
   "cell_type": "code",
   "execution_count": 47,
   "id": "b2d05464",
   "metadata": {},
   "outputs": [
    {
     "data": {
      "text/plain": [
       "make                 0\n",
       "model                0\n",
       "year                 0\n",
       "engine_fuel_type     0\n",
       "engine_hp            0\n",
       "engine_cylinders     0\n",
       "transmission_type    0\n",
       "driven_wheels        0\n",
       "number_of_doors      0\n",
       "vehicle_size         0\n",
       "vehicle_style        0\n",
       "highway_mpg          0\n",
       "city_mpg             0\n",
       "popularity           0\n",
       "msrp                 0\n",
       "dtype: int64"
      ]
     },
     "execution_count": 47,
     "metadata": {},
     "output_type": "execute_result"
    }
   ],
   "source": [
    "data.isnull().sum()"
   ]
  },
  {
   "cell_type": "markdown",
   "id": "8df23685",
   "metadata": {},
   "source": [
    "_Ok, that worked, problem solved!_\n",
    "\n",
    "_Now we have `NaN` free data._"
   ]
  },
  {
   "cell_type": "markdown",
   "id": "3747bc70",
   "metadata": {},
   "source": [
    "#### Checking for duplicates"
   ]
  },
  {
   "cell_type": "code",
   "execution_count": 68,
   "id": "6f2ac168",
   "metadata": {},
   "outputs": [
    {
     "data": {
      "text/plain": [
       "'Total number of of Duplicates present in data: 715'"
      ]
     },
     "metadata": {},
     "output_type": "display_data"
    }
   ],
   "source": [
    "# Formatted output instead of print below:\n",
    "display(\"Total number of of Duplicates present in data: %s\" %df.duplicated().sum())"
   ]
  },
  {
   "cell_type": "markdown",
   "id": "137d981f",
   "metadata": {},
   "source": [
    "_If we check the original dataframe we see that we have duplicates._\n",
    "\n",
    "_However if we check our current dataframe `data`, we see that we have no duplicates._\n",
    "\n",
    "_This is because while we have been cleaning the data, dropping some columns, and filling some missing data, we have eliminated the existing duplicates in this manner._"
   ]
  },
  {
   "cell_type": "code",
   "execution_count": 69,
   "id": "f3bb6a3e",
   "metadata": {},
   "outputs": [
    {
     "data": {
      "text/plain": [
       "'Total number of of Duplicates present in data: 0'"
      ]
     },
     "metadata": {},
     "output_type": "display_data"
    }
   ],
   "source": [
    "# Formatted output instead of print below:\n",
    "display(\"Total number of of Duplicates present in data: %s\" %data.duplicated().sum())"
   ]
  },
  {
   "cell_type": "markdown",
   "id": "fb9aa5f4",
   "metadata": {},
   "source": [
    "_If we had duplicates in our current dataframe `data`, we could run the line below to remove them:_"
   ]
  },
  {
   "cell_type": "code",
   "execution_count": 70,
   "id": "3b646586",
   "metadata": {},
   "outputs": [],
   "source": [
    "data.drop_duplicates(inplace = True)"
   ]
  },
  {
   "cell_type": "markdown",
   "id": "a39e302b",
   "metadata": {},
   "source": [
    "#### Dealing with Outliers"
   ]
  },
  {
   "cell_type": "markdown",
   "id": "585060ab",
   "metadata": {},
   "source": [
    "> Box plot for outliers\n",
    "In descriptive statistics, a box plot is a method for graphically depicting groups of numerical data through their quartiles. Box plots may also have lines extending vertically from the boxes (whiskers) indicating variability outside the upper and lower quartiles, hence the terms box-and-whisker plot and box-and-whisker diagram. Outliers may be plotted as individual points.\n",
    "\n",
    "[[Reference]](#Car-Features-and-Price-Prediction---VAISHNAVI.KHILARI)"
   ]
  },
  {
   "cell_type": "code",
   "execution_count": 49,
   "id": "974eb1fe",
   "metadata": {},
   "outputs": [
    {
     "data": {
      "text/html": [
       "<div>\n",
       "<style scoped>\n",
       "    .dataframe tbody tr th:only-of-type {\n",
       "        vertical-align: middle;\n",
       "    }\n",
       "\n",
       "    .dataframe tbody tr th {\n",
       "        vertical-align: top;\n",
       "    }\n",
       "\n",
       "    .dataframe thead th {\n",
       "        text-align: right;\n",
       "    }\n",
       "</style>\n",
       "<table border=\"1\" class=\"dataframe\">\n",
       "  <thead>\n",
       "    <tr style=\"text-align: right;\">\n",
       "      <th></th>\n",
       "      <th>year</th>\n",
       "      <th>engine_hp</th>\n",
       "      <th>engine_cylinders</th>\n",
       "      <th>number_of_doors</th>\n",
       "      <th>highway_mpg</th>\n",
       "      <th>city_mpg</th>\n",
       "      <th>popularity</th>\n",
       "      <th>msrp</th>\n",
       "    </tr>\n",
       "  </thead>\n",
       "  <tbody>\n",
       "    <tr>\n",
       "      <th>count</th>\n",
       "      <td>10573.000000</td>\n",
       "      <td>10573.000000</td>\n",
       "      <td>10573.000000</td>\n",
       "      <td>10573.000000</td>\n",
       "      <td>10573.000000</td>\n",
       "      <td>10573.000000</td>\n",
       "      <td>10573.000000</td>\n",
       "      <td>1.057300e+04</td>\n",
       "    </tr>\n",
       "    <tr>\n",
       "      <th>mean</th>\n",
       "      <td>2010.941928</td>\n",
       "      <td>255.371229</td>\n",
       "      <td>5.692519</td>\n",
       "      <td>3.467417</td>\n",
       "      <td>26.532678</td>\n",
       "      <td>19.695451</td>\n",
       "      <td>1563.043696</td>\n",
       "      <td>4.310914e+04</td>\n",
       "    </tr>\n",
       "    <tr>\n",
       "      <th>std</th>\n",
       "      <td>6.967876</td>\n",
       "      <td>112.579906</td>\n",
       "      <td>1.834512</td>\n",
       "      <td>0.866627</td>\n",
       "      <td>9.096625</td>\n",
       "      <td>9.363671</td>\n",
       "      <td>1450.357547</td>\n",
       "      <td>6.292269e+04</td>\n",
       "    </tr>\n",
       "    <tr>\n",
       "      <th>min</th>\n",
       "      <td>1990.000000</td>\n",
       "      <td>0.000000</td>\n",
       "      <td>0.000000</td>\n",
       "      <td>2.000000</td>\n",
       "      <td>12.000000</td>\n",
       "      <td>7.000000</td>\n",
       "      <td>2.000000</td>\n",
       "      <td>2.000000e+03</td>\n",
       "    </tr>\n",
       "    <tr>\n",
       "      <th>25%</th>\n",
       "      <td>2007.000000</td>\n",
       "      <td>174.000000</td>\n",
       "      <td>4.000000</td>\n",
       "      <td>2.000000</td>\n",
       "      <td>22.000000</td>\n",
       "      <td>15.000000</td>\n",
       "      <td>549.000000</td>\n",
       "      <td>2.199500e+04</td>\n",
       "    </tr>\n",
       "    <tr>\n",
       "      <th>50%</th>\n",
       "      <td>2015.000000</td>\n",
       "      <td>240.000000</td>\n",
       "      <td>6.000000</td>\n",
       "      <td>4.000000</td>\n",
       "      <td>25.000000</td>\n",
       "      <td>18.000000</td>\n",
       "      <td>1385.000000</td>\n",
       "      <td>3.130000e+04</td>\n",
       "    </tr>\n",
       "    <tr>\n",
       "      <th>75%</th>\n",
       "      <td>2016.000000</td>\n",
       "      <td>305.000000</td>\n",
       "      <td>6.000000</td>\n",
       "      <td>4.000000</td>\n",
       "      <td>30.000000</td>\n",
       "      <td>22.000000</td>\n",
       "      <td>2009.000000</td>\n",
       "      <td>4.380000e+04</td>\n",
       "    </tr>\n",
       "    <tr>\n",
       "      <th>max</th>\n",
       "      <td>2017.000000</td>\n",
       "      <td>1001.000000</td>\n",
       "      <td>16.000000</td>\n",
       "      <td>4.000000</td>\n",
       "      <td>354.000000</td>\n",
       "      <td>137.000000</td>\n",
       "      <td>5657.000000</td>\n",
       "      <td>2.065902e+06</td>\n",
       "    </tr>\n",
       "  </tbody>\n",
       "</table>\n",
       "</div>"
      ],
      "text/plain": [
       "               year     engine_hp  engine_cylinders  number_of_doors  \\\n",
       "count  10573.000000  10573.000000      10573.000000     10573.000000   \n",
       "mean    2010.941928    255.371229          5.692519         3.467417   \n",
       "std        6.967876    112.579906          1.834512         0.866627   \n",
       "min     1990.000000      0.000000          0.000000         2.000000   \n",
       "25%     2007.000000    174.000000          4.000000         2.000000   \n",
       "50%     2015.000000    240.000000          6.000000         4.000000   \n",
       "75%     2016.000000    305.000000          6.000000         4.000000   \n",
       "max     2017.000000   1001.000000         16.000000         4.000000   \n",
       "\n",
       "        highway_mpg      city_mpg    popularity          msrp  \n",
       "count  10573.000000  10573.000000  10573.000000  1.057300e+04  \n",
       "mean      26.532678     19.695451   1563.043696  4.310914e+04  \n",
       "std        9.096625      9.363671   1450.357547  6.292269e+04  \n",
       "min       12.000000      7.000000      2.000000  2.000000e+03  \n",
       "25%       22.000000     15.000000    549.000000  2.199500e+04  \n",
       "50%       25.000000     18.000000   1385.000000  3.130000e+04  \n",
       "75%       30.000000     22.000000   2009.000000  4.380000e+04  \n",
       "max      354.000000    137.000000   5657.000000  2.065902e+06  "
      ]
     },
     "execution_count": 49,
     "metadata": {},
     "output_type": "execute_result"
    }
   ],
   "source": [
    "data.describe()"
   ]
  },
  {
   "cell_type": "code",
   "execution_count": 50,
   "id": "fd8b6c05",
   "metadata": {},
   "outputs": [
    {
     "data": {
      "image/png": "[encoded data removed]",
      "text/plain": [
       "<Figure size 720x720 with 9 Axes>"
      ]
     },
     "metadata": {
      "needs_background": "light"
     },
     "output_type": "display_data"
    }
   ],
   "source": [
    "data.hist(bins = 50, figsize = (10,10));"
   ]
  },
  {
   "cell_type": "code",
   "execution_count": 51,
   "id": "4fa86e69",
   "metadata": {},
   "outputs": [
    {
     "data": {
      "image/png": "[encoded data removed]",
      "text/plain": [
       "<Figure size 360x576 with 1 Axes>"
      ]
     },
     "metadata": {
      "needs_background": "light"
     },
     "output_type": "display_data"
    }
   ],
   "source": [
    "# Engine Cylinders\n",
    "plt.figure(figsize = (5,8))\n",
    "sns.boxplot(data = data, y = 'engine_cylinders');"
   ]
  },
  {
   "cell_type": "code",
   "execution_count": 52,
   "id": "858ee5f9",
   "metadata": {},
   "outputs": [
    {
     "data": {
      "image/png": "[encoded data removed]",
      "text/plain": [
       "<Figure size 360x576 with 1 Axes>"
      ]
     },
     "metadata": {
      "needs_background": "light"
     },
     "output_type": "display_data"
    }
   ],
   "source": [
    "# Engine HP\n",
    "plt.figure(figsize = (5,8))\n",
    "sns.boxplot(data = data, y = 'engine_hp');"
   ]
  },
  {
   "cell_type": "code",
   "execution_count": 53,
   "id": "ce87d8a4",
   "metadata": {},
   "outputs": [
    {
     "data": {
      "image/png": "[encoded data removed]",
      "text/plain": [
       "<Figure size 360x576 with 1 Axes>"
      ]
     },
     "metadata": {
      "needs_background": "light"
     },
     "output_type": "display_data"
    }
   ],
   "source": [
    "# Highway MPG\n",
    "plt.figure(figsize = (5,8))\n",
    "sns.boxplot(data = data, y = 'highway_mpg');"
   ]
  },
  {
   "cell_type": "code",
   "execution_count": 54,
   "id": "5bcf3299",
   "metadata": {},
   "outputs": [
    {
     "data": {
      "image/png": "[encoded data removed]",
      "text/plain": [
       "<Figure size 360x576 with 1 Axes>"
      ]
     },
     "metadata": {
      "needs_background": "light"
     },
     "output_type": "display_data"
    }
   ],
   "source": [
    "# City mpg\n",
    "plt.figure(figsize = (5,8))\n",
    "sns.boxplot(data = data, y = 'city_mpg');"
   ]
  },
  {
   "cell_type": "code",
   "execution_count": 55,
   "id": "176aa71f",
   "metadata": {},
   "outputs": [
    {
     "data": {
      "image/png": "[encoded data removed]",
      "text/plain": [
       "<Figure size 360x576 with 1 Axes>"
      ]
     },
     "metadata": {
      "needs_background": "light"
     },
     "output_type": "display_data"
    }
   ],
   "source": [
    "# Popularity\n",
    "\n",
    "plt.figure(figsize = (5,8))\n",
    "sns.boxplot(data = data, y = 'popularity');"
   ]
  },
  {
   "cell_type": "code",
   "execution_count": 56,
   "id": "0f910b6a",
   "metadata": {},
   "outputs": [
    {
     "data": {
      "image/png": "[encoded data removed]",
      "text/plain": [
       "<Figure size 360x576 with 1 Axes>"
      ]
     },
     "metadata": {
      "needs_background": "light"
     },
     "output_type": "display_data"
    }
   ],
   "source": [
    "# MSRP\n",
    "plt.figure(figsize = (5,8))\n",
    "sns.boxplot(data = data, y = 'msrp');"
   ]
  },
  {
   "cell_type": "code",
   "execution_count": 57,
   "id": "5ceda7ce",
   "metadata": {},
   "outputs": [],
   "source": [
    "# Copying data, so we can clean outliers safely.\n",
    "data_out = data.copy()"
   ]
  },
  {
   "cell_type": "code",
   "execution_count": 58,
   "id": "cf15e3f4",
   "metadata": {},
   "outputs": [],
   "source": [
    "# Reference: https://www.kaggle.com/devson/beginnersguidetoeda-prediction\n",
    "def removingoutliers(dataframe, column):\n",
    "    Q1 = dataframe[column].quantile(0.25)\n",
    "    Q3 = dataframe[column].quantile(0.75)\n",
    "    \n",
    "    IQR = Q3 - Q1\n",
    "    min = Q1 - 1.5 * IQR\n",
    "    max = Q3 + 1.5 * IQR\n",
    "    \n",
    "    df_no_outlier = dataframe[(dataframe[column] > min ) & (dataframe[column] < max)]\n",
    "        \n",
    "    return df_no_outlier"
   ]
  },
  {
   "cell_type": "markdown",
   "id": "fc877c48",
   "metadata": {},
   "source": [
    "[[Reference]](#BeginnersGuidetoEDA+Prediction---DEVSON)"
   ]
  },
  {
   "cell_type": "code",
   "execution_count": 59,
   "id": "2d6f42b9",
   "metadata": {},
   "outputs": [],
   "source": [
    "# Removing Outlier for MSRP\n",
    "data_out = removingoutliers(data_out, \"msrp\")"
   ]
  },
  {
   "cell_type": "code",
   "execution_count": 60,
   "id": "05d38556",
   "metadata": {},
   "outputs": [],
   "source": [
    "# Removing Outlier for popularity\n",
    "data_out = removingoutliers(data_out, \"popularity\")"
   ]
  },
  {
   "cell_type": "code",
   "execution_count": 61,
   "id": "ea3e3b19",
   "metadata": {},
   "outputs": [],
   "source": [
    "# Removing Outlier for city_mpg\n",
    "data_out = removingoutliers(data_out, \"city_mpg\")"
   ]
  },
  {
   "cell_type": "code",
   "execution_count": 62,
   "id": "88d561be",
   "metadata": {},
   "outputs": [],
   "source": [
    "# Removing Outlier for highway_mpg\n",
    "data_out = removingoutliers(data_out, \"highway_mpg\")"
   ]
  },
  {
   "cell_type": "code",
   "execution_count": 63,
   "id": "f9d872ed",
   "metadata": {},
   "outputs": [],
   "source": [
    "# Removing Outlier for engine_hp\n",
    "data_out = removingoutliers(data_out, \"engine_hp\")"
   ]
  },
  {
   "cell_type": "code",
   "execution_count": 64,
   "id": "69cac955",
   "metadata": {},
   "outputs": [],
   "source": [
    "# Removing Outlier for engine_cylinders\n",
    "data_out = removingoutliers(data_out, \"engine_cylinders\")"
   ]
  },
  {
   "cell_type": "code",
   "execution_count": 65,
   "id": "e2fb4ef6",
   "metadata": {},
   "outputs": [
    {
     "data": {
      "text/html": [
       "<div>\n",
       "<style scoped>\n",
       "    .dataframe tbody tr th:only-of-type {\n",
       "        vertical-align: middle;\n",
       "    }\n",
       "\n",
       "    .dataframe tbody tr th {\n",
       "        vertical-align: top;\n",
       "    }\n",
       "\n",
       "    .dataframe thead th {\n",
       "        text-align: right;\n",
       "    }\n",
       "</style>\n",
       "<table border=\"1\" class=\"dataframe\">\n",
       "  <thead>\n",
       "    <tr style=\"text-align: right;\">\n",
       "      <th></th>\n",
       "      <th>year</th>\n",
       "      <th>engine_hp</th>\n",
       "      <th>engine_cylinders</th>\n",
       "      <th>number_of_doors</th>\n",
       "      <th>highway_mpg</th>\n",
       "      <th>city_mpg</th>\n",
       "      <th>popularity</th>\n",
       "      <th>msrp</th>\n",
       "    </tr>\n",
       "  </thead>\n",
       "  <tbody>\n",
       "    <tr>\n",
       "      <th>count</th>\n",
       "      <td>8374.000000</td>\n",
       "      <td>8374.000000</td>\n",
       "      <td>8374.000000</td>\n",
       "      <td>8374.000000</td>\n",
       "      <td>8374.000000</td>\n",
       "      <td>8374.000000</td>\n",
       "      <td>8374.000000</td>\n",
       "      <td>8374.000000</td>\n",
       "    </tr>\n",
       "    <tr>\n",
       "      <th>mean</th>\n",
       "      <td>2010.507284</td>\n",
       "      <td>235.355505</td>\n",
       "      <td>5.439814</td>\n",
       "      <td>3.540005</td>\n",
       "      <td>26.224266</td>\n",
       "      <td>19.107953</td>\n",
       "      <td>1205.359326</td>\n",
       "      <td>30419.427275</td>\n",
       "    </tr>\n",
       "    <tr>\n",
       "      <th>std</th>\n",
       "      <td>7.231041</td>\n",
       "      <td>79.092849</td>\n",
       "      <td>1.395561</td>\n",
       "      <td>0.827690</td>\n",
       "      <td>5.383455</td>\n",
       "      <td>4.119591</td>\n",
       "      <td>876.403787</td>\n",
       "      <td>16159.266772</td>\n",
       "    </tr>\n",
       "    <tr>\n",
       "      <th>min</th>\n",
       "      <td>1990.000000</td>\n",
       "      <td>0.000000</td>\n",
       "      <td>3.000000</td>\n",
       "      <td>2.000000</td>\n",
       "      <td>13.000000</td>\n",
       "      <td>10.000000</td>\n",
       "      <td>21.000000</td>\n",
       "      <td>2000.000000</td>\n",
       "    </tr>\n",
       "    <tr>\n",
       "      <th>25%</th>\n",
       "      <td>2007.000000</td>\n",
       "      <td>171.000000</td>\n",
       "      <td>4.000000</td>\n",
       "      <td>4.000000</td>\n",
       "      <td>23.000000</td>\n",
       "      <td>16.000000</td>\n",
       "      <td>481.000000</td>\n",
       "      <td>21034.750000</td>\n",
       "    </tr>\n",
       "    <tr>\n",
       "      <th>50%</th>\n",
       "      <td>2015.000000</td>\n",
       "      <td>232.000000</td>\n",
       "      <td>6.000000</td>\n",
       "      <td>4.000000</td>\n",
       "      <td>26.000000</td>\n",
       "      <td>18.000000</td>\n",
       "      <td>1013.000000</td>\n",
       "      <td>29900.000000</td>\n",
       "    </tr>\n",
       "    <tr>\n",
       "      <th>75%</th>\n",
       "      <td>2016.000000</td>\n",
       "      <td>292.000000</td>\n",
       "      <td>6.000000</td>\n",
       "      <td>4.000000</td>\n",
       "      <td>30.000000</td>\n",
       "      <td>22.000000</td>\n",
       "      <td>1851.000000</td>\n",
       "      <td>40250.000000</td>\n",
       "    </tr>\n",
       "    <tr>\n",
       "      <th>max</th>\n",
       "      <td>2017.000000</td>\n",
       "      <td>469.000000</td>\n",
       "      <td>8.000000</td>\n",
       "      <td>4.000000</td>\n",
       "      <td>40.000000</td>\n",
       "      <td>30.000000</td>\n",
       "      <td>3916.000000</td>\n",
       "      <td>76400.000000</td>\n",
       "    </tr>\n",
       "  </tbody>\n",
       "</table>\n",
       "</div>"
      ],
      "text/plain": [
       "              year    engine_hp  engine_cylinders  number_of_doors  \\\n",
       "count  8374.000000  8374.000000       8374.000000      8374.000000   \n",
       "mean   2010.507284   235.355505          5.439814         3.540005   \n",
       "std       7.231041    79.092849          1.395561         0.827690   \n",
       "min    1990.000000     0.000000          3.000000         2.000000   \n",
       "25%    2007.000000   171.000000          4.000000         4.000000   \n",
       "50%    2015.000000   232.000000          6.000000         4.000000   \n",
       "75%    2016.000000   292.000000          6.000000         4.000000   \n",
       "max    2017.000000   469.000000          8.000000         4.000000   \n",
       "\n",
       "       highway_mpg     city_mpg   popularity          msrp  \n",
       "count  8374.000000  8374.000000  8374.000000   8374.000000  \n",
       "mean     26.224266    19.107953  1205.359326  30419.427275  \n",
       "std       5.383455     4.119591   876.403787  16159.266772  \n",
       "min      13.000000    10.000000    21.000000   2000.000000  \n",
       "25%      23.000000    16.000000   481.000000  21034.750000  \n",
       "50%      26.000000    18.000000  1013.000000  29900.000000  \n",
       "75%      30.000000    22.000000  1851.000000  40250.000000  \n",
       "max      40.000000    30.000000  3916.000000  76400.000000  "
      ]
     },
     "execution_count": 65,
     "metadata": {},
     "output_type": "execute_result"
    }
   ],
   "source": [
    "data_out.describe()"
   ]
  },
  {
   "cell_type": "markdown",
   "id": "077832ce",
   "metadata": {},
   "source": [
    "_This is looking good._"
   ]
  },
  {
   "cell_type": "markdown",
   "id": "026e5cfe",
   "metadata": {},
   "source": [
    "#### Data Visualization\n",
    "\n",
    "_We already have some knowledge of our data._\n",
    "\n",
    "_To gain more insights from our it, and check relationships between the features we will use the Data Visualization technique._"
   ]
  },
  {
   "cell_type": "code",
   "execution_count": 66,
   "id": "4d7ca553",
   "metadata": {},
   "outputs": [
    {
     "name": "stdout",
     "output_type": "stream",
     "text": [
      "<class 'pandas.core.frame.DataFrame'>\n",
      "Int64Index: 8374 entries, 0 to 11913\n",
      "Data columns (total 15 columns):\n",
      " #   Column             Non-Null Count  Dtype  \n",
      "---  ------             --------------  -----  \n",
      " 0   make               8374 non-null   object \n",
      " 1   model              8374 non-null   object \n",
      " 2   year               8374 non-null   int64  \n",
      " 3   engine_fuel_type   8374 non-null   object \n",
      " 4   engine_hp          8374 non-null   float64\n",
      " 5   engine_cylinders   8374 non-null   float64\n",
      " 6   transmission_type  8374 non-null   object \n",
      " 7   driven_wheels      8374 non-null   object \n",
      " 8   number_of_doors    8374 non-null   float64\n",
      " 9   vehicle_size       8374 non-null   object \n",
      " 10  vehicle_style      8374 non-null   object \n",
      " 11  highway_mpg        8374 non-null   int64  \n",
      " 12  city_mpg           8374 non-null   int64  \n",
      " 13  popularity         8374 non-null   int64  \n",
      " 14  msrp               8374 non-null   int64  \n",
      "dtypes: float64(3), int64(5), object(7)\n",
      "memory usage: 1.0+ MB\n"
     ]
    }
   ],
   "source": [
    "data_out.info()"
   ]
  },
  {
   "cell_type": "code",
   "execution_count": 73,
   "id": "b07de46b",
   "metadata": {},
   "outputs": [
    {
     "data": {
      "image/png": "[encoded data removed]",
      "text/plain": [
       "<Figure size 720x720 with 1 Axes>"
      ]
     },
     "metadata": {
      "needs_background": "light"
     },
     "output_type": "display_data"
    }
   ],
   "source": [
    "plt.figure(figsize = (10,10))\n",
    "sns.countplot(data = data_out, y = \"make\");"
   ]
  },
  {
   "cell_type": "markdown",
   "id": "bd78e8b6",
   "metadata": {},
   "source": [
    "- Chevrolet\n",
    "- Volkswagen\n",
    "- Toyota\n",
    "- Nissan\n",
    "\n",
    "_These cars has largest population, obviously they are widely used brands with average price all over the world. Premium or Luxurious cars are less populated._\n",
    "\n",
    "- HUMMER\n",
    "- Maserati\n",
    "- Alfa Romeo\n",
    "\n",
    "_Let's observe the same figure with price._"
   ]
  },
  {
   "cell_type": "code",
   "execution_count": 72,
   "id": "4f6e8e0d",
   "metadata": {},
   "outputs": [
    {
     "data": {
      "image/png": "[encoded data removed]",
      "text/plain": [
       "<Figure size 720x864 with 1 Axes>"
      ]
     },
     "metadata": {
      "needs_background": "light"
     },
     "output_type": "display_data"
    }
   ],
   "source": [
    "plt.figure(figsize = (10,12))\n",
    "sns.barplot(data = data_out, y = \"make\", x = \"msrp\");"
   ]
  },
  {
   "cell_type": "markdown",
   "id": "c4bb1e61",
   "metadata": {},
   "source": [
    "_We can clearly see that `Maserati`, `HUMMER`, `Land Rover` and `Alfa Romeo` are among the expensive cars._\n",
    "\n",
    "_Let's check the car models._"
   ]
  },
  {
   "cell_type": "code",
   "execution_count": 74,
   "id": "edcf23a5",
   "metadata": {},
   "outputs": [
    {
     "data": {
      "text/plain": [
       "Silverado 1500         156\n",
       "Tundra                 118\n",
       "Sierra 1500             90\n",
       "Frontier                76\n",
       "Accord                  73\n",
       "                      ... \n",
       "Yaris iA                 1\n",
       "7 Series                 1\n",
       "Eighty-Eight Royale      1\n",
       "Metro                    1\n",
       "G3                       1\n",
       "Name: model, Length: 688, dtype: int64"
      ]
     },
     "execution_count": 74,
     "metadata": {},
     "output_type": "execute_result"
    }
   ],
   "source": [
    "data_out[\"model\"].value_counts()"
   ]
  },
  {
   "cell_type": "markdown",
   "id": "95d5f070",
   "metadata": {},
   "source": [
    "_There are 688 unique models. This features is useless for visualization, as single brand consist of multiple models._\n",
    "\n",
    "_Let's see `engine_fuel_type`._"
   ]
  },
  {
   "cell_type": "code",
   "execution_count": null,
   "id": "73471abe",
   "metadata": {},
   "outputs": [],
   "source": []
  },
  {
   "cell_type": "code",
   "execution_count": null,
   "id": "39689c55",
   "metadata": {},
   "outputs": [],
   "source": []
  },
  {
   "cell_type": "code",
   "execution_count": null,
   "id": "fac33be6",
   "metadata": {},
   "outputs": [],
   "source": []
  },
  {
   "cell_type": "code",
   "execution_count": null,
   "id": "ce4c0266",
   "metadata": {},
   "outputs": [],
   "source": []
  },
  {
   "cell_type": "code",
   "execution_count": null,
   "id": "3a507d9a",
   "metadata": {},
   "outputs": [],
   "source": []
  },
  {
   "cell_type": "code",
   "execution_count": null,
   "id": "e87f5a14",
   "metadata": {},
   "outputs": [],
   "source": []
  },
  {
   "cell_type": "code",
   "execution_count": null,
   "id": "cd5aef8c",
   "metadata": {},
   "outputs": [],
   "source": []
  },
  {
   "cell_type": "code",
   "execution_count": null,
   "id": "906dd977",
   "metadata": {},
   "outputs": [],
   "source": []
  },
  {
   "cell_type": "code",
   "execution_count": null,
   "id": "7f039315",
   "metadata": {},
   "outputs": [],
   "source": []
  },
  {
   "cell_type": "code",
   "execution_count": null,
   "id": "2965855c",
   "metadata": {},
   "outputs": [],
   "source": []
  },
  {
   "cell_type": "code",
   "execution_count": null,
   "id": "f7664de0",
   "metadata": {},
   "outputs": [],
   "source": []
  },
  {
   "cell_type": "markdown",
   "id": "c2cf4a80",
   "metadata": {},
   "source": [
    "---"
   ]
  },
  {
   "cell_type": "markdown",
   "id": "eda31273",
   "metadata": {},
   "source": []
  },
  {
   "cell_type": "markdown",
   "id": "afb8c77c",
   "metadata": {},
   "source": []
  },
  {
   "cell_type": "markdown",
   "id": "0903536f",
   "metadata": {},
   "source": []
  },
  {
   "cell_type": "markdown",
   "id": "b643444b",
   "metadata": {},
   "source": []
  },
  {
   "cell_type": "markdown",
   "id": "bb95cd09",
   "metadata": {},
   "source": []
  },
  {
   "cell_type": "markdown",
   "id": "afad2318",
   "metadata": {},
   "source": []
  },
  {
   "cell_type": "markdown",
   "id": "7a2a1a49",
   "metadata": {},
   "source": []
  },
  {
   "cell_type": "markdown",
   "id": "c574e4d0",
   "metadata": {},
   "source": []
  },
  {
   "cell_type": "markdown",
   "id": "22d38b29",
   "metadata": {},
   "source": []
  },
  {
   "cell_type": "markdown",
   "id": "9e76be9e",
   "metadata": {},
   "source": []
  },
  {
   "cell_type": "markdown",
   "id": "901dc984",
   "metadata": {},
   "source": []
  },
  {
   "cell_type": "markdown",
   "id": "7ce226e6",
   "metadata": {},
   "source": []
  },
  {
   "cell_type": "markdown",
   "id": "62c54dff",
   "metadata": {},
   "source": [
    "---"
   ]
  },
  {
   "cell_type": "code",
   "execution_count": null,
   "id": "3dada593",
   "metadata": {},
   "outputs": [],
   "source": []
  },
  {
   "cell_type": "code",
   "execution_count": null,
   "id": "e008f7b1",
   "metadata": {},
   "outputs": [],
   "source": []
  },
  {
   "cell_type": "code",
   "execution_count": null,
   "id": "3a23d89c",
   "metadata": {},
   "outputs": [],
   "source": []
  },
  {
   "cell_type": "code",
   "execution_count": null,
   "id": "08cf22fd",
   "metadata": {},
   "outputs": [],
   "source": []
  },
  {
   "cell_type": "markdown",
   "id": "4f11a6dc",
   "metadata": {},
   "source": []
  },
  {
   "cell_type": "markdown",
   "id": "8ad0611a",
   "metadata": {},
   "source": [
    "---"
   ]
  },
  {
   "cell_type": "markdown",
   "id": "aff26217",
   "metadata": {},
   "source": [
    "## Appendix A<a id=\"AppendixA\"></a>"
   ]
  },
  {
   "cell_type": "markdown",
   "id": "5701c78a",
   "metadata": {},
   "source": [
    "### Glossary"
   ]
  },
  {
   "cell_type": "markdown",
   "id": "cda08ca4",
   "metadata": {},
   "source": [
    "- MSRP - manufacturer’s suggested retail price\n",
    "- EDA - exploratory data analysis"
   ]
  },
  {
   "cell_type": "markdown",
   "id": "f06b9cb7",
   "metadata": {},
   "source": [
    "---"
   ]
  },
  {
   "cell_type": "markdown",
   "id": "2e3f7378",
   "metadata": {},
   "source": [
    "## References <a id=\"ReferencesSection\"></a>"
   ]
  },
  {
   "cell_type": "markdown",
   "id": "d5b43109",
   "metadata": {},
   "source": [
    "### kaggle.com\n",
    "<https://www.kaggle.com/CooperUnion/cardataset>\n",
    "\n",
    "### kaggle - Car Features and MSRP\n",
    "<https://www.kaggle.com/CooperUnion/cardataset>\n",
    "\n",
    "### kaggle - Car Features and MSRP code\n",
    "<https://www.kaggle.com/CooperUnion/cardataset/code>\n",
    "\n",
    "---\n",
    "\n",
    "### Car Features and Price Prediction - VAISHNAVI.KHILARI\n",
    "<https://www.kaggle.com/vaishnavikhilari/car-features-and-price-prediction>\n",
    "\n",
    "### BeginnersGuidetoEDA+Prediction - DEVSON\n",
    "<https://www.kaggle.com/devson/beginnersguidetoeda-prediction>\n",
    "\n",
    "### linear reggresion - SAICHARAN REDDY\n",
    "<https://www.kaggle.com/sai2119/linear-reggresion>\n",
    "\n",
    "### Simple and quick EDA - BRYANB\n",
    "<https://www.kaggle.com/bryanb/simple-and-quick-eda>\n",
    "\n",
    "### XGBoost explainability with SHAP - BRYANB\n",
    "<https://www.kaggle.com/bryanb/xgboost-explainability-with-shap>\n",
    "\n",
    "### UsedCarPricePrediction - ANIRBANK\n",
    "<https://www.kaggle.com/anirbank/usedcarpriceprediction>\n",
    "\n",
    "### Car Price Prediction - JEFFREY SHIH \n",
    "<https://www.kaggle.com/jshih7/car-price-prediction>\n",
    "\n",
    "### Car Retail Price Prediction - GABRIEL ATKIN\n",
    "<https://www.kaggle.com/gcdatkin/car-retail-price-prediction>\n",
    "\n",
    "### MSRP Prediction - PHAN NGUYEN\n",
    "<https://www.kaggle.com/heolinhdam/msrp-prediction>\n",
    "\n",
    "### Car Price Prediction - OMAR22\n",
    "<https://www.kaggle.com/omar22/car-price-prediction>\n",
    "\n",
    "### Car Price Pridiction - NIKHIL SHRESTHA\n",
    "<https://www.kaggle.com/snikhil17/car-price-pridiction>\n",
    "\n",
    "### EDA on Car Price Pridiction - NIKHIL SHRESTHA\n",
    "<https://www.kaggle.com/snikhil17/eda-on-car-price-pridiction>\n",
    "\n",
    "---\n",
    "\n",
    "### Dynamic Pricing Explained: Machine Learning in Revenue Management and Pricing Optimization\n",
    "<https://www.altexsoft.com/blog/datascience/dynamic-pricing-explained-use-in-revenue-management-and-pricing-optimization/>\n",
    "\n",
    "### Argonne’s machine learning model estimates technology contributions towards MSRP\n",
    "<https://www.anl.gov/es/article/argonnes-machine-learning-model-estimates-technology-contributions-towards-msrp>\n",
    "\n",
    "### How Machine Learning is reshaping Price Optimization\n",
    "<https://tryolabs.com/blog/price-optimization-machine-learning/>\n",
    "\n",
    "---\n",
    "\n",
    "### Don't repeat yourself\n",
    "<https://en.wikipedia.org/wiki/Don%27t_repeat_yourself>\n",
    "\n",
    "### Pandas Fillna Mode\n",
    "<https://stackoverflow.com/questions/42789324/pandas-fillna-mode>\n",
    "\n",
    "### \n",
    "<>\n",
    "\n",
    "### \n",
    "<>\n",
    "\n",
    "### \n",
    "<>\n",
    "\n",
    "### \n",
    "<>\n",
    "\n",
    "### \n",
    "<>\n",
    "\n",
    "### \n",
    "<>\n",
    "\n",
    "### \n",
    "<>\n",
    "\n",
    "### \n",
    "<>\n",
    "\n",
    "### \n",
    "<>\n",
    "\n",
    "### \n",
    "<>\n",
    "\n",
    "### \n",
    "<>\n",
    "\n",
    "### \n",
    "<>\n",
    "\n",
    "### \n",
    "<>\n"
   ]
  },
  {
   "cell_type": "markdown",
   "id": "c03abe3d",
   "metadata": {},
   "source": [
    "---"
   ]
  },
  {
   "cell_type": "markdown",
   "id": "bf64ef72",
   "metadata": {},
   "source": [
    "### Pinterest - 300TD wheel base? - 1\n",
    "<https://www.pinterest.com/pin/321022279665496029/>\n",
    "\n",
    "### Pinterest - 300TD wheel base? - 2\n",
    "<https://i.pinimg.com/originals/1a/f8/8c/1af88cc04b0735e2151db4f2a4a94d4d.jpg>\n",
    "\n",
    "### Austin Powers - Live dangerously meme 1\n",
    "<https://i.kym-cdn.com/photos/images/newsfeed/000/511/991/3a5.jpg>\n",
    "\n",
    "### \n",
    "<>\n",
    "\n",
    "### \n",
    "<>\n",
    "\n",
    "### \n",
    "<>"
   ]
  },
  {
   "cell_type": "markdown",
   "id": "a77e4730",
   "metadata": {},
   "source": [
    "---"
   ]
  }
 ],
 "metadata": {
  "kernelspec": {
   "display_name": "Python 3",
   "language": "python",
   "name": "python3"
  },
  "language_info": {
   "codemirror_mode": {
    "name": "ipython",
    "version": 3
   },
   "file_extension": ".py",
   "mimetype": "text/x-python",
   "name": "python",
   "nbconvert_exporter": "python",
   "pygments_lexer": "ipython3",
   "version": "3.8.8"
  },
  "toc": {
   "base_numbering": 1,
   "nav_menu": {},
   "number_sections": true,
   "sideBar": true,
   "skip_h1_title": false,
   "title_cell": "Table of Contents",
   "title_sidebar": "Contents",
   "toc_cell": false,
   "toc_position": {},
   "toc_section_display": true,
   "toc_window_display": true
  }
 },
 "nbformat": 4,
 "nbformat_minor": 5
}
