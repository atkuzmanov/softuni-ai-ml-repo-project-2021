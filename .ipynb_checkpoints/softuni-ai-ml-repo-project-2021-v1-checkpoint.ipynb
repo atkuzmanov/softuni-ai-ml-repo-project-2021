{
 "cells": [
  {
   "cell_type": "code",
   "execution_count": 1,
   "id": "90e73a99",
   "metadata": {},
   "outputs": [],
   "source": [
    "%matplotlib inline"
   ]
  },
  {
   "cell_type": "code",
   "execution_count": 2,
   "id": "68f616c2",
   "metadata": {},
   "outputs": [],
   "source": [
    "### Imports\n",
    "import sympy\n",
    "import math\n",
    "import cmath\n",
    "import numpy as np\n",
    "import numpy.polynomial.polynomial as p\n",
    "import matplotlib.pyplot as plt\n",
    "from turtle import *\n",
    "import re\n",
    "from sympy.ntheory import discrete_log\n",
    "from matplotlib.transforms import Affine2D\n",
    "import skimage.io\n",
    "import time"
   ]
  },
  {
   "cell_type": "markdown",
   "id": "8d23f14d",
   "metadata": {},
   "source": [
    "# Cars, Features and MSRP\n",
    "---\n",
    "---\n",
    "---"
   ]
  },
  {
   "cell_type": "markdown",
   "id": "696b6483",
   "metadata": {},
   "source": [
    "<img src=\"./images/Mercedes-Benz W123 blueprints 1.jpg\" width=\"1080\"/>\n",
    "\n",
    "<div style=\"text-align: center\">Image created from the images, referenced below.</div>\n",
    "\n",
    "[[Reference]](#Pinterest---300TD-wheel-base?---1)\n",
    "\n",
    "[[Reference]](#Pinterest---300TD-wheel-base?---2)"
   ]
  },
  {
   "cell_type": "code",
   "execution_count": null,
   "id": "dfa4ce60",
   "metadata": {},
   "outputs": [],
   "source": []
  },
  {
   "cell_type": "code",
   "execution_count": null,
   "id": "505c61ee",
   "metadata": {},
   "outputs": [],
   "source": []
  },
  {
   "cell_type": "markdown",
   "id": "2b37b741",
   "metadata": {},
   "source": []
  },
  {
   "cell_type": "markdown",
   "id": "003afe30",
   "metadata": {},
   "source": []
  },
  {
   "cell_type": "markdown",
   "id": "31ca9117",
   "metadata": {},
   "source": [
    "---"
   ]
  },
  {
   "cell_type": "markdown",
   "id": "2f861f2c",
   "metadata": {},
   "source": [
    "## Appendix A<a id=\"AppendixA\"></a>"
   ]
  },
  {
   "cell_type": "markdown",
   "id": "5bdd9994",
   "metadata": {},
   "source": [
    "---"
   ]
  },
  {
   "cell_type": "markdown",
   "id": "c21f1858",
   "metadata": {},
   "source": [
    "## References <a id=\"ReferencesSection\"></a>"
   ]
  },
  {
   "cell_type": "markdown",
   "id": "8c019a64",
   "metadata": {},
   "source": [
    "### \n",
    "<>\n",
    "\n",
    "### \n",
    "<>\n",
    "\n",
    "### \n",
    "<>\n",
    "\n",
    "### \n",
    "<>\n",
    "\n",
    "### \n",
    "<>\n",
    "\n",
    "### \n",
    "<>\n",
    "\n",
    "### \n",
    "<>\n"
   ]
  },
  {
   "cell_type": "markdown",
   "id": "b8393bdc",
   "metadata": {},
   "source": [
    "---"
   ]
  },
  {
   "cell_type": "markdown",
   "id": "db54464e",
   "metadata": {},
   "source": [
    "### Pinterest - 300TD wheel base? - 1\n",
    "<https://www.pinterest.com/pin/321022279665496029/>\n",
    "\n",
    "### Pinterest - 300TD wheel base? - 2\n",
    "<https://i.pinimg.com/originals/1a/f8/8c/1af88cc04b0735e2151db4f2a4a94d4d.jpg>"
   ]
  },
  {
   "cell_type": "markdown",
   "id": "4a346f70",
   "metadata": {},
   "source": [
    "---"
   ]
  }
 ],
 "metadata": {
  "kernelspec": {
   "display_name": "Python 3",
   "language": "python",
   "name": "python3"
  },
  "language_info": {
   "codemirror_mode": {
    "name": "ipython",
    "version": 3
   },
   "file_extension": ".py",
   "mimetype": "text/x-python",
   "name": "python",
   "nbconvert_exporter": "python",
   "pygments_lexer": "ipython3",
   "version": "3.8.8"
  },
  "toc": {
   "base_numbering": 1,
   "nav_menu": {},
   "number_sections": true,
   "sideBar": true,
   "skip_h1_title": false,
   "title_cell": "Table of Contents",
   "title_sidebar": "Contents",
   "toc_cell": false,
   "toc_position": {},
   "toc_section_display": true,
   "toc_window_display": false
  }
 },
 "nbformat": 4,
 "nbformat_minor": 5
}
